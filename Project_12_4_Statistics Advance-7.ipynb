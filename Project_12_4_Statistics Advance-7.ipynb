{
 "cells": [
  {
   "cell_type": "markdown",
   "id": "9e43bca6",
   "metadata": {},
   "source": [
    "## Q1. Write a Python function that takes in two arrays of data and calculates the F-value for a variance ratio test. The function should return the F-value and the corresponding p-value for the test."
   ]
  },
  {
   "cell_type": "code",
   "execution_count": 1,
   "id": "9328c5e2",
   "metadata": {},
   "outputs": [
    {
     "name": "stdout",
     "output_type": "stream",
     "text": [
      "F-value: 2.2093023255813953\n",
      "p-value: 0.1680129241056975\n"
     ]
    }
   ],
   "source": [
    "import numpy as np\n",
    "import scipy.stats as stats\n",
    "\n",
    "def variance_ratio_test(data1, data2):\n",
    "    \"\"\"\n",
    "    Perform a variance ratio test (F-test) on two arrays of data.\n",
    "\n",
    "    Parameters:\n",
    "        data1 (array-like): The first array of data.\n",
    "        data2 (array-like): The second array of data.\n",
    "\n",
    "    Returns:\n",
    "        f_value (float): The F-value from the variance ratio test.\n",
    "        p_value (float): The p-value associated with the F-value.\n",
    "    \"\"\"\n",
    "    # Convert the input data to numpy arrays\n",
    "    data1 = np.array(data1)\n",
    "    data2 = np.array(data2)\n",
    "\n",
    "    # Perform the variance ratio test (F-test)\n",
    "    f_value, p_value = stats.f_oneway(data1, data2)\n",
    "\n",
    "    return f_value, p_value\n",
    "\n",
    "# Example usage:\n",
    "data1 = [33, 29, 34, 39, 26, 30]\n",
    "data2 = [31, 32, 25, 28, 29, 27]\n",
    "f_value, p_value = variance_ratio_test(data1, data2)\n",
    "print(\"F-value:\", f_value)\n",
    "print(\"p-value:\", p_value)"
   ]
  },
  {
   "cell_type": "markdown",
   "id": "f5cade87",
   "metadata": {},
   "source": [
    "## Q2. Given a significance level of 0.05 and the degrees of freedom for the numerator and denominator of an F-distribution, write a Python function that returns the critical F-value for a two-tailed test."
   ]
  },
  {
   "cell_type": "code",
   "execution_count": 3,
   "id": "0dbfc8fb",
   "metadata": {},
   "outputs": [
    {
     "name": "stdout",
     "output_type": "stream",
     "text": [
      "Critical F-value: 3.8586986662732143\n"
     ]
    }
   ],
   "source": [
    "import scipy.stats as stats\n",
    "\n",
    "def critical_f_value(alpha, df_num, df_den):\n",
    "    \"\"\"\n",
    "    Calculate the critical F-value for a two-tailed test.\n",
    "\n",
    "    Parameters:\n",
    "        alpha (float): The significance level.\n",
    "        df_num (int): Degrees of freedom for the numerator.\n",
    "        df_den (int): Degrees of freedom for the denominator.\n",
    "\n",
    "    Returns:\n",
    "        critical_f (float): The critical F-value for the two-tailed test.\n",
    "    \"\"\"\n",
    "    # Calculate the critical F-value using the percent point function (ppf)\n",
    "    critical_f = stats.f.ppf(1 - alpha / 2, df_num, df_den)\n",
    "\n",
    "    return critical_f\n",
    "\n",
    "# Example usage:\n",
    "alpha = 0.05\n",
    "df_num = 3 #assumption made because data is not given\n",
    "df_den = 20 #assumption made because data is not given\n",
    "critical_f = critical_f_value(alpha, df_num, df_den)\n",
    "print(\"Critical F-value:\", critical_f)\n"
   ]
  },
  {
   "cell_type": "markdown",
   "id": "98559a4c",
   "metadata": {},
   "source": [
    "## Q3. Write a Python program that generates random samples from two normal distributions with known variances and uses an F-test to determine if the variances are equal. The program should output the F- value, degrees of freedom, and p-value for the test."
   ]
  },
  {
   "cell_type": "code",
   "execution_count": 4,
   "id": "06ea4a30",
   "metadata": {},
   "outputs": [
    {
     "name": "stdout",
     "output_type": "stream",
     "text": [
      "F-value: 1.2931656024081988\n",
      "Degrees of freedom (numerator): 29\n",
      "Degrees of freedom (denominator): 29\n",
      "p-value: 0.26014167894215945\n"
     ]
    }
   ],
   "source": [
    "import numpy as np\n",
    "import scipy.stats as stats\n",
    "\n",
    "def f_test_equal_variances(sample1, sample2):\n",
    "    \"\"\"\n",
    "    Perform an F-test to compare the variances of two samples.\n",
    "\n",
    "    Parameters:\n",
    "        sample1 (array-like): The first sample data (from a normal distribution).\n",
    "        sample2 (array-like): The second sample data (from a normal distribution).\n",
    "\n",
    "    Returns:\n",
    "        f_value (float): The F-value from the F-test.\n",
    "        df_num (int): Degrees of freedom for the numerator.\n",
    "        df_den (int): Degrees of freedom for the denominator.\n",
    "        p_value (float): The p-value associated with the F-value.\n",
    "    \"\"\"\n",
    "    # Convert the input samples to numpy arrays\n",
    "    sample1 = np.array(sample1)\n",
    "    sample2 = np.array(sample2)\n",
    "\n",
    "    # Calculate the F-test statistics and p-value\n",
    "    f_value, p_value = stats.f_oneway(sample1, sample2)\n",
    "\n",
    "    # Degrees of freedom\n",
    "    df_num = len(sample1) - 1\n",
    "    df_den = len(sample2) - 1\n",
    "\n",
    "    return f_value, df_num, df_den, p_value\n",
    "\n",
    "# Example usage:\n",
    "np.random.seed(40)\n",
    "\n",
    "# Generate random samples from two normal distributions with known variances\n",
    "sample1 = np.random.normal(loc=50, scale=10, size=30)\n",
    "sample2 = np.random.normal(loc=50, scale=12, size=30)\n",
    "\n",
    "# Perform the F-test\n",
    "f_value, df_num, df_den, p_value = f_test_equal_variances(sample1, sample2)\n",
    "\n",
    "# Report the results\n",
    "print(\"F-value:\", f_value)\n",
    "print(\"Degrees of freedom (numerator):\", df_num)\n",
    "print(\"Degrees of freedom (denominator):\", df_den)\n",
    "print(\"p-value:\", p_value)"
   ]
  },
  {
   "cell_type": "markdown",
   "id": "1e0e6572",
   "metadata": {},
   "source": [
    "## Q4.The variances of two populations are known to be 10 and 15. A sample of 12 observations is taken from each population. Conduct an F-test at the 5% significance level to determine if the variances are significantly different."
   ]
  },
  {
   "cell_type": "code",
   "execution_count": 7,
   "id": "e4c1b679",
   "metadata": {},
   "outputs": [
    {
     "name": "stdout",
     "output_type": "stream",
     "text": [
      "f-value : 2.8179304699530863\n",
      "The variances of the two populations are not significantly different.\n"
     ]
    }
   ],
   "source": [
    "import scipy.stats as stats\n",
    "\n",
    "# Given data\n",
    "known_variance_1 = 10\n",
    "known_variance_2 = 15\n",
    "sample_size = 12\n",
    "alpha = 0.05\n",
    "\n",
    "# Calculate the F-statistic\n",
    "f_statistic = known_variance_1 / known_variance_2\n",
    "\n",
    "# Degrees of freedom\n",
    "df1 = sample_size - 1\n",
    "df2 = sample_size - 1\n",
    "\n",
    "# Calculate the critical F-value at the 5% significance level\n",
    "critical_f_value = stats.f.ppf(1 - alpha, df1, df2)\n",
    "\n",
    "print(\"f-value :\",critical_f_value)\n",
    "\n",
    "# Perform the F-test and check if variances are significantly different\n",
    "if f_statistic > critical_f_value or f_statistic < (1 / critical_f_value):\n",
    "    print(\"The variances of the two populations are significantly different.\")\n",
    "else:\n",
    "    print(\"The variances of the two populations are not significantly different.\")\n"
   ]
  },
  {
   "cell_type": "markdown",
   "id": "69e142bb",
   "metadata": {},
   "source": [
    "## Q5. A manufacturer claims that the variance of the diameter of a certain product is 0.005. A sample of 25 products is taken, and the sample variance is found to be 0.006. Conduct an F-test at the 1% significance level to determine if the claim is justified."
   ]
  },
  {
   "cell_type": "code",
   "execution_count": 9,
   "id": "0e594161",
   "metadata": {},
   "outputs": [
    {
     "name": "stdout",
     "output_type": "stream",
     "text": [
      "F-statistic: 1.2000\n",
      "F Critical values: 0.3371 and 2.9667\n",
      "P-value: 0.6587\n",
      "FAIL to reject null hypothesis.\n",
      "Conclusion : The variance of the diameter of the product is 0.005\n"
     ]
    }
   ],
   "source": [
    "import scipy.stats as stats\n",
    "\n",
    "# set the significance level\n",
    "alpha = 0.01\n",
    "\n",
    "# set the claimed population variance and sample variance\n",
    "sigma2 = 0.005\n",
    "s2 = 0.006\n",
    "\n",
    "# set the sample size\n",
    "n = 25\n",
    "\n",
    "# Null Hypothesis and alternate hypothesis\n",
    "null_hypothesis = \"The variance of the diameter of the product is 0.005\"\n",
    "alternate_hypothesis = \"The variance of the diameter of the product is NOT 0.005.\"\n",
    "\n",
    "# calculate the F-statistic\n",
    "F = s2 / sigma2\n",
    "\n",
    "# calculate the critical value of the F-distribution\n",
    "dfn = n - 1\n",
    "dfd = n - 1\n",
    "\n",
    "# calculate the p-value\n",
    "p_value = 2 * min(f.cdf(F, dfn, dfd), 1 - f.cdf(F, dfn, dfd))\n",
    "\n",
    "# Calculates critical values for two tailed F-test\n",
    "alpha = 0.01\n",
    "F_crit1 = f.ppf(alpha/2, dfn, dfd)\n",
    "F_crit2 = f.ppf(1-alpha/2,dfn, dfd)\n",
    "\n",
    "# print the results\n",
    "print(f\"F-statistic: {F:.4f}\")\n",
    "print(f\"F Critical values: {F_crit1:.4f} and {F_crit2:.4f}\")\n",
    "print(f\"P-value: {p_value:.4f}\")\n",
    "\n",
    "if p_value < alpha:\n",
    "    print(\"Reject null hypothesis.\")\n",
    "    print(f\"Conclusion : {alternate_hypothesis}\")\n",
    "else:\n",
    "    print(\"FAIL to reject null hypothesis.\")\n",
    "    print(f\"Conclusion : {null_hypothesis}\")"
   ]
  },
  {
   "cell_type": "markdown",
   "id": "be821bf0",
   "metadata": {},
   "source": [
    "## Q6. Write a Python function that takes in the degrees of freedom for the numerator and denominator of an F-distribution and calculates the mean and variance of the distribution. The function should return the mean and variance as a tuple."
   ]
  },
  {
   "cell_type": "code",
   "execution_count": 10,
   "id": "0fa3e0bc",
   "metadata": {},
   "outputs": [
    {
     "name": "stdout",
     "output_type": "stream",
     "text": [
      "Mean: 1.1538461538461537\n",
      "Variance: 0.8714362560516407\n"
     ]
    }
   ],
   "source": [
    "def f_distribution_mean_variance(df_num, df_den):\n",
    "    \"\"\"\n",
    "    Calculate the mean and variance of an F-distribution.\n",
    "\n",
    "    Parameters:\n",
    "        df_num (int): Degrees of freedom for the numerator.\n",
    "        df_den (int): Degrees of freedom for the denominator.\n",
    "\n",
    "    Returns:\n",
    "        mean (float): The mean of the F-distribution.\n",
    "        variance (float): The variance of the F-distribution.\n",
    "    \"\"\"\n",
    "    # Calculate the mean and variance of the F-distribution\n",
    "    mean = df_den / (df_den - 2)\n",
    "    variance = (2 * df_den**2 * (df_num + df_den - 2)) / (df_num * (df_den - 2)**2 * (df_den - 4))\n",
    "\n",
    "    return mean, variance\n",
    "\n",
    "# Example usage:\n",
    "df_num = 5\n",
    "df_den = 15\n",
    "mean, variance = f_distribution_mean_variance(df_num, df_den)\n",
    "print(\"Mean:\", mean)\n",
    "print(\"Variance:\", variance)\n"
   ]
  },
  {
   "cell_type": "markdown",
   "id": "7672e448",
   "metadata": {},
   "source": [
    "## Q7. A random sample of 10 measurements is taken from a normal population with unknown variance. The sample variance is found to be 25. Another random sample of 15 measurements is taken from another normal population with unknown variance, and the sample variance is found to be 20. Conduct an F-test at the 10% significance level to determine if the variances are significantly different."
   ]
  },
  {
   "cell_type": "code",
   "execution_count": 13,
   "id": "fe9c530a",
   "metadata": {},
   "outputs": [
    {
     "name": "stdout",
     "output_type": "stream",
     "text": [
      "f-stat :  1.25\n",
      "f_critical :  2.1638195794408634\n",
      "The variances of the two populations are not significantly different at the 10% significance level\n"
     ]
    }
   ],
   "source": [
    "n1 = 10\n",
    "n2 = 15\n",
    "df1 = n1-1\n",
    "df2= n2-2\n",
    "sample_variance_1 = 25\n",
    "sample_variance_2 = 20\n",
    "alpha =0.10\n",
    "\n",
    "#fstatistic\n",
    "f_stat = sample_variance_1/sample_variance_2\n",
    "\n",
    "#critical f value\n",
    "f_critical = stats.f.ppf(1-alpha , df1,df2)\n",
    "\n",
    "print(\"f-stat : \" , f_stat)\n",
    "print(\"f_critical : \" , f_critical)\n",
    "\n",
    "if f_stat > f_critical or f_stat < (1 / f_critical):\n",
    "    print(\"The variances of the two populations are significantly different at the 10% significance level\")\n",
    "    \n",
    "else:\n",
    "    print(\"The variances of the two populations are not significantly different at the 10% significance level\")"
   ]
  },
  {
   "cell_type": "markdown",
   "id": "5be68344",
   "metadata": {},
   "source": [
    "## Q8. The following data represent the waiting times in minutes at two different restaurants on a Saturday night: Restaurant A: 24, 25, 28, 23, 22, 20, 27; Restaurant B: 31, 33, 35, 30, 32, 36. Conduct an F-test at the 5%significance level to determine if the variances are significantly different."
   ]
  },
  {
   "cell_type": "code",
   "execution_count": 23,
   "id": "5bca7375",
   "metadata": {},
   "outputs": [
    {
     "name": "stdout",
     "output_type": "stream",
     "text": [
      "F-statistic: 1.4551907719609583\n",
      "F Critical value: 4.950288068694318\n",
      "P-value: 0.3487407873968742\n",
      "Significance Level: 0.05\n",
      "FAIL to reject null hypothesis. \n",
      "Conclusion : The Variances are not significantly different\n"
     ]
    }
   ],
   "source": [
    "from scipy.stats import f\n",
    "\n",
    "sample1=np.array([24,25,28,23,22,20,27])\n",
    "sample2=np.array([31,33,35,30,32,36])\n",
    "\n",
    "null_hypothesis= \"The Variances are not significantly different\"\n",
    "alternate_hypothesis = \"The Variances are significantly different\"\n",
    "\n",
    "alpha = 0.05\n",
    "\n",
    "# Calculate the sample variances\n",
    "var1 = np.var(sample1, ddof=1)\n",
    "var2 = np.var(sample2, ddof=1)\n",
    "\n",
    "# Calculate F-statistic\n",
    "if var1 >= var2:\n",
    "    f_statistic = var1/var2\n",
    "    dfn = len(sample1)-1\n",
    "    dfd = len(sample2)-1        \n",
    "else:\n",
    "    f_statistic = var2/var1\n",
    "    dfn = len(sample2)-1\n",
    "    dfd = len(sample1)-1\n",
    "\n",
    "# Calculating p-value\n",
    "p_value = 1 - f.cdf(f_statistic, dfn, dfd) \n",
    "\n",
    "# Calculate F-critical\n",
    "F_crit = f.ppf(1-alpha, dfn, dfd)\n",
    "\n",
    "# print the results\n",
    "print(f\"F-statistic: {f_statistic}\")\n",
    "print(f\"F Critical value: {F_crit}\")\n",
    "print(f\"P-value: {p_value}\")\n",
    "print(f\"Significance Level: {alpha}\")\n",
    "    \n",
    "#Determine if null hypothesis should be rejected\n",
    "if p_value < alpha:\n",
    "    print(\"Reject null hypothesis.\")\n",
    "    print(f\"Conclusion : {alternate_hypothesis}\")\n",
    "else:\n",
    "    print(\"FAIL to reject null hypothesis. \")\n",
    "    print(f\"Conclusion : {null_hypothesis}\")"
   ]
  },
  {
   "cell_type": "markdown",
   "id": "d1880602",
   "metadata": {},
   "source": [
    "## Q9. The following data represent the test scores of two groups of students: Group A: 80, 85, 90, 92, 87, 83; Group B: 75, 78, 82, 79, 81, 84. Conduct an F-test at the 1% significance level to determine if the variances are significantly different."
   ]
  },
  {
   "cell_type": "code",
   "execution_count": 25,
   "id": "01e60ae8",
   "metadata": {},
   "outputs": [
    {
     "name": "stdout",
     "output_type": "stream",
     "text": [
      "F-statistic: 1.9442622950819677\n",
      "F Critical value: 10.967020650907992\n",
      "P-value: 0.2415521774535344\n",
      "Significance Level: 0.01\n",
      "FAIL to reject null hypothesis. \n",
      "Conclusion : The Variances are not significantly different\n"
     ]
    }
   ],
   "source": [
    "from scipy.stats import f\n",
    "\n",
    "sample1=np.array([80,85,90,92,87,83])\n",
    "sample2=np.array([75,78,82,79,81,84])\n",
    "\n",
    "null_hypothesis= \"The Variances are not significantly different\"\n",
    "alternate_hypothesis = \"The Variances are significantly different\"\n",
    "\n",
    "alpha = 0.01\n",
    "\n",
    "#sample variances\n",
    "var1 = np.var(sample1,ddof=1)\n",
    "var2 = np.var(sample2,ddof=1)\n",
    "\n",
    "#calculating f statistic\n",
    "if var1>=var2:\n",
    "    f_stat = var1/var2\n",
    "    dfn= len(sample1) - 1\n",
    "    dfd= len(sample2) - 1\n",
    "\n",
    "else:\n",
    "    f_stat = var2/var1\n",
    "    dfn= len(sample2) - 1\n",
    "    dfd= len(sample1) - 1\n",
    "    \n",
    "#calculating the pvalue\n",
    "p_value = 1-f.cdf(f_stat,dfn,dfd)\n",
    "\n",
    "#calculate f critical\n",
    "f_crit = f.ppf(1-alpha,dfn,dfd)\n",
    "\n",
    "# print the results\n",
    "print(f\"F-statistic: {f_stat}\")\n",
    "print(f\"F Critical value: {f_crit}\")\n",
    "print(f\"P-value: {p_value}\")\n",
    "print(f\"Significance Level: {alpha}\")\n",
    "\n",
    "if p_value < alpha:\n",
    "    print(\"Reject null hypothesis.\")\n",
    "    print(f\"Conclusion : {alternate_hypothesis}\")\n",
    "else:\n",
    "    print(\"FAIL to reject null hypothesis. \")\n",
    "    print(f\"Conclusion : {null_hypothesis}\")"
   ]
  }
 ],
 "metadata": {
  "kernelspec": {
   "display_name": "Python 3 (ipykernel)",
   "language": "python",
   "name": "python3"
  },
  "language_info": {
   "codemirror_mode": {
    "name": "ipython",
    "version": 3
   },
   "file_extension": ".py",
   "mimetype": "text/x-python",
   "name": "python",
   "nbconvert_exporter": "python",
   "pygments_lexer": "ipython3",
   "version": "3.10.9"
  }
 },
 "nbformat": 4,
 "nbformat_minor": 5
}
