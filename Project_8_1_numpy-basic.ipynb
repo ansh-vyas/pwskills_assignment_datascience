{
 "cells": [
  {
   "cell_type": "markdown",
   "id": "277485ed-96a8-4a2f-b242-bf642b23525d",
   "metadata": {},
   "source": [
    "#### Consider the below code to answer further questions:\n",
    "<br>import numpy as np\n",
    "<br>list_ = [ ‘1’ , ’2’ , ‘3’ , ‘4’ , ‘5’ ]\n",
    "<br>array_list = np.array(object = list_)"
   ]
  },
  {
   "cell_type": "markdown",
   "id": "bb19cd53-0efc-4ea9-b552-09be654eebff",
   "metadata": {},
   "source": [
    "### Q1. Is there any difference in the data type of variables list_ and array_list? If there is then write a code to print the data types of both the variables."
   ]
  },
  {
   "cell_type": "code",
   "execution_count": 1,
   "id": "55d2030d-a561-4cb0-8a29-13595e21d168",
   "metadata": {},
   "outputs": [],
   "source": [
    "import numpy as np\n",
    "list_ = [ '1' , '2' , '3' , '4' , '5' ]\n",
    "array_list = np.array(object = list_)"
   ]
  },
  {
   "cell_type": "code",
   "execution_count": 2,
   "id": "7890025c-2367-4a10-8f7b-5cadbd7b8df3",
   "metadata": {},
   "outputs": [
    {
     "name": "stdout",
     "output_type": "stream",
     "text": [
      "Type of list_ Variable :  <class 'list'>\n",
      "Type of array_list Variable :  <class 'numpy.ndarray'>\n",
      "Data Type of elements in array_list Variable :  <U1\n"
     ]
    }
   ],
   "source": [
    "print(\"Type of list_ Variable : \",type(list_))\n",
    "print(\"Type of array_list Variable : \",type(array_list))\n",
    "print(\"Data Type of elements in array_list Variable : \",array_list.dtype)"
   ]
  },
  {
   "cell_type": "markdown",
   "id": "ed64bc24-9c8a-4f60-a253-34f703c99a95",
   "metadata": {},
   "source": [
    "### Q2. Write a code to print the data type of each and every element of both the variables list_ and array_list."
   ]
  },
  {
   "cell_type": "code",
   "execution_count": 3,
   "id": "7f085a4f-e905-49ab-b628-73011edfb51f",
   "metadata": {},
   "outputs": [
    {
     "name": "stdout",
     "output_type": "stream",
     "text": [
      "Type of list_ 1 Variable : <class 'str'>\n",
      "Type of list_ 2 Variable : <class 'str'>\n",
      "Type of list_ 3 Variable : <class 'str'>\n",
      "Type of list_ 4 Variable : <class 'str'>\n",
      "Type of list_ 5 Variable : <class 'str'>\n",
      "Type of array_list 1 Variable : <class 'numpy.str_'>\n",
      "Type of array_list 2 Variable : <class 'numpy.str_'>\n",
      "Type of array_list 3 Variable : <class 'numpy.str_'>\n",
      "Type of array_list 4 Variable : <class 'numpy.str_'>\n",
      "Type of array_list 5 Variable : <class 'numpy.str_'>\n"
     ]
    }
   ],
   "source": [
    "for i in list_:\n",
    "    print(f\"Type of list_ {i} Variable : {type(i)}\")\n",
    "    \n",
    "for j in array_list:\n",
    "    print(f\"Type of array_list {j} Variable : {type(j)}\")"
   ]
  },
  {
   "cell_type": "markdown",
   "id": "380d31b2-3365-4521-aaf6-ae46c0034b30",
   "metadata": {},
   "source": [
    "### Q3. Considering the following changes in the variable, array_list:<br>array_list = np.array(object = list_, dtype = int) <br>Will there be any difference in the data type of the elements present in both the variables, list_ and array_list? If so then print the data types of each and every element present in both the variables, list_ and array_list.\n",
    "<br>Consider the below code to answer further questions:\n",
    "<br>import numpy as np\n",
    "<br>num_list = [ [ 1 , 2 , 3 ] , [ 4 , 5 , 6 ] ]\n",
    "<br>num_array = np.array(object = num_list)"
   ]
  },
  {
   "cell_type": "code",
   "execution_count": 4,
   "id": "01c2c0c7-842a-4e0d-bc7c-92a5ca31acad",
   "metadata": {},
   "outputs": [],
   "source": [
    "import numpy as np\n",
    "num_list = [ [ 1 , 2 , 3 ] , [ 4 , 5 , 6 ] ]\n",
    "num_array = np.array(object = num_list)\n",
    "array_list = np.array(object=list_,dtype=int)"
   ]
  },
  {
   "cell_type": "code",
   "execution_count": 5,
   "id": "5b480b03-4b4b-4dd3-a1ad-45cd822bff93",
   "metadata": {},
   "outputs": [
    {
     "name": "stdout",
     "output_type": "stream",
     "text": [
      "Type of list_ 1 Variable : <class 'str'>\n",
      "Type of list_ 2 Variable : <class 'str'>\n",
      "Type of list_ 3 Variable : <class 'str'>\n",
      "Type of list_ 4 Variable : <class 'str'>\n",
      "Type of list_ 5 Variable : <class 'str'>\n",
      "Type of array_list 1 Variable : <class 'numpy.int64'>\n",
      "Type of array_list 2 Variable : <class 'numpy.int64'>\n",
      "Type of array_list 3 Variable : <class 'numpy.int64'>\n",
      "Type of array_list 4 Variable : <class 'numpy.int64'>\n",
      "Type of array_list 5 Variable : <class 'numpy.int64'>\n"
     ]
    }
   ],
   "source": [
    "for i in list_:\n",
    "    print(f\"Type of list_ {i} Variable : {type(i)}\")\n",
    "    \n",
    "for j in array_list:\n",
    "    print(f\"Type of array_list {j} Variable : {type(j)}\")"
   ]
  },
  {
   "cell_type": "markdown",
   "id": "aeb45c88-2bc0-4534-9af5-de3b997fa527",
   "metadata": {},
   "source": [
    "### Q4. Write a code to find the following characteristics of variable, num_array:\n",
    "(i) shape\n",
    "<br>(ii) size"
   ]
  },
  {
   "cell_type": "markdown",
   "id": "59611efd-4244-4b6f-96b8-59ce5745eae5",
   "metadata": {},
   "source": [
    "##### shape attribute:\n",
    "The shape attribute of a NumPy array returns a tuple representing the dimensions of the array.\n",
    "<br>It provides the number of elements along each axis (dimension) of the array.\n",
    "<br>The length of the shape tuple corresponds to the number of dimensions (axes) of the array.\n",
    "<br>The shape attribute is helpful in understanding the structure and dimensions of multi-dimensional arrays.\n",
    "<br>The shape attribute can be accessed using the .shape notation.\n",
    "\n",
    "##### size attribute:\n",
    "The size attribute of a NumPy array returns the total number of elements present in the array.\n",
    "<br>It represents the total size or length of the array when considering all its dimensions.\n",
    "<br>The size attribute is similar to the len() function used for Python lists, but it works on multi-dimensional arrays as well.\n",
    "<br>It is a scalar value (integer) representing the total count of elements in the array.\n",
    "<br>The size attribute can be accessed using the .size notation."
   ]
  },
  {
   "cell_type": "code",
   "execution_count": 6,
   "id": "f36f4223-e12e-4d2d-ae93-3b044c87c3d2",
   "metadata": {
    "tags": []
   },
   "outputs": [
    {
     "data": {
      "text/plain": [
       "array([[1, 2, 3],\n",
       "       [4, 5, 6]])"
      ]
     },
     "execution_count": 6,
     "metadata": {},
     "output_type": "execute_result"
    }
   ],
   "source": [
    "num_array"
   ]
  },
  {
   "cell_type": "code",
   "execution_count": 7,
   "id": "8536a753-ef1a-4e1c-8d33-0e904f79a69c",
   "metadata": {},
   "outputs": [
    {
     "data": {
      "text/plain": [
       "(2, 3)"
      ]
     },
     "execution_count": 7,
     "metadata": {},
     "output_type": "execute_result"
    }
   ],
   "source": [
    "num_array.shape"
   ]
  },
  {
   "cell_type": "code",
   "execution_count": 8,
   "id": "9c6bd514-046a-48c1-ba68-4518cd26f45e",
   "metadata": {},
   "outputs": [
    {
     "data": {
      "text/plain": [
       "6"
      ]
     },
     "execution_count": 8,
     "metadata": {},
     "output_type": "execute_result"
    }
   ],
   "source": [
    "num_array.size"
   ]
  },
  {
   "cell_type": "markdown",
   "id": "66d1d606-6e5a-4be1-9cf4-6b08c8db5b88",
   "metadata": {},
   "source": [
    "### Q5. Write a code to create numpy array of 3*3 matrix containing zeros only, using a numpy array creation function.\n",
    "[Hint: The size of the array will be 9 and the shape will be (3,3).]"
   ]
  },
  {
   "cell_type": "markdown",
   "id": "d289058b-7694-44c7-9a17-c733057d05ef",
   "metadata": {},
   "source": [
    "np.zeros() is a function used to create an array filled with zeros. \n",
    "<br>The function allows you to specify the shape and data type of the array you want to create. \n",
    "<br>It is particularly useful when you want to initialize an array with all elements set to zero."
   ]
  },
  {
   "cell_type": "code",
   "execution_count": 9,
   "id": "5c2c431b-b875-46ab-9d90-2b6dd029346f",
   "metadata": {},
   "outputs": [],
   "source": [
    "arr = np.zeros((3,3))"
   ]
  },
  {
   "cell_type": "code",
   "execution_count": 10,
   "id": "8f252913-c0db-40b6-89d7-f1d4031f8a22",
   "metadata": {},
   "outputs": [
    {
     "data": {
      "text/plain": [
       "array([[0., 0., 0.],\n",
       "       [0., 0., 0.],\n",
       "       [0., 0., 0.]])"
      ]
     },
     "execution_count": 10,
     "metadata": {},
     "output_type": "execute_result"
    }
   ],
   "source": [
    "arr"
   ]
  },
  {
   "cell_type": "code",
   "execution_count": 11,
   "id": "8f353e8d-ec70-4344-84d3-b176f90e6402",
   "metadata": {},
   "outputs": [
    {
     "data": {
      "text/plain": [
       "9"
      ]
     },
     "execution_count": 11,
     "metadata": {},
     "output_type": "execute_result"
    }
   ],
   "source": [
    "arr.size"
   ]
  },
  {
   "cell_type": "code",
   "execution_count": 12,
   "id": "ad65dd3b-64cc-4465-a281-687bb1cdee43",
   "metadata": {},
   "outputs": [
    {
     "data": {
      "text/plain": [
       "(3, 3)"
      ]
     },
     "execution_count": 12,
     "metadata": {},
     "output_type": "execute_result"
    }
   ],
   "source": [
    "arr.shape"
   ]
  },
  {
   "cell_type": "markdown",
   "id": "f3cc84d0-610f-42b5-81d0-9838f2a94bd6",
   "metadata": {},
   "source": [
    "### Q6. Create an identity matrix of shape (5,5) using numpy functions?\n",
    "[Hint: An identity matrix is a matrix containing 1 diagonally and other elements will be 0.]"
   ]
  },
  {
   "cell_type": "markdown",
   "id": "96088394-dc24-4980-8aee-1840363c198d",
   "metadata": {},
   "source": [
    "np.eye() is a function used to create an identity matrix, which is a square matrix with ones on the main diagonal (from the top-left to the bottom-right) and zeros elsewhere. \n",
    "<br>The identity matrix is denoted by \"I\" or \"𝐈\" and has a unique property that when multiplied with any other matrix, it leaves the other matrix unchanged"
   ]
  },
  {
   "cell_type": "code",
   "execution_count": 13,
   "id": "732c67a6-f407-4197-acc3-6569628833c1",
   "metadata": {},
   "outputs": [],
   "source": [
    "arr1 = np.eye(5)"
   ]
  },
  {
   "cell_type": "code",
   "execution_count": 14,
   "id": "c94cb368-82b2-440a-ac1b-fc60fe61badb",
   "metadata": {},
   "outputs": [
    {
     "data": {
      "text/plain": [
       "array([[1., 0., 0., 0., 0.],\n",
       "       [0., 1., 0., 0., 0.],\n",
       "       [0., 0., 1., 0., 0.],\n",
       "       [0., 0., 0., 1., 0.],\n",
       "       [0., 0., 0., 0., 1.]])"
      ]
     },
     "execution_count": 14,
     "metadata": {},
     "output_type": "execute_result"
    }
   ],
   "source": [
    "arr1"
   ]
  },
  {
   "cell_type": "code",
   "execution_count": 15,
   "id": "09c32f5b-35af-4844-9766-fdec1fcc3114",
   "metadata": {},
   "outputs": [
    {
     "data": {
      "text/plain": [
       "(5, 5)"
      ]
     },
     "execution_count": 15,
     "metadata": {},
     "output_type": "execute_result"
    }
   ],
   "source": [
    "arr1.shape"
   ]
  },
  {
   "cell_type": "code",
   "execution_count": 16,
   "id": "9c416f94-e28b-49d7-8778-952c1ee7380a",
   "metadata": {},
   "outputs": [
    {
     "data": {
      "text/plain": [
       "25"
      ]
     },
     "execution_count": 16,
     "metadata": {},
     "output_type": "execute_result"
    }
   ],
   "source": [
    "arr1.size"
   ]
  }
 ],
 "metadata": {
  "kernelspec": {
   "display_name": "Python 3 (ipykernel)",
   "language": "python",
   "name": "python3"
  },
  "language_info": {
   "codemirror_mode": {
    "name": "ipython",
    "version": 3
   },
   "file_extension": ".py",
   "mimetype": "text/x-python",
   "name": "python",
   "nbconvert_exporter": "python",
   "pygments_lexer": "ipython3",
   "version": "3.10.8"
  }
 },
 "nbformat": 4,
 "nbformat_minor": 5
}
