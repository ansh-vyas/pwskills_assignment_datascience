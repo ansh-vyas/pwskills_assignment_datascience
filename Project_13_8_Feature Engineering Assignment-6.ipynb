{
 "cells": [
  {
   "cell_type": "markdown",
   "id": "65fe6351",
   "metadata": {},
   "source": [
    "## Q1. Pearson correlation coefficient is a measure of the linear relationship between two variables. Suppose you have collected data on the amount of time students spend studying for an exam and their final exam scores. Calculate the Pearson correlation coefficient between these two variables and interpret the result."
   ]
  },
  {
   "cell_type": "markdown",
   "id": "b1f9da1b",
   "metadata": {},
   "source": [
    "The Pearson correlation coefficient, also known as Pearson's r, is a statistical measure that quantifies the linear relationship between two continuous variables. It indicates both the direction (positive or negative) and the strength of the linear relationship between the variables. The Pearson correlation coefficient ranges from -1 to +1, where -1 represents a perfect negative linear correlation, +1 represents a perfect positive linear correlation, and 0 represents no linear correlation between the variables."
   ]
  },
  {
   "cell_type": "code",
   "execution_count": 1,
   "id": "b726de23",
   "metadata": {},
   "outputs": [
    {
     "data": {
      "text/html": [
       "<div>\n",
       "<style scoped>\n",
       "    .dataframe tbody tr th:only-of-type {\n",
       "        vertical-align: middle;\n",
       "    }\n",
       "\n",
       "    .dataframe tbody tr th {\n",
       "        vertical-align: top;\n",
       "    }\n",
       "\n",
       "    .dataframe thead th {\n",
       "        text-align: right;\n",
       "    }\n",
       "</style>\n",
       "<table border=\"1\" class=\"dataframe\">\n",
       "  <thead>\n",
       "    <tr style=\"text-align: right;\">\n",
       "      <th></th>\n",
       "      <th>hours spent</th>\n",
       "      <th>scores</th>\n",
       "    </tr>\n",
       "  </thead>\n",
       "  <tbody>\n",
       "    <tr>\n",
       "      <th>0</th>\n",
       "      <td>12</td>\n",
       "      <td>89</td>\n",
       "    </tr>\n",
       "    <tr>\n",
       "      <th>1</th>\n",
       "      <td>10</td>\n",
       "      <td>84</td>\n",
       "    </tr>\n",
       "    <tr>\n",
       "      <th>2</th>\n",
       "      <td>9</td>\n",
       "      <td>83</td>\n",
       "    </tr>\n",
       "    <tr>\n",
       "      <th>3</th>\n",
       "      <td>14</td>\n",
       "      <td>94</td>\n",
       "    </tr>\n",
       "    <tr>\n",
       "      <th>4</th>\n",
       "      <td>15</td>\n",
       "      <td>97</td>\n",
       "    </tr>\n",
       "    <tr>\n",
       "      <th>5</th>\n",
       "      <td>14</td>\n",
       "      <td>90</td>\n",
       "    </tr>\n",
       "    <tr>\n",
       "      <th>6</th>\n",
       "      <td>6</td>\n",
       "      <td>78</td>\n",
       "    </tr>\n",
       "    <tr>\n",
       "      <th>7</th>\n",
       "      <td>7</td>\n",
       "      <td>82</td>\n",
       "    </tr>\n",
       "    <tr>\n",
       "      <th>8</th>\n",
       "      <td>10</td>\n",
       "      <td>85</td>\n",
       "    </tr>\n",
       "    <tr>\n",
       "      <th>9</th>\n",
       "      <td>5</td>\n",
       "      <td>71</td>\n",
       "    </tr>\n",
       "  </tbody>\n",
       "</table>\n",
       "</div>"
      ],
      "text/plain": [
       "   hours spent  scores\n",
       "0           12      89\n",
       "1           10      84\n",
       "2            9      83\n",
       "3           14      94\n",
       "4           15      97\n",
       "5           14      90\n",
       "6            6      78\n",
       "7            7      82\n",
       "8           10      85\n",
       "9            5      71"
      ]
     },
     "execution_count": 1,
     "metadata": {},
     "output_type": "execute_result"
    }
   ],
   "source": [
    "import pandas as pd \n",
    "df = pd.DataFrame({ \"hours spent\" : [12,10,9,14,15,14,6,7,10,5],\n",
    "              \"scores\" : [89,84,83,94,97,90,78,82,85,71]\n",
    "             })\n",
    "df"
   ]
  },
  {
   "cell_type": "code",
   "execution_count": 2,
   "id": "199153bb",
   "metadata": {},
   "outputs": [
    {
     "data": {
      "text/html": [
       "<div>\n",
       "<style scoped>\n",
       "    .dataframe tbody tr th:only-of-type {\n",
       "        vertical-align: middle;\n",
       "    }\n",
       "\n",
       "    .dataframe tbody tr th {\n",
       "        vertical-align: top;\n",
       "    }\n",
       "\n",
       "    .dataframe thead th {\n",
       "        text-align: right;\n",
       "    }\n",
       "</style>\n",
       "<table border=\"1\" class=\"dataframe\">\n",
       "  <thead>\n",
       "    <tr style=\"text-align: right;\">\n",
       "      <th></th>\n",
       "      <th>hours spent</th>\n",
       "      <th>scores</th>\n",
       "    </tr>\n",
       "  </thead>\n",
       "  <tbody>\n",
       "    <tr>\n",
       "      <th>hours spent</th>\n",
       "      <td>1.000000</td>\n",
       "      <td>0.960941</td>\n",
       "    </tr>\n",
       "    <tr>\n",
       "      <th>scores</th>\n",
       "      <td>0.960941</td>\n",
       "      <td>1.000000</td>\n",
       "    </tr>\n",
       "  </tbody>\n",
       "</table>\n",
       "</div>"
      ],
      "text/plain": [
       "             hours spent    scores\n",
       "hours spent     1.000000  0.960941\n",
       "scores          0.960941  1.000000"
      ]
     },
     "execution_count": 2,
     "metadata": {},
     "output_type": "execute_result"
    }
   ],
   "source": [
    "df.corr(method='pearson')"
   ]
  },
  {
   "cell_type": "markdown",
   "id": "32b08489",
   "metadata": {},
   "source": [
    "## Q2. Spearman's rank correlation is a measure of the monotonic relationship between two variables. Suppose you have collected data on the amount of sleep individuals get each night and their overall job satisfaction level on a scale of 1 to 10. Calculate the Spearman's rank correlation between these two variables and interpret the result."
   ]
  },
  {
   "cell_type": "markdown",
   "id": "e24aa631",
   "metadata": {},
   "source": [
    "Spearman's rank correlation coefficient, often referred to as Spearman's rho (ρ), is a non-parametric measure of the monotonic relationship between two variables. It assesses the strength and direction of the association between two variables by ranking their values and then computing the Pearson correlation coefficient on the ranked data.\n",
    "\n",
    "Pearson's correlation, which measures the linear relationship, wheras Spearman's rank correlation captures any monotonic relationship between the variables. A monotonic relationship implies that as the values of one variable increase, the values of the other variable either increase or decrease, but not necessarily at a constant rate.\n",
    "\n",
    "Spearman's rank correlation coefficient ranges from -1 to +1, where -1 indicates a perfect negative monotonic relationship, +1 indicates a perfect positive monotonic relationship, and 0 suggests no monotonic relationship between the variables. It is commonly used when the data does not meet the assumptions of normality or when the relationship between variables is non-linear."
   ]
  },
  {
   "cell_type": "code",
   "execution_count": 3,
   "id": "d2a44e1f",
   "metadata": {},
   "outputs": [
    {
     "data": {
      "text/html": [
       "<div>\n",
       "<style scoped>\n",
       "    .dataframe tbody tr th:only-of-type {\n",
       "        vertical-align: middle;\n",
       "    }\n",
       "\n",
       "    .dataframe tbody tr th {\n",
       "        vertical-align: top;\n",
       "    }\n",
       "\n",
       "    .dataframe thead th {\n",
       "        text-align: right;\n",
       "    }\n",
       "</style>\n",
       "<table border=\"1\" class=\"dataframe\">\n",
       "  <thead>\n",
       "    <tr style=\"text-align: right;\">\n",
       "      <th></th>\n",
       "      <th>sleep hour</th>\n",
       "      <th>job satisfaction</th>\n",
       "    </tr>\n",
       "  </thead>\n",
       "  <tbody>\n",
       "    <tr>\n",
       "      <th>0</th>\n",
       "      <td>7</td>\n",
       "      <td>8</td>\n",
       "    </tr>\n",
       "    <tr>\n",
       "      <th>1</th>\n",
       "      <td>6</td>\n",
       "      <td>7</td>\n",
       "    </tr>\n",
       "    <tr>\n",
       "      <th>2</th>\n",
       "      <td>8</td>\n",
       "      <td>9</td>\n",
       "    </tr>\n",
       "    <tr>\n",
       "      <th>3</th>\n",
       "      <td>5</td>\n",
       "      <td>3</td>\n",
       "    </tr>\n",
       "    <tr>\n",
       "      <th>4</th>\n",
       "      <td>6</td>\n",
       "      <td>4</td>\n",
       "    </tr>\n",
       "  </tbody>\n",
       "</table>\n",
       "</div>"
      ],
      "text/plain": [
       "   sleep hour  job satisfaction\n",
       "0           7                 8\n",
       "1           6                 7\n",
       "2           8                 9\n",
       "3           5                 3\n",
       "4           6                 4"
      ]
     },
     "execution_count": 3,
     "metadata": {},
     "output_type": "execute_result"
    }
   ],
   "source": [
    "import pandas as pd\n",
    "\n",
    "amount_of_sleep = [7, 6, 8, 5, 6, 7, 8, 6, 5, 7]\n",
    "job_satisfaction = [8, 7, 9, 3, 4, 7, 10, 7, 6, 8]\n",
    "\n",
    "df = pd.DataFrame({\"sleep hour\": amount_of_sleep, \"job satisfaction\" : job_satisfaction})\n",
    "df.head()"
   ]
  },
  {
   "cell_type": "code",
   "execution_count": 4,
   "id": "01043926",
   "metadata": {},
   "outputs": [
    {
     "data": {
      "text/html": [
       "<div>\n",
       "<style scoped>\n",
       "    .dataframe tbody tr th:only-of-type {\n",
       "        vertical-align: middle;\n",
       "    }\n",
       "\n",
       "    .dataframe tbody tr th {\n",
       "        vertical-align: top;\n",
       "    }\n",
       "\n",
       "    .dataframe thead th {\n",
       "        text-align: right;\n",
       "    }\n",
       "</style>\n",
       "<table border=\"1\" class=\"dataframe\">\n",
       "  <thead>\n",
       "    <tr style=\"text-align: right;\">\n",
       "      <th></th>\n",
       "      <th>sleep hour</th>\n",
       "      <th>job satisfaction</th>\n",
       "    </tr>\n",
       "  </thead>\n",
       "  <tbody>\n",
       "    <tr>\n",
       "      <th>sleep hour</th>\n",
       "      <td>1.000000</td>\n",
       "      <td>0.914401</td>\n",
       "    </tr>\n",
       "    <tr>\n",
       "      <th>job satisfaction</th>\n",
       "      <td>0.914401</td>\n",
       "      <td>1.000000</td>\n",
       "    </tr>\n",
       "  </tbody>\n",
       "</table>\n",
       "</div>"
      ],
      "text/plain": [
       "                  sleep hour  job satisfaction\n",
       "sleep hour          1.000000          0.914401\n",
       "job satisfaction    0.914401          1.000000"
      ]
     },
     "execution_count": 4,
     "metadata": {},
     "output_type": "execute_result"
    }
   ],
   "source": [
    "df.corr(method= 'spearman' )"
   ]
  },
  {
   "cell_type": "markdown",
   "id": "e3055ad1",
   "metadata": {},
   "source": [
    "Here we observe from the spearman correlation being positive close to 1 symbolizes the data is highly positvely correlated ie.with the number of sleep hours the overall job satisfaction level increases."
   ]
  },
  {
   "cell_type": "markdown",
   "id": "bce4d28a",
   "metadata": {},
   "source": [
    "## Q3. Suppose you are conducting a study to examine the relationship between the number of hours of exercise per week and body mass index (BMI) in a sample of adults. You collected data on both variables for 50 participants. Calculate the Pearson correlation coefficient and the Spearman's rank correlation between these two variables and compare the results."
   ]
  },
  {
   "cell_type": "code",
   "execution_count": 5,
   "id": "cd8894c9",
   "metadata": {},
   "outputs": [
    {
     "data": {
      "text/html": [
       "<div>\n",
       "<style scoped>\n",
       "    .dataframe tbody tr th:only-of-type {\n",
       "        vertical-align: middle;\n",
       "    }\n",
       "\n",
       "    .dataframe tbody tr th {\n",
       "        vertical-align: top;\n",
       "    }\n",
       "\n",
       "    .dataframe thead th {\n",
       "        text-align: right;\n",
       "    }\n",
       "</style>\n",
       "<table border=\"1\" class=\"dataframe\">\n",
       "  <thead>\n",
       "    <tr style=\"text-align: right;\">\n",
       "      <th></th>\n",
       "      <th>Excercise hours per week</th>\n",
       "      <th>BMI</th>\n",
       "    </tr>\n",
       "  </thead>\n",
       "  <tbody>\n",
       "    <tr>\n",
       "      <th>0</th>\n",
       "      <td>8</td>\n",
       "      <td>18.997367</td>\n",
       "    </tr>\n",
       "    <tr>\n",
       "      <th>1</th>\n",
       "      <td>19</td>\n",
       "      <td>21.070184</td>\n",
       "    </tr>\n",
       "    <tr>\n",
       "      <th>2</th>\n",
       "      <td>19</td>\n",
       "      <td>34.798209</td>\n",
       "    </tr>\n",
       "    <tr>\n",
       "      <th>3</th>\n",
       "      <td>6</td>\n",
       "      <td>15.111290</td>\n",
       "    </tr>\n",
       "    <tr>\n",
       "      <th>4</th>\n",
       "      <td>19</td>\n",
       "      <td>19.130947</td>\n",
       "    </tr>\n",
       "  </tbody>\n",
       "</table>\n",
       "</div>"
      ],
      "text/plain": [
       "   Excercise hours per week         BMI\n",
       "0                          8  18.997367\n",
       "1                         19  21.070184\n",
       "2                         19  34.798209\n",
       "3                          6  15.111290\n",
       "4                         19  19.130947"
      ]
     },
     "execution_count": 5,
     "metadata": {},
     "output_type": "execute_result"
    }
   ],
   "source": [
    "import numpy as np\n",
    "import pandas as pd\n",
    "import random\n",
    "\n",
    "random.seed(42) # for reproducibility\n",
    "\n",
    "# Generate random data for the number of hours of exercise per week (between 1 and 20 hours)\n",
    "exercise_hours = np.random.randint(1, 20,size=50)\n",
    "\n",
    "# Generate random data for body mass index (BMI) (between 15 and 35)\n",
    "bmi_values = np.random.uniform(15, 35,size=50)\n",
    "\n",
    "df = pd.DataFrame({\"Excercise hours per week \" : exercise_hours,\n",
    "                   \"BMI\" : bmi_values\n",
    "                  })\n",
    "df.head()"
   ]
  },
  {
   "cell_type": "code",
   "execution_count": 6,
   "id": "d2e3eac8",
   "metadata": {},
   "outputs": [
    {
     "data": {
      "text/html": [
       "<div>\n",
       "<style scoped>\n",
       "    .dataframe tbody tr th:only-of-type {\n",
       "        vertical-align: middle;\n",
       "    }\n",
       "\n",
       "    .dataframe tbody tr th {\n",
       "        vertical-align: top;\n",
       "    }\n",
       "\n",
       "    .dataframe thead th {\n",
       "        text-align: right;\n",
       "    }\n",
       "</style>\n",
       "<table border=\"1\" class=\"dataframe\">\n",
       "  <thead>\n",
       "    <tr style=\"text-align: right;\">\n",
       "      <th></th>\n",
       "      <th>Excercise hours per week</th>\n",
       "      <th>BMI</th>\n",
       "    </tr>\n",
       "  </thead>\n",
       "  <tbody>\n",
       "    <tr>\n",
       "      <th>Excercise hours per week</th>\n",
       "      <td>1.000000</td>\n",
       "      <td>0.049798</td>\n",
       "    </tr>\n",
       "    <tr>\n",
       "      <th>BMI</th>\n",
       "      <td>0.049798</td>\n",
       "      <td>1.000000</td>\n",
       "    </tr>\n",
       "  </tbody>\n",
       "</table>\n",
       "</div>"
      ],
      "text/plain": [
       "                           Excercise hours per week        BMI\n",
       "Excercise hours per week                    1.000000  0.049798\n",
       "BMI                                         0.049798  1.000000"
      ]
     },
     "execution_count": 6,
     "metadata": {},
     "output_type": "execute_result"
    }
   ],
   "source": [
    "df.corr(method='pearson')"
   ]
  },
  {
   "cell_type": "code",
   "execution_count": 7,
   "id": "a5bf34b0",
   "metadata": {},
   "outputs": [
    {
     "data": {
      "text/html": [
       "<div>\n",
       "<style scoped>\n",
       "    .dataframe tbody tr th:only-of-type {\n",
       "        vertical-align: middle;\n",
       "    }\n",
       "\n",
       "    .dataframe tbody tr th {\n",
       "        vertical-align: top;\n",
       "    }\n",
       "\n",
       "    .dataframe thead th {\n",
       "        text-align: right;\n",
       "    }\n",
       "</style>\n",
       "<table border=\"1\" class=\"dataframe\">\n",
       "  <thead>\n",
       "    <tr style=\"text-align: right;\">\n",
       "      <th></th>\n",
       "      <th>Excercise hours per week</th>\n",
       "      <th>BMI</th>\n",
       "    </tr>\n",
       "  </thead>\n",
       "  <tbody>\n",
       "    <tr>\n",
       "      <th>Excercise hours per week</th>\n",
       "      <td>1.000000</td>\n",
       "      <td>0.057145</td>\n",
       "    </tr>\n",
       "    <tr>\n",
       "      <th>BMI</th>\n",
       "      <td>0.057145</td>\n",
       "      <td>1.000000</td>\n",
       "    </tr>\n",
       "  </tbody>\n",
       "</table>\n",
       "</div>"
      ],
      "text/plain": [
       "                           Excercise hours per week        BMI\n",
       "Excercise hours per week                    1.000000  0.057145\n",
       "BMI                                         0.057145  1.000000"
      ]
     },
     "execution_count": 7,
     "metadata": {},
     "output_type": "execute_result"
    }
   ],
   "source": [
    "df.corr(method = 'spearman')"
   ]
  },
  {
   "cell_type": "markdown",
   "id": "fd9cb5c9",
   "metadata": {},
   "source": [
    "- Based on the above values obtained we see there is a very little difference between the two correlation methods the values coming 0.132 and 0.140 for pearson and spearman respectively.\n",
    "\n",
    "- Based on this we see there is little or no relationship between the the variables as the values of the coefficient are close to 0."
   ]
  },
  {
   "cell_type": "markdown",
   "id": "2ce31beb",
   "metadata": {},
   "source": [
    "## Q4. A researcher is interested in examining the relationship between the number of hours individuals spend watching television per day and their level of physical activity. The researcher collected data on both variables from a sample of 50 participants. Calculate the Pearson correlation coefficient between these two variables."
   ]
  },
  {
   "cell_type": "code",
   "execution_count": 8,
   "id": "fbf7bc13",
   "metadata": {},
   "outputs": [
    {
     "data": {
      "text/html": [
       "<div>\n",
       "<style scoped>\n",
       "    .dataframe tbody tr th:only-of-type {\n",
       "        vertical-align: middle;\n",
       "    }\n",
       "\n",
       "    .dataframe tbody tr th {\n",
       "        vertical-align: top;\n",
       "    }\n",
       "\n",
       "    .dataframe thead th {\n",
       "        text-align: right;\n",
       "    }\n",
       "</style>\n",
       "<table border=\"1\" class=\"dataframe\">\n",
       "  <thead>\n",
       "    <tr style=\"text-align: right;\">\n",
       "      <th></th>\n",
       "      <th>Physical Activity hours per day</th>\n",
       "      <th>Watching Televison hours per day</th>\n",
       "    </tr>\n",
       "  </thead>\n",
       "  <tbody>\n",
       "    <tr>\n",
       "      <th>0</th>\n",
       "      <td>8</td>\n",
       "      <td>6</td>\n",
       "    </tr>\n",
       "    <tr>\n",
       "      <th>1</th>\n",
       "      <td>5</td>\n",
       "      <td>1</td>\n",
       "    </tr>\n",
       "    <tr>\n",
       "      <th>2</th>\n",
       "      <td>8</td>\n",
       "      <td>15</td>\n",
       "    </tr>\n",
       "    <tr>\n",
       "      <th>3</th>\n",
       "      <td>3</td>\n",
       "      <td>5</td>\n",
       "    </tr>\n",
       "    <tr>\n",
       "      <th>4</th>\n",
       "      <td>13</td>\n",
       "      <td>4</td>\n",
       "    </tr>\n",
       "  </tbody>\n",
       "</table>\n",
       "</div>"
      ],
      "text/plain": [
       "   Physical Activity hours per day   Watching Televison hours per day\n",
       "0                                 8                                 6\n",
       "1                                 5                                 1\n",
       "2                                 8                                15\n",
       "3                                 3                                 5\n",
       "4                                13                                 4"
      ]
     },
     "execution_count": 8,
     "metadata": {},
     "output_type": "execute_result"
    }
   ],
   "source": [
    "import numpy as np\n",
    "import pandas as pd\n",
    "import random\n",
    "\n",
    "random.seed(382)#for reproduciblity\n",
    "\n",
    "# Generate random data for the number of hours of physical activity during day (between 1 and 18 hours)\n",
    "physical_activity_hours = np.random.randint(1,18,size=50)\n",
    "\n",
    "# Generate random data for the number of hours of watching television during day (between 1 and 18 hours)\n",
    "watching_televison_hours = np.random.randint(1, 18,size=50)\n",
    "\n",
    "df = pd.DataFrame({\"Physical Activity hours per day \" : physical_activity_hours,\n",
    "                   \"Watching Televison hours per day\" : watching_televison_hours\n",
    "                  })\n",
    "df.head()"
   ]
  },
  {
   "cell_type": "code",
   "execution_count": 9,
   "id": "4d157069",
   "metadata": {},
   "outputs": [
    {
     "data": {
      "text/html": [
       "<div>\n",
       "<style scoped>\n",
       "    .dataframe tbody tr th:only-of-type {\n",
       "        vertical-align: middle;\n",
       "    }\n",
       "\n",
       "    .dataframe tbody tr th {\n",
       "        vertical-align: top;\n",
       "    }\n",
       "\n",
       "    .dataframe thead th {\n",
       "        text-align: right;\n",
       "    }\n",
       "</style>\n",
       "<table border=\"1\" class=\"dataframe\">\n",
       "  <thead>\n",
       "    <tr style=\"text-align: right;\">\n",
       "      <th></th>\n",
       "      <th>Physical Activity hours per day</th>\n",
       "      <th>Watching Televison hours per day</th>\n",
       "    </tr>\n",
       "  </thead>\n",
       "  <tbody>\n",
       "    <tr>\n",
       "      <th>Physical Activity hours per day</th>\n",
       "      <td>1.000000</td>\n",
       "      <td>0.381421</td>\n",
       "    </tr>\n",
       "    <tr>\n",
       "      <th>Watching Televison hours per day</th>\n",
       "      <td>0.381421</td>\n",
       "      <td>1.000000</td>\n",
       "    </tr>\n",
       "  </tbody>\n",
       "</table>\n",
       "</div>"
      ],
      "text/plain": [
       "                                  Physical Activity hours per day   \\\n",
       "Physical Activity hours per day                           1.000000   \n",
       "Watching Televison hours per day                          0.381421   \n",
       "\n",
       "                                  Watching Televison hours per day  \n",
       "Physical Activity hours per day                           0.381421  \n",
       "Watching Televison hours per day                          1.000000  "
      ]
     },
     "execution_count": 9,
     "metadata": {},
     "output_type": "execute_result"
    }
   ],
   "source": [
    "df.corr(method='pearson')"
   ]
  },
  {
   "cell_type": "code",
   "execution_count": 10,
   "id": "ae2444a6",
   "metadata": {},
   "outputs": [
    {
     "data": {
      "text/html": [
       "<div>\n",
       "<style scoped>\n",
       "    .dataframe tbody tr th:only-of-type {\n",
       "        vertical-align: middle;\n",
       "    }\n",
       "\n",
       "    .dataframe tbody tr th {\n",
       "        vertical-align: top;\n",
       "    }\n",
       "\n",
       "    .dataframe thead th {\n",
       "        text-align: right;\n",
       "    }\n",
       "</style>\n",
       "<table border=\"1\" class=\"dataframe\">\n",
       "  <thead>\n",
       "    <tr style=\"text-align: right;\">\n",
       "      <th></th>\n",
       "      <th>Physical Activity hours per day</th>\n",
       "      <th>Watching Televison hours per day</th>\n",
       "    </tr>\n",
       "  </thead>\n",
       "  <tbody>\n",
       "    <tr>\n",
       "      <th>Physical Activity hours per day</th>\n",
       "      <td>1.000000</td>\n",
       "      <td>0.336731</td>\n",
       "    </tr>\n",
       "    <tr>\n",
       "      <th>Watching Televison hours per day</th>\n",
       "      <td>0.336731</td>\n",
       "      <td>1.000000</td>\n",
       "    </tr>\n",
       "  </tbody>\n",
       "</table>\n",
       "</div>"
      ],
      "text/plain": [
       "                                  Physical Activity hours per day   \\\n",
       "Physical Activity hours per day                           1.000000   \n",
       "Watching Televison hours per day                          0.336731   \n",
       "\n",
       "                                  Watching Televison hours per day  \n",
       "Physical Activity hours per day                           0.336731  \n",
       "Watching Televison hours per day                          1.000000  "
      ]
     },
     "execution_count": 10,
     "metadata": {},
     "output_type": "execute_result"
    }
   ],
   "source": [
    "df.corr(method='spearman')"
   ]
  },
  {
   "cell_type": "markdown",
   "id": "7edf0a90",
   "metadata": {},
   "source": [
    "There is no significant diiference between the two methods of correction they are almost neutral as they are negative but close to 0."
   ]
  },
  {
   "cell_type": "markdown",
   "id": "29de24c4",
   "metadata": {},
   "source": [
    "## Q5. A survey was conducted to examine the relationship between age and preference for a particular brand of soft drink. The survey results are shown below:"
   ]
  },
  {
   "cell_type": "code",
   "execution_count": 11,
   "id": "09d12d8f",
   "metadata": {},
   "outputs": [
    {
     "data": {
      "text/html": [
       "<div>\n",
       "<style scoped>\n",
       "    .dataframe tbody tr th:only-of-type {\n",
       "        vertical-align: middle;\n",
       "    }\n",
       "\n",
       "    .dataframe tbody tr th {\n",
       "        vertical-align: top;\n",
       "    }\n",
       "\n",
       "    .dataframe thead th {\n",
       "        text-align: right;\n",
       "    }\n",
       "</style>\n",
       "<table border=\"1\" class=\"dataframe\">\n",
       "  <thead>\n",
       "    <tr style=\"text-align: right;\">\n",
       "      <th></th>\n",
       "      <th>Age(in Years)</th>\n",
       "      <th>Soft Drink Preference</th>\n",
       "    </tr>\n",
       "  </thead>\n",
       "  <tbody>\n",
       "    <tr>\n",
       "      <th>0</th>\n",
       "      <td>25</td>\n",
       "      <td>Coke</td>\n",
       "    </tr>\n",
       "    <tr>\n",
       "      <th>1</th>\n",
       "      <td>42</td>\n",
       "      <td>Pepsi</td>\n",
       "    </tr>\n",
       "    <tr>\n",
       "      <th>2</th>\n",
       "      <td>37</td>\n",
       "      <td>Mountain Dew</td>\n",
       "    </tr>\n",
       "    <tr>\n",
       "      <th>3</th>\n",
       "      <td>19</td>\n",
       "      <td>Coke</td>\n",
       "    </tr>\n",
       "    <tr>\n",
       "      <th>4</th>\n",
       "      <td>31</td>\n",
       "      <td>Pepsi</td>\n",
       "    </tr>\n",
       "    <tr>\n",
       "      <th>5</th>\n",
       "      <td>28</td>\n",
       "      <td>Coke</td>\n",
       "    </tr>\n",
       "  </tbody>\n",
       "</table>\n",
       "</div>"
      ],
      "text/plain": [
       "   Age(in Years) Soft Drink Preference\n",
       "0             25                  Coke\n",
       "1             42                 Pepsi\n",
       "2             37          Mountain Dew\n",
       "3             19                  Coke\n",
       "4             31                 Pepsi\n",
       "5             28                  Coke"
      ]
     },
     "execution_count": 11,
     "metadata": {},
     "output_type": "execute_result"
    }
   ],
   "source": [
    "df = pd.DataFrame({'Age(in Years)' : [25,42,37,19,31,28],\n",
    "                   'Soft Drink Preference' : [\"Coke\",\"Pepsi\",\"Mountain Dew\",\"Coke\",\"Pepsi\",\"Coke\"]\n",
    "                  })\n",
    "df"
   ]
  },
  {
   "cell_type": "code",
   "execution_count": 12,
   "id": "5ae42103",
   "metadata": {},
   "outputs": [
    {
     "data": {
      "text/html": [
       "<div>\n",
       "<style scoped>\n",
       "    .dataframe tbody tr th:only-of-type {\n",
       "        vertical-align: middle;\n",
       "    }\n",
       "\n",
       "    .dataframe tbody tr th {\n",
       "        vertical-align: top;\n",
       "    }\n",
       "\n",
       "    .dataframe thead th {\n",
       "        text-align: right;\n",
       "    }\n",
       "</style>\n",
       "<table border=\"1\" class=\"dataframe\">\n",
       "  <thead>\n",
       "    <tr style=\"text-align: right;\">\n",
       "      <th></th>\n",
       "      <th>Age(in Years)</th>\n",
       "      <th>Soft Drink Preference_Coke</th>\n",
       "      <th>Soft Drink Preference_Mountain Dew</th>\n",
       "      <th>Soft Drink Preference_Pepsi</th>\n",
       "    </tr>\n",
       "  </thead>\n",
       "  <tbody>\n",
       "    <tr>\n",
       "      <th>0</th>\n",
       "      <td>25</td>\n",
       "      <td>1.0</td>\n",
       "      <td>0.0</td>\n",
       "      <td>0.0</td>\n",
       "    </tr>\n",
       "    <tr>\n",
       "      <th>1</th>\n",
       "      <td>42</td>\n",
       "      <td>0.0</td>\n",
       "      <td>0.0</td>\n",
       "      <td>1.0</td>\n",
       "    </tr>\n",
       "    <tr>\n",
       "      <th>2</th>\n",
       "      <td>37</td>\n",
       "      <td>0.0</td>\n",
       "      <td>1.0</td>\n",
       "      <td>0.0</td>\n",
       "    </tr>\n",
       "    <tr>\n",
       "      <th>3</th>\n",
       "      <td>19</td>\n",
       "      <td>1.0</td>\n",
       "      <td>0.0</td>\n",
       "      <td>0.0</td>\n",
       "    </tr>\n",
       "    <tr>\n",
       "      <th>4</th>\n",
       "      <td>31</td>\n",
       "      <td>0.0</td>\n",
       "      <td>0.0</td>\n",
       "      <td>1.0</td>\n",
       "    </tr>\n",
       "    <tr>\n",
       "      <th>5</th>\n",
       "      <td>28</td>\n",
       "      <td>1.0</td>\n",
       "      <td>0.0</td>\n",
       "      <td>0.0</td>\n",
       "    </tr>\n",
       "  </tbody>\n",
       "</table>\n",
       "</div>"
      ],
      "text/plain": [
       "   Age(in Years)  Soft Drink Preference_Coke  \\\n",
       "0             25                         1.0   \n",
       "1             42                         0.0   \n",
       "2             37                         0.0   \n",
       "3             19                         1.0   \n",
       "4             31                         0.0   \n",
       "5             28                         1.0   \n",
       "\n",
       "   Soft Drink Preference_Mountain Dew  Soft Drink Preference_Pepsi  \n",
       "0                                 0.0                          0.0  \n",
       "1                                 0.0                          1.0  \n",
       "2                                 1.0                          0.0  \n",
       "3                                 0.0                          0.0  \n",
       "4                                 0.0                          1.0  \n",
       "5                                 0.0                          0.0  "
      ]
     },
     "execution_count": 12,
     "metadata": {},
     "output_type": "execute_result"
    }
   ],
   "source": [
    "#First we will convert the soft drink preference to numerical for applying correlation\n",
    "#We will use OHE for converting\n",
    "from sklearn.preprocessing import OneHotEncoder\n",
    "\n",
    "encode = OneHotEncoder()\n",
    "values = encode.fit_transform(df[['Soft Drink Preference']]).toarray()\n",
    "\n",
    "encode_df = pd.DataFrame(values,columns=encode.get_feature_names_out())\n",
    "df = pd.concat([df,encode_df],axis = 1)\n",
    "df.drop(columns=\"Soft Drink Preference\",inplace=True)\n",
    "df"
   ]
  },
  {
   "cell_type": "code",
   "execution_count": 13,
   "id": "349f8a85",
   "metadata": {},
   "outputs": [
    {
     "data": {
      "text/html": [
       "<div>\n",
       "<style scoped>\n",
       "    .dataframe tbody tr th:only-of-type {\n",
       "        vertical-align: middle;\n",
       "    }\n",
       "\n",
       "    .dataframe tbody tr th {\n",
       "        vertical-align: top;\n",
       "    }\n",
       "\n",
       "    .dataframe thead th {\n",
       "        text-align: right;\n",
       "    }\n",
       "</style>\n",
       "<table border=\"1\" class=\"dataframe\">\n",
       "  <thead>\n",
       "    <tr style=\"text-align: right;\">\n",
       "      <th></th>\n",
       "      <th>Age(in Years)</th>\n",
       "      <th>Soft Drink Preference_Coke</th>\n",
       "      <th>Soft Drink Preference_Mountain Dew</th>\n",
       "      <th>Soft Drink Preference_Pepsi</th>\n",
       "    </tr>\n",
       "  </thead>\n",
       "  <tbody>\n",
       "    <tr>\n",
       "      <th>Age(in Years)</th>\n",
       "      <td>1.000000</td>\n",
       "      <td>-0.837240</td>\n",
       "      <td>0.394132</td>\n",
       "      <td>0.576439</td>\n",
       "    </tr>\n",
       "    <tr>\n",
       "      <th>Soft Drink Preference_Coke</th>\n",
       "      <td>-0.837240</td>\n",
       "      <td>1.000000</td>\n",
       "      <td>-0.447214</td>\n",
       "      <td>-0.707107</td>\n",
       "    </tr>\n",
       "    <tr>\n",
       "      <th>Soft Drink Preference_Mountain Dew</th>\n",
       "      <td>0.394132</td>\n",
       "      <td>-0.447214</td>\n",
       "      <td>1.000000</td>\n",
       "      <td>-0.316228</td>\n",
       "    </tr>\n",
       "    <tr>\n",
       "      <th>Soft Drink Preference_Pepsi</th>\n",
       "      <td>0.576439</td>\n",
       "      <td>-0.707107</td>\n",
       "      <td>-0.316228</td>\n",
       "      <td>1.000000</td>\n",
       "    </tr>\n",
       "  </tbody>\n",
       "</table>\n",
       "</div>"
      ],
      "text/plain": [
       "                                    Age(in Years)  Soft Drink Preference_Coke  \\\n",
       "Age(in Years)                            1.000000                   -0.837240   \n",
       "Soft Drink Preference_Coke              -0.837240                    1.000000   \n",
       "Soft Drink Preference_Mountain Dew       0.394132                   -0.447214   \n",
       "Soft Drink Preference_Pepsi              0.576439                   -0.707107   \n",
       "\n",
       "                                    Soft Drink Preference_Mountain Dew  \\\n",
       "Age(in Years)                                                 0.394132   \n",
       "Soft Drink Preference_Coke                                   -0.447214   \n",
       "Soft Drink Preference_Mountain Dew                            1.000000   \n",
       "Soft Drink Preference_Pepsi                                  -0.316228   \n",
       "\n",
       "                                    Soft Drink Preference_Pepsi  \n",
       "Age(in Years)                                          0.576439  \n",
       "Soft Drink Preference_Coke                            -0.707107  \n",
       "Soft Drink Preference_Mountain Dew                    -0.316228  \n",
       "Soft Drink Preference_Pepsi                            1.000000  "
      ]
     },
     "execution_count": 13,
     "metadata": {},
     "output_type": "execute_result"
    }
   ],
   "source": [
    "df.corr(method=\"pearson\")"
   ]
  },
  {
   "cell_type": "code",
   "execution_count": 14,
   "id": "fed70b28",
   "metadata": {},
   "outputs": [
    {
     "data": {
      "text/html": [
       "<div>\n",
       "<style scoped>\n",
       "    .dataframe tbody tr th:only-of-type {\n",
       "        vertical-align: middle;\n",
       "    }\n",
       "\n",
       "    .dataframe tbody tr th {\n",
       "        vertical-align: top;\n",
       "    }\n",
       "\n",
       "    .dataframe thead th {\n",
       "        text-align: right;\n",
       "    }\n",
       "</style>\n",
       "<table border=\"1\" class=\"dataframe\">\n",
       "  <thead>\n",
       "    <tr style=\"text-align: right;\">\n",
       "      <th></th>\n",
       "      <th>Age(in Years)</th>\n",
       "      <th>Soft Drink Preference_Coke</th>\n",
       "      <th>Soft Drink Preference_Mountain Dew</th>\n",
       "      <th>Soft Drink Preference_Pepsi</th>\n",
       "    </tr>\n",
       "  </thead>\n",
       "  <tbody>\n",
       "    <tr>\n",
       "      <th>Age(in Years)</th>\n",
       "      <td>1.000000</td>\n",
       "      <td>-0.878310</td>\n",
       "      <td>0.392792</td>\n",
       "      <td>0.621059</td>\n",
       "    </tr>\n",
       "    <tr>\n",
       "      <th>Soft Drink Preference_Coke</th>\n",
       "      <td>-0.878310</td>\n",
       "      <td>1.000000</td>\n",
       "      <td>-0.447214</td>\n",
       "      <td>-0.707107</td>\n",
       "    </tr>\n",
       "    <tr>\n",
       "      <th>Soft Drink Preference_Mountain Dew</th>\n",
       "      <td>0.392792</td>\n",
       "      <td>-0.447214</td>\n",
       "      <td>1.000000</td>\n",
       "      <td>-0.316228</td>\n",
       "    </tr>\n",
       "    <tr>\n",
       "      <th>Soft Drink Preference_Pepsi</th>\n",
       "      <td>0.621059</td>\n",
       "      <td>-0.707107</td>\n",
       "      <td>-0.316228</td>\n",
       "      <td>1.000000</td>\n",
       "    </tr>\n",
       "  </tbody>\n",
       "</table>\n",
       "</div>"
      ],
      "text/plain": [
       "                                    Age(in Years)  Soft Drink Preference_Coke  \\\n",
       "Age(in Years)                            1.000000                   -0.878310   \n",
       "Soft Drink Preference_Coke              -0.878310                    1.000000   \n",
       "Soft Drink Preference_Mountain Dew       0.392792                   -0.447214   \n",
       "Soft Drink Preference_Pepsi              0.621059                   -0.707107   \n",
       "\n",
       "                                    Soft Drink Preference_Mountain Dew  \\\n",
       "Age(in Years)                                                 0.392792   \n",
       "Soft Drink Preference_Coke                                   -0.447214   \n",
       "Soft Drink Preference_Mountain Dew                            1.000000   \n",
       "Soft Drink Preference_Pepsi                                  -0.316228   \n",
       "\n",
       "                                    Soft Drink Preference_Pepsi  \n",
       "Age(in Years)                                          0.621059  \n",
       "Soft Drink Preference_Coke                            -0.707107  \n",
       "Soft Drink Preference_Mountain Dew                    -0.316228  \n",
       "Soft Drink Preference_Pepsi                            1.000000  "
      ]
     },
     "execution_count": 14,
     "metadata": {},
     "output_type": "execute_result"
    }
   ],
   "source": [
    "df.corr(method=\"spearman\")"
   ]
  },
  {
   "cell_type": "markdown",
   "id": "a66a35eb",
   "metadata": {},
   "source": [
    "From this we observe :\n",
    "\n",
    "- People with higher age tend to like Pepsi the most as its the highest positively correlated by a value of 0.62\n",
    "- People with higher age tend to possibly like Mountain dew but its less positively correlated comapred to pepsi with a value of 0.39\n",
    "- As the age increases the like of prefrence of choosing coke reduces significantly as it has a correlation value of -0.87 very close to -1 indicating a very strong negative correlation."
   ]
  },
  {
   "cell_type": "markdown",
   "id": "5e8dbe63",
   "metadata": {},
   "source": [
    "## Q6. A company is interested in examining the relationship between the number of sales calls made per day and the number of sales made per week. The company collected data on both variables from a sample of 30 sales representatives. Calculate the Pearson correlation coefficient between these two variables."
   ]
  },
  {
   "cell_type": "code",
   "execution_count": 15,
   "id": "d511eba5",
   "metadata": {},
   "outputs": [
    {
     "data": {
      "text/html": [
       "<div>\n",
       "<style scoped>\n",
       "    .dataframe tbody tr th:only-of-type {\n",
       "        vertical-align: middle;\n",
       "    }\n",
       "\n",
       "    .dataframe tbody tr th {\n",
       "        vertical-align: top;\n",
       "    }\n",
       "\n",
       "    .dataframe thead th {\n",
       "        text-align: right;\n",
       "    }\n",
       "</style>\n",
       "<table border=\"1\" class=\"dataframe\">\n",
       "  <thead>\n",
       "    <tr style=\"text-align: right;\">\n",
       "      <th></th>\n",
       "      <th>Sales Calls</th>\n",
       "      <th>Weekly Sales</th>\n",
       "    </tr>\n",
       "  </thead>\n",
       "  <tbody>\n",
       "    <tr>\n",
       "      <th>0</th>\n",
       "      <td>36</td>\n",
       "      <td>3234.082997</td>\n",
       "    </tr>\n",
       "    <tr>\n",
       "      <th>1</th>\n",
       "      <td>37</td>\n",
       "      <td>3657.311542</td>\n",
       "    </tr>\n",
       "    <tr>\n",
       "      <th>2</th>\n",
       "      <td>26</td>\n",
       "      <td>2014.340867</td>\n",
       "    </tr>\n",
       "    <tr>\n",
       "      <th>3</th>\n",
       "      <td>29</td>\n",
       "      <td>2495.656869</td>\n",
       "    </tr>\n",
       "    <tr>\n",
       "      <th>4</th>\n",
       "      <td>38</td>\n",
       "      <td>2223.092926</td>\n",
       "    </tr>\n",
       "  </tbody>\n",
       "</table>\n",
       "</div>"
      ],
      "text/plain": [
       "   Sales Calls  Weekly Sales\n",
       "0           36   3234.082997\n",
       "1           37   3657.311542\n",
       "2           26   2014.340867\n",
       "3           29   2495.656869\n",
       "4           38   2223.092926"
      ]
     },
     "execution_count": 15,
     "metadata": {},
     "output_type": "execute_result"
    }
   ],
   "source": [
    "import numpy as np\n",
    "import pandas as pd\n",
    "import random\n",
    "\n",
    "# Generate synthetic data\n",
    "np.random.seed(4323)  # for reproducibility\n",
    "\n",
    "\n",
    "sales_calls = np.random.randint(20, 40, size=30)\n",
    "sales_per_week = np.random.uniform(2000, 4000, size=30)\n",
    "df = pd.DataFrame({\"Sales Calls\" :sales_calls,\n",
    "                  \"Weekly Sales\" : sales_per_week})\n",
    "df.head()"
   ]
  },
  {
   "cell_type": "code",
   "execution_count": 16,
   "id": "365bd727",
   "metadata": {},
   "outputs": [
    {
     "data": {
      "text/html": [
       "<div>\n",
       "<style scoped>\n",
       "    .dataframe tbody tr th:only-of-type {\n",
       "        vertical-align: middle;\n",
       "    }\n",
       "\n",
       "    .dataframe tbody tr th {\n",
       "        vertical-align: top;\n",
       "    }\n",
       "\n",
       "    .dataframe thead th {\n",
       "        text-align: right;\n",
       "    }\n",
       "</style>\n",
       "<table border=\"1\" class=\"dataframe\">\n",
       "  <thead>\n",
       "    <tr style=\"text-align: right;\">\n",
       "      <th></th>\n",
       "      <th>Sales Calls</th>\n",
       "      <th>Weekly Sales</th>\n",
       "    </tr>\n",
       "  </thead>\n",
       "  <tbody>\n",
       "    <tr>\n",
       "      <th>Sales Calls</th>\n",
       "      <td>1.000000</td>\n",
       "      <td>-0.101161</td>\n",
       "    </tr>\n",
       "    <tr>\n",
       "      <th>Weekly Sales</th>\n",
       "      <td>-0.101161</td>\n",
       "      <td>1.000000</td>\n",
       "    </tr>\n",
       "  </tbody>\n",
       "</table>\n",
       "</div>"
      ],
      "text/plain": [
       "              Sales Calls  Weekly Sales\n",
       "Sales Calls      1.000000     -0.101161\n",
       "Weekly Sales    -0.101161      1.000000"
      ]
     },
     "execution_count": 16,
     "metadata": {},
     "output_type": "execute_result"
    }
   ],
   "source": [
    "#Calculating Pearson by using Dataframe\n",
    "df.corr(method='pearson')"
   ]
  },
  {
   "cell_type": "code",
   "execution_count": 17,
   "id": "e8a3654c",
   "metadata": {},
   "outputs": [
    {
     "name": "stdout",
     "output_type": "stream",
     "text": [
      "Pearson Correlation Coefficient : -0.10116108915369336\n",
      "P-value : 0.5947910499968548 \n"
     ]
    }
   ],
   "source": [
    "#Calculating Pearson by using Scipy Library\n",
    "from scipy.stats import pearsonr\n",
    "\n",
    "pearson_corr , p_value = pearsonr(sales_calls,sales_per_week)\n",
    "\n",
    "print(f\"Pearson Correlation Coefficient : {pearson_corr}\")\n",
    "print(f\"P-value : {p_value} \")"
   ]
  },
  {
   "cell_type": "markdown",
   "id": "b872ba24",
   "metadata": {},
   "source": [
    "In the context of calculating the Pearson correlation coefficient, the null hypothesis typically assumes that there is no significant linear relationship between the two variables being analyzed. In this case, with a p-value of 0.59, it means that there is a 59% chance of observing the correlation coefficient (or a more extreme value) between the number of sales calls made per day and the number of sales made per week, even if there is no true linear relationship between these variables.\n",
    "\n",
    "Since the p-value is greater than the common significance level (alpha), which is typically set at 0.05, 0.01, or 0.001, depending on the study's requirements, we do not have enough evidence to reject the null hypothesis. In other words, we do not have sufficient evidence to conclude that there is a significant linear relationship between the number of sales calls and the number of sales made per week in the sample data."
   ]
  }
 ],
 "metadata": {
  "kernelspec": {
   "display_name": "Python 3 (ipykernel)",
   "language": "python",
   "name": "python3"
  },
  "language_info": {
   "codemirror_mode": {
    "name": "ipython",
    "version": 3
   },
   "file_extension": ".py",
   "mimetype": "text/x-python",
   "name": "python",
   "nbconvert_exporter": "python",
   "pygments_lexer": "ipython3",
   "version": "3.10.9"
  }
 },
 "nbformat": 4,
 "nbformat_minor": 5
}
