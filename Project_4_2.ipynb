{
 "cells": [
  {
   "cell_type": "markdown",
   "id": "fce3a5bb-d716-4b5d-ad8d-2c1b4ca9e6e3",
   "metadata": {},
   "source": [
    "## Q1) Create a vehicle class with an init method having instance variables as name_of_vehicle, max_speed and average_of_vehicle."
   ]
  },
  {
   "cell_type": "code",
   "execution_count": 1,
   "id": "6d0875b7-cfd3-4c9f-8673-52b99cf64048",
   "metadata": {},
   "outputs": [],
   "source": [
    "class vehicle:\n",
    "    \n",
    "    def __init__(self,name_of_vehicle,max_speed,average_of_vehicle):\n",
    "        self.name_of_vehicle = name_of_vehicle\n",
    "        self.max_speed = max_speed\n",
    "        self.average_of_vehicle = average_of_vehicle\n",
    "    \n",
    "    def disply(self):\n",
    "        return self.name_of_vehicle,self.max_speed,self.average_of_vehicle\n",
    "    \n",
    "    def display_name(self):\n",
    "        return self.name_of_vehicle"
   ]
  },
  {
   "cell_type": "code",
   "execution_count": 2,
   "id": "9591ddcc-0853-47ac-a201-dd166c3b4913",
   "metadata": {},
   "outputs": [],
   "source": [
    "v = vehicle(\"Innova\",150,12.4)"
   ]
  },
  {
   "cell_type": "code",
   "execution_count": 3,
   "id": "334a0b4c-1b89-4720-92cb-471be01d724b",
   "metadata": {},
   "outputs": [
    {
     "data": {
      "text/plain": [
       "('Innova', 150, 12.4)"
      ]
     },
     "execution_count": 3,
     "metadata": {},
     "output_type": "execute_result"
    }
   ],
   "source": [
    "v.disply()"
   ]
  },
  {
   "cell_type": "code",
   "execution_count": 4,
   "id": "46acb06c-c979-4f5b-ae5f-4ebc755b39b7",
   "metadata": {},
   "outputs": [
    {
     "data": {
      "text/plain": [
       "150"
      ]
     },
     "execution_count": 4,
     "metadata": {},
     "output_type": "execute_result"
    }
   ],
   "source": [
    "v.max_speed"
   ]
  },
  {
   "cell_type": "code",
   "execution_count": 5,
   "id": "b96e567b-4da1-488d-862d-2d4d73ee9ccc",
   "metadata": {},
   "outputs": [
    {
     "data": {
      "text/plain": [
       "12.4"
      ]
     },
     "execution_count": 5,
     "metadata": {},
     "output_type": "execute_result"
    }
   ],
   "source": [
    "v.average_of_vehicle"
   ]
  },
  {
   "cell_type": "code",
   "execution_count": 6,
   "id": "6621baeb-a569-452a-973f-ff9c3b335e96",
   "metadata": {},
   "outputs": [
    {
     "data": {
      "text/plain": [
       "'Innova'"
      ]
     },
     "execution_count": 6,
     "metadata": {},
     "output_type": "execute_result"
    }
   ],
   "source": [
    "v.name_of_vehicle"
   ]
  },
  {
   "cell_type": "markdown",
   "id": "ebcfe135-141e-46a6-ad82-d92d77426b31",
   "metadata": {},
   "source": [
    "## Q2. Create a child class car from the vehicle class created in Que 1, which will inherit the vehicle class. Create a method named seating_capacity which takes capacity as an argument and returns the name of the vehicle and its seating capacity."
   ]
  },
  {
   "cell_type": "code",
   "execution_count": 7,
   "id": "0806828f-53f7-4895-bf08-57f3b7a3d503",
   "metadata": {},
   "outputs": [],
   "source": [
    "class car(vehicle):\n",
    "    def seating_capacity(self, capacity):\n",
    "        return f\"The {self.name_of_vehicle} has a seating capacity of {capacity} people.\""
   ]
  },
  {
   "cell_type": "code",
   "execution_count": 8,
   "id": "d645c240-628f-435a-8b87-eceac0837017",
   "metadata": {},
   "outputs": [],
   "source": [
    "c = car(\"Vento\",170,16.2)"
   ]
  },
  {
   "cell_type": "code",
   "execution_count": 9,
   "id": "4b4918c9-c957-44c4-ada2-311d116933d9",
   "metadata": {},
   "outputs": [
    {
     "data": {
      "text/plain": [
       "'The Vento has a seating capacity of 5 people.'"
      ]
     },
     "execution_count": 9,
     "metadata": {},
     "output_type": "execute_result"
    }
   ],
   "source": [
    "c.seating_capacity(5)"
   ]
  },
  {
   "cell_type": "markdown",
   "id": "679f67a9-8618-4648-ac71-239de67636d3",
   "metadata": {},
   "source": [
    "## Q3. What is multiple inheritance? Write a python code to demonstrate multiple inheritance."
   ]
  },
  {
   "cell_type": "markdown",
   "id": "bdfa4dc1-98ea-4837-b77a-af9f04ea09a7",
   "metadata": {},
   "source": [
    "##### When a class can be derived from more than one base class this type of inheritance is called multiple inheritances."
   ]
  },
  {
   "cell_type": "code",
   "execution_count": 10,
   "id": "4f82ba67-0e9a-4a24-bcce-4482f275fa37",
   "metadata": {},
   "outputs": [
    {
     "name": "stdout",
     "output_type": "stream",
     "text": [
      "Acessing Mother Class\n",
      "Acessing Father Class\n",
      "This is Child Class\n"
     ]
    }
   ],
   "source": [
    "#Base Class 1\n",
    "class Mother:\n",
    "    def fun(self):\n",
    "        print(\"Acessing Mother Class\")\n",
    "        \n",
    "#Base Class 2\n",
    "class Father:\n",
    "    def func2(self):\n",
    "        print(\"Acessing Father Class\")\n",
    "        \n",
    "#Derived Class\n",
    "class child(Mother,Father):\n",
    "    def func3(self):\n",
    "        print(\"This is Child Class\")\n",
    "    \n",
    "object = child()\n",
    "object.fun()\n",
    "object.func2()\n",
    "object.func3()"
   ]
  },
  {
   "cell_type": "markdown",
   "id": "70daf4e8-4bbc-4697-a41e-a462499c84dc",
   "metadata": {},
   "source": [
    "##### Here object of derived class is able to access the method/functions of all the base classes"
   ]
  },
  {
   "cell_type": "markdown",
   "id": "79dfe8d2-4ac8-4c9d-8f37-12fd62bdd0c6",
   "metadata": {},
   "source": [
    "## Q4. What are getter and setter in python? Create a class and create a getter and a setter method in this class."
   ]
  },
  {
   "cell_type": "markdown",
   "id": "5494c069-91ed-4284-a1e0-0a545bc34d81",
   "metadata": {},
   "source": [
    "##### Getter and Setter functions, also known as property methods, are a way to encapsulate the access and modification of class attributes. They allow for controlled access to the attributes by providing methods to get (retrieve) and set (modify) their values.\n",
    "\n",
    "##### Deletor function is used to delete the property/getter function therby removing the way to access the private/protected variables"
   ]
  },
  {
   "cell_type": "code",
   "execution_count": 11,
   "id": "2700d4a3-f4bb-45ef-a6c3-525e3325699b",
   "metadata": {},
   "outputs": [],
   "source": [
    "class college:\n",
    "    \n",
    "    def __init__(self,course_price,course_name):\n",
    "        self.__course_price = course_price\n",
    "        self.course_name = course_name\n",
    "        \n",
    "#getter method   \n",
    "    @property\n",
    "    def course_price_access(self):\n",
    "        return self.__course_price\n",
    "\n",
    "#setter method\n",
    "    @course_price_access.setter\n",
    "    def course_price_set(self,price):\n",
    "        if price<=140000:\n",
    "            pass\n",
    "        else:\n",
    "            self.__course_price = price\n",
    "\n",
    "#deletor method\n",
    "    @course_price_access.deleter\n",
    "    def course_price_del(self):\n",
    "        del self.__course_price"
   ]
  },
  {
   "cell_type": "code",
   "execution_count": 12,
   "id": "f6b097b5-5e81-4284-8e21-e3b43be2e337",
   "metadata": {},
   "outputs": [],
   "source": [
    "clg = college(130000,\"B.Tech\")"
   ]
  },
  {
   "cell_type": "code",
   "execution_count": 13,
   "id": "3d97ce56-040f-43e3-a7e6-d31b5b82e7c5",
   "metadata": {},
   "outputs": [
    {
     "data": {
      "text/plain": [
       "130000"
      ]
     },
     "execution_count": 13,
     "metadata": {},
     "output_type": "execute_result"
    }
   ],
   "source": [
    "#able to access price even though its private variable inside the class\n",
    "#this is possible because of getter function\n",
    "clg.course_price_access"
   ]
  },
  {
   "cell_type": "code",
   "execution_count": 14,
   "id": "6059967f-d7bb-44d5-9a61-f50fcafb1b73",
   "metadata": {},
   "outputs": [],
   "source": [
    "#setting price to private variable possible because of setter function\n",
    "clg.course_price_set = 150000"
   ]
  },
  {
   "cell_type": "code",
   "execution_count": 15,
   "id": "5ae92ac4-4dc7-4755-9574-5782e03fd09c",
   "metadata": {},
   "outputs": [
    {
     "data": {
      "text/plain": [
       "150000"
      ]
     },
     "execution_count": 15,
     "metadata": {},
     "output_type": "execute_result"
    }
   ],
   "source": [
    "clg.course_price_access"
   ]
  },
  {
   "cell_type": "code",
   "execution_count": 16,
   "id": "4950646f-199c-49f3-9f30-b9fe0265d9c6",
   "metadata": {},
   "outputs": [],
   "source": [
    "del clg.course_price_del"
   ]
  },
  {
   "cell_type": "code",
   "execution_count": 17,
   "id": "8b41a06b-a821-4950-a63e-19a640911b28",
   "metadata": {},
   "outputs": [
    {
     "ename": "AttributeError",
     "evalue": "'college' object has no attribute '_college__course_price'",
     "output_type": "error",
     "traceback": [
      "\u001b[0;31m---------------------------------------------------------------------------\u001b[0m",
      "\u001b[0;31mAttributeError\u001b[0m                            Traceback (most recent call last)",
      "Cell \u001b[0;32mIn[17], line 2\u001b[0m\n\u001b[1;32m      1\u001b[0m \u001b[38;5;66;03m#error because we deleted the access with the deletor function\u001b[39;00m\n\u001b[0;32m----> 2\u001b[0m \u001b[43mclg\u001b[49m\u001b[38;5;241;43m.\u001b[39;49m\u001b[43mcourse_price_access\u001b[49m\n",
      "Cell \u001b[0;32mIn[11], line 10\u001b[0m, in \u001b[0;36mcollege.course_price_access\u001b[0;34m(self)\u001b[0m\n\u001b[1;32m      8\u001b[0m \u001b[38;5;129m@property\u001b[39m\n\u001b[1;32m      9\u001b[0m \u001b[38;5;28;01mdef\u001b[39;00m \u001b[38;5;21mcourse_price_access\u001b[39m(\u001b[38;5;28mself\u001b[39m):\n\u001b[0;32m---> 10\u001b[0m     \u001b[38;5;28;01mreturn\u001b[39;00m \u001b[38;5;28;43mself\u001b[39;49m\u001b[38;5;241;43m.\u001b[39;49m\u001b[43m__course_price\u001b[49m\n",
      "\u001b[0;31mAttributeError\u001b[0m: 'college' object has no attribute '_college__course_price'"
     ]
    }
   ],
   "source": [
    "#error because we deleted the access with the deletor function\n",
    "clg.course_price_access"
   ]
  },
  {
   "cell_type": "markdown",
   "id": "5c70d0d3-bca2-4e39-92cf-40c4045be7c6",
   "metadata": {},
   "source": [
    "## Q5.What is method overriding in python? Write a python code to demonstrate method overriding."
   ]
  },
  {
   "cell_type": "markdown",
   "id": "9e59c62f-c6fd-423a-87dc-dca6ca8dda90",
   "metadata": {},
   "source": [
    "##### Method overriding in Python is a feature that allows a subclass to provide a different implementation of a method that is already defined in its parent class. When a method is overridden in the subclass, the subclass version of the method is executed instead of the parent class version."
   ]
  },
  {
   "cell_type": "code",
   "execution_count": 18,
   "id": "729c44d6-96a9-4d1e-bb86-809b44ab3a6e",
   "metadata": {},
   "outputs": [],
   "source": [
    "class Vehicle:\n",
    "\n",
    "    def display_info(self):\n",
    "        print(\"Class Vehicle\")\n",
    "\n",
    "\n",
    "class Car(Vehicle):\n",
    "\n",
    "    def display_info(self):\n",
    "        print(\"Class Car\")"
   ]
  },
  {
   "cell_type": "code",
   "execution_count": 19,
   "id": "a383f523-a616-4d99-8057-ada3a26a7f7d",
   "metadata": {},
   "outputs": [],
   "source": [
    "c = Car()"
   ]
  },
  {
   "cell_type": "code",
   "execution_count": 20,
   "id": "50f611e7-2296-4869-b18c-01fa25cd1b41",
   "metadata": {},
   "outputs": [
    {
     "name": "stdout",
     "output_type": "stream",
     "text": [
      "Class Car\n"
     ]
    }
   ],
   "source": [
    "c.display_info()"
   ]
  },
  {
   "cell_type": "code",
   "execution_count": 21,
   "id": "7c272163-04d9-4a70-bf65-511f0af4b20b",
   "metadata": {},
   "outputs": [],
   "source": [
    "v=Vehicle()"
   ]
  },
  {
   "cell_type": "code",
   "execution_count": 22,
   "id": "fafe735f-70bb-4733-907c-fa294239e566",
   "metadata": {},
   "outputs": [
    {
     "name": "stdout",
     "output_type": "stream",
     "text": [
      "Class Vehicle\n"
     ]
    }
   ],
   "source": [
    "v.display_info()"
   ]
  }
 ],
 "metadata": {
  "kernelspec": {
   "display_name": "Python 3 (ipykernel)",
   "language": "python",
   "name": "python3"
  },
  "language_info": {
   "codemirror_mode": {
    "name": "ipython",
    "version": 3
   },
   "file_extension": ".py",
   "mimetype": "text/x-python",
   "name": "python",
   "nbconvert_exporter": "python",
   "pygments_lexer": "ipython3",
   "version": "3.10.8"
  }
 },
 "nbformat": 4,
 "nbformat_minor": 5
}
