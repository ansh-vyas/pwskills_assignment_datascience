{
 "cells": [
  {
   "cell_type": "markdown",
   "id": "f24b45b9-346b-4e37-b3e6-b9e77b90b418",
   "metadata": {},
   "source": [
    "Q) How do you comment code in Python? What are the different types of comments?"
   ]
  },
  {
   "cell_type": "markdown",
   "id": "304fa898-8ed0-4fcf-ab30-3a7bc3d085a3",
   "metadata": {},
   "source": [
    "There are three types of comments in python :\n",
    "    Single Line\n",
    "    Multi Line \n",
    "    Python DocString"
   ]
  },
  {
   "cell_type": "code",
   "execution_count": 5,
   "id": "1bfe0eb2-61bd-4a2e-a934-3246440b8152",
   "metadata": {},
   "outputs": [
    {
     "name": "stdout",
     "output_type": "stream",
     "text": [
      "Multiline comments\n"
     ]
    }
   ],
   "source": [
    "#Single line\n",
    "\n",
    "\"\"\"\n",
    "This is a\n",
    "multiline\n",
    "comment\n",
    "\"\"\"\n",
    "print(\"Multiline comments\")"
   ]
  },
  {
   "cell_type": "code",
   "execution_count": 9,
   "id": "b9fc28b8-afff-43fd-b4d1-128aa00a6020",
   "metadata": {},
   "outputs": [
    {
     "name": "stdout",
     "output_type": "stream",
     "text": [
      "Implementaion\n",
      "This is a function used for showing python docstring\n"
     ]
    }
   ],
   "source": [
    "def intro():\n",
    "    '''This is a function used for showing python docstring'''\n",
    "print(\"Implementaion\")\n",
    "print(intro.__doc__)"
   ]
  },
  {
   "cell_type": "markdown",
   "id": "9ddb17f1-787b-4460-9be7-99b3d2458430",
   "metadata": {},
   "source": [
    "Q) What are variables in Python? How do you declare and assign values to variables?"
   ]
  },
  {
   "cell_type": "markdown",
   "id": "37fefdb1-1d3d-4c13-b5c5-2768a2734d8e",
   "metadata": {},
   "source": [
    "A variable is a value that can change, depending on conditions or on information passed to the program.\n",
    "\n",
    "In python we dont need to declare a variable with specific data type once we assign a value to the variable python automatically declares data type of the value based on the input value"
   ]
  },
  {
   "cell_type": "code",
   "execution_count": 63,
   "id": "526d2269-7c09-4d37-bf33-b6dd129016eb",
   "metadata": {},
   "outputs": [
    {
     "name": "stdout",
     "output_type": "stream",
     "text": [
      "22 <class 'int'>\n",
      "32.1 <class 'float'>\n",
      "abc <class 'str'>\n",
      "(3+2j) <class 'complex'>\n",
      "True <class 'bool'>\n",
      "[1, 2, 3, 'sun'] <class 'list'>\n",
      "(1, 2, 3, 'sun') <class 'tuple'>\n",
      "{1, 2, 3, 4} <class 'set'>\n",
      "{1: 'a', 2: 'b'} <class 'dict'>\n"
     ]
    }
   ],
   "source": [
    "a=22\n",
    "b=32.1\n",
    "c=\"abc\"\n",
    "d=3+2j\n",
    "e=True\n",
    "f=[1,2,3,\"sun\"]\n",
    "g=(1,2,3,\"sun\")\n",
    "h={1,2,3,4,4}\n",
    "i={1:'a',2:'b'}\n",
    "\n",
    "print(a,type(a))\n",
    "print(b,type(b))\n",
    "print(c,type(c))\n",
    "print(d,type(d))\n",
    "print(e,type(e))\n",
    "print(f,type(f))\n",
    "print(g,type(g))\n",
    "print(h,type(h))\n",
    "print(i,type(i))\n"
   ]
  },
  {
   "cell_type": "markdown",
   "id": "8255911e-1590-42da-a7cf-f0879b8da4cf",
   "metadata": {},
   "source": [
    "Q) How do you convert one data type to another in Python?"
   ]
  },
  {
   "cell_type": "markdown",
   "id": "638377bf-399c-4d5b-b01d-b2bbaa2bc3c2",
   "metadata": {},
   "source": [
    "In python we can convert from one datatype to another in the form of typecasting:\n",
    "Implicit Typecasting : Automatic conversion by the compilier (takes place during compilation / runtime)\n",
    "Explicit Typecasting : User defined type conversion ( programmer forces the conversion)"
   ]
  },
  {
   "cell_type": "code",
   "execution_count": 47,
   "id": "07ac3ba8-c53e-4aed-a647-d80a2e6a333c",
   "metadata": {},
   "outputs": [
    {
     "name": "stdout",
     "output_type": "stream",
     "text": [
      "Data Type of 10 is <class 'int'> :\n",
      "Data Type of 1.2 is <class 'float'> :\n",
      "Sum is  11.2\n",
      "Data Type of 11.2 is <class 'float'> :\n"
     ]
    }
   ],
   "source": [
    "#Implicint Conversion\n",
    "integer_no = 10\n",
    "float_no = 1.2\n",
    "\n",
    "total = integer_no + float_no\n",
    "\n",
    "print(f\"Data Type of {integer_no} is {type(integer_no)} :\")\n",
    "print(f\"Data Type of {float_no} is {type(float_no)} :\")\n",
    "print(\"Sum is \",total)\n",
    "print(f\"Data Type of {total} is {type(total)} :\")"
   ]
  },
  {
   "cell_type": "code",
   "execution_count": 49,
   "id": "ca4f6b52-a5a3-4c72-8116-e0b37b6f1422",
   "metadata": {},
   "outputs": [
    {
     "name": "stdout",
     "output_type": "stream",
     "text": [
      "Data type of num_string before Type Casting: <class 'str'>\n",
      "Data type of num_string after Type Casting: <class 'int'>\n",
      "Sum: 5\n",
      "Data type of num_sum: <class 'int'>\n"
     ]
    }
   ],
   "source": [
    "#Explicint Conversion\n",
    "num_string = '2'\n",
    "num_integer = 3\n",
    "\n",
    "print(\"Data type of num_string before Type Casting:\",type(num_string))\n",
    "\n",
    "# explicit type conversion\n",
    "num_string = int(num_string)\n",
    "\n",
    "print(\"Data type of num_string after Type Casting:\",type(num_string))\n",
    "\n",
    "num_sum = num_integer + num_string\n",
    "\n",
    "print(\"Sum:\",num_sum)\n",
    "print(\"Data type of num_sum:\",type(num_sum))"
   ]
  },
  {
   "cell_type": "markdown",
   "id": "b22e7d34-8e47-4a93-8006-0c632fd68d17",
   "metadata": {},
   "source": [
    "Q) How do you write and execute a Python script from the command line?"
   ]
  },
  {
   "cell_type": "markdown",
   "id": "a89f0c82-e531-4d99-8422-834a5fc18905",
   "metadata": {},
   "source": [
    "Steps to write and execute script from the command line are:\n",
    "\n",
    "Step 1-> First open your python IDE and create a file of any name (lets say you created with name hello)\n",
    "\n",
    "Step 2-> Write the piece of code in the newly created file and save it.\n",
    "\n",
    "Step 3-> Open properties of the created file and copy the location of the same.\n",
    "\n",
    "Step 4-> Open command promp and paste the location of the file and press enter(make sure to command 'cd' to change directory)\n",
    "\n",
    "Step 5-> Now, type: python hello.py and press enter.\n",
    "\n",
    "Step 6-> Your file has been written and executed...\n"
   ]
  },
  {
   "cell_type": "markdown",
   "id": "4760f3ff-657c-41de-9a15-36130c8d9f5e",
   "metadata": {},
   "source": [
    "Q) Given a list my_list = [1, 2, 3, 4, 5], write the code to slice the list and obtain the sub-list [2, 3]."
   ]
  },
  {
   "cell_type": "code",
   "execution_count": 51,
   "id": "522973ef-7b7b-43aa-984e-c50babaaae6f",
   "metadata": {},
   "outputs": [
    {
     "name": "stdout",
     "output_type": "stream",
     "text": [
      "List Before Slicing :  [1, 2, 3, 4, 5]\n",
      "List After Slicing :  [2, 3]\n"
     ]
    }
   ],
   "source": [
    "my_list = [1,2,3,4,5]\n",
    "sub_list = my_list[1:3]\n",
    "\n",
    "print(\"List Before Slicing : \",my_list)\n",
    "print(\"List After Slicing : \",sub_list)"
   ]
  },
  {
   "cell_type": "markdown",
   "id": "80154fc0-82c8-49ff-8719-a044c0dc2bed",
   "metadata": {},
   "source": [
    "Q) What is a complex number in mathematics, and how is it represented in Python?"
   ]
  },
  {
   "cell_type": "markdown",
   "id": "2524d9cf-7164-4599-b20c-cfd8a03f1229",
   "metadata": {},
   "source": [
    "Complex numbers are the numbers that are expressed in the form of a+ib where, a,b are real numbers and 'i' is an imaginary number called “iota”. The value of i = (√-1)"
   ]
  },
  {
   "cell_type": "code",
   "execution_count": 60,
   "id": "eac779c2-8db1-42af-9255-ae104299fe4a",
   "metadata": {},
   "outputs": [
    {
     "name": "stdout",
     "output_type": "stream",
     "text": [
      "The type of variable (3+5j) :  <class 'complex'>\n",
      "The real part of complex number is :  3.0\n",
      "The imaginary part of complex number is :  5.0\n"
     ]
    }
   ],
   "source": [
    "#complex number in pyton\n",
    "a= 3+5j\n",
    "\n",
    "print (f\"The type of variable {a} : \",type(a))\n",
    "print (\"The real part of complex number is : \",a.real)\n",
    "print (\"The imaginary part of complex number is : \",a.imag)"
   ]
  },
  {
   "cell_type": "markdown",
   "id": "44ba2eaf-cc9a-497b-83f9-23b7a54f2601",
   "metadata": {},
   "source": [
    "Q) What is the correct way to declare a variable named age and assign the value 25 to it?"
   ]
  },
  {
   "cell_type": "markdown",
   "id": "827ea613-6b2e-4607-84f7-01c546d930c2",
   "metadata": {},
   "source": [
    "Rules for declaring python variables:\n",
    "->A variable name must start with a letter or the underscore character\n",
    "->A variable name cannot start with a number\n",
    "->A variable name can only contain alpha-numeric characters and underscores (A-z, 0-9, and _ )\n",
    "->Variable names are case-sensitive (age, Age and AGE are three different variables)"
   ]
  },
  {
   "cell_type": "code",
   "execution_count": 64,
   "id": "d747b42b-25c7-4150-8822-8a3d6a4e67b5",
   "metadata": {},
   "outputs": [
    {
     "name": "stdout",
     "output_type": "stream",
     "text": [
      "25\n"
     ]
    }
   ],
   "source": [
    "age = 25\n",
    "print(age)"
   ]
  },
  {
   "cell_type": "markdown",
   "id": "16224fdc-be9c-4b2f-8f99-bdc0601ad4b2",
   "metadata": {},
   "source": [
    "Q) Declare a variable named price and assign the value 9.99 to it. What data type does this variable\n",
    "belong to?"
   ]
  },
  {
   "cell_type": "code",
   "execution_count": 65,
   "id": "3143595e-fa13-4a75-a29d-ec19bc95172e",
   "metadata": {},
   "outputs": [
    {
     "name": "stdout",
     "output_type": "stream",
     "text": [
      "9.99 <class 'float'>\n"
     ]
    }
   ],
   "source": [
    "price =9.99\n",
    "print(price,type(price))"
   ]
  },
  {
   "cell_type": "markdown",
   "id": "e047e6bc-8b06-45a7-bea0-1b6d795e13bf",
   "metadata": {},
   "source": [
    "Q) Create a variable named name and assign your full name to it as a string. How would you print the\n",
    "value of this variable?"
   ]
  },
  {
   "cell_type": "code",
   "execution_count": 68,
   "id": "042892b1-573b-44d7-b2f7-e480aba8208e",
   "metadata": {},
   "outputs": [
    {
     "name": "stdout",
     "output_type": "stream",
     "text": [
      "Rachit Jatin Dani\n"
     ]
    },
    {
     "data": {
      "text/plain": [
       "'Rachit Jatin Dani'"
      ]
     },
     "execution_count": 68,
     "metadata": {},
     "output_type": "execute_result"
    }
   ],
   "source": [
    "name = \"Rachit Jatin Dani\"\n",
    "print(name) #using print function\n",
    "name #directly by calling variable name"
   ]
  },
  {
   "cell_type": "markdown",
   "id": "43b47e76-b1bb-4a64-be59-4ad8c3a2116c",
   "metadata": {},
   "source": [
    "Q) Given the string \"Hello, World!\", extract the substring \"World\"."
   ]
  },
  {
   "cell_type": "code",
   "execution_count": 77,
   "id": "1bc959fc-22f7-4322-abed-c8850fbe0d8f",
   "metadata": {},
   "outputs": [
    {
     "name": "stdout",
     "output_type": "stream",
     "text": [
      "World\n",
      "World\n",
      "World\n"
     ]
    }
   ],
   "source": [
    "string = \"Hello, World!\"\n",
    "print(string[7:12])\n",
    "print(string[7:-1])\n",
    "print(string[-6:-1])"
   ]
  },
  {
   "cell_type": "markdown",
   "id": "1450cf7a-e36a-468a-8117-21e863d30f72",
   "metadata": {},
   "source": [
    "Q) Create a variable named \"is_student\" and assign it a boolean value indicating whether you are\n",
    "currently a student or not."
   ]
  },
  {
   "cell_type": "code",
   "execution_count": 79,
   "id": "3ffbfb15-71b4-4d2d-a8b8-ba0f7a03aad3",
   "metadata": {},
   "outputs": [
    {
     "data": {
      "text/plain": [
       "True"
      ]
     },
     "execution_count": 79,
     "metadata": {},
     "output_type": "execute_result"
    }
   ],
   "source": [
    "is_student = True\n",
    "is_student"
   ]
  }
 ],
 "metadata": {
  "kernelspec": {
   "display_name": "Python 3 (ipykernel)",
   "language": "python",
   "name": "python3"
  },
  "language_info": {
   "codemirror_mode": {
    "name": "ipython",
    "version": 3
   },
   "file_extension": ".py",
   "mimetype": "text/x-python",
   "name": "python",
   "nbconvert_exporter": "python",
   "pygments_lexer": "ipython3",
   "version": "3.10.8"
  }
 },
 "nbformat": 4,
 "nbformat_minor": 5
}
