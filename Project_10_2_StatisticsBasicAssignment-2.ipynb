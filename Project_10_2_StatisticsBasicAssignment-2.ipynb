{
 "cells": [
  {
   "cell_type": "markdown",
   "id": "0f4502e3-7ac3-43ee-9093-1435321222a9",
   "metadata": {},
   "source": [
    "## Q1. What are the three measures of central tendency?"
   ]
  },
  {
   "cell_type": "markdown",
   "id": "9bdce660-9c7c-426e-a6f9-5f55ee3d6cbd",
   "metadata": {},
   "source": [
    "The mean, median, and mode are three different measures of central tendency used to describe the central value of a dataset. They provide information about where the data tends to cluster or concentrate.\n",
    "\n",
    "The three measures of central tendency are:\n",
    "\n",
    "1. Mean: The mean is the arithmetic average of a set of data points. It is calculated by summing all the values and then dividing by the total number of data points. The mean represents the central value around which the data points tend to cluster.\n",
    "\n",
    "2. Median: The median is the middle value of a dataset when the data points are arranged in ascending or descending order. If there is an even number of data points, the median is the average of the two middle values.\n",
    "\n",
    "3. Mode: The mode is the value that appears most frequently in a dataset. It can be a single value (unimodal) or multiple values (bimodal, trimodal, etc.) if there are multiple equally occurring modes.\n"
   ]
  },
  {
   "cell_type": "markdown",
   "id": "46a6b0a4-542d-415a-90d8-55b60a19c62f",
   "metadata": {},
   "source": [
    "## Q2. What is the difference between the mean, median, and mode? How are they used to measure the central tendency of a dataset?"
   ]
  },
  {
   "cell_type": "markdown",
   "id": "4812ba7d-f9d2-4ce9-b516-65a99becc5d6",
   "metadata": {},
   "source": [
    "The mean, median, and mode are three different measures of central tendency used to describe the central value of a dataset. They provide information about where the data tends to cluster or concentrate. The differences between the three measures and how they are used:\n",
    "\n",
    "#### Mean:\n",
    "- Definition: The mean is the arithmetic average of a set of data points. It is calculated by summing all the values and then dividing by the total number of data points.\n",
    "- Use: The mean is used to measure the central tendency when we want to find the \"average\" or \"typical\" value of the dataset.\n",
    "- Sensitivity to Outliers: The mean is sensitive to outliers, meaning extreme values can significantly impact its value.\n",
    "#### Median:\n",
    "- Definition: The median is the middle value of a dataset when the data points are arranged in ascending or descending order. If there is an even number of data points, the median is the average of the two middle values.\n",
    "- Use: The median is used when the dataset is skewed or contains outliers. It provides a measure of central tendency that is not influenced by extreme values.\n",
    "- Sensitivity to Outliers: The median is not sensitive to outliers, making it a robust measure of central tendency.\n",
    "#### Mode:\n",
    "- Definition: The mode is the value that appears most frequently in a dataset. It can be a single value (unimodal) or multiple values (bimodal, trimodal, etc.) if there are multiple equally occurring modes.\n",
    "- Use: The mode is used to identify the most common occurrence or category in the dataset.\n",
    "- Sensitivity to Outliers: The mode is not affected by outliers, as it only considers the frequency of values.\n",
    "\n",
    "<br>The mean, median, and mode are used to measure the central tendency of a dataset in different ways. The mean is useful when the dataset is approximately symmetric and not heavily influenced by outliers. The median is preferred when the dataset is skewed or contains extreme values, as it is robust to such situations. The mode is employed to identify the most common value or category in the dataset, regardless of the data's distribution."
   ]
  },
  {
   "cell_type": "markdown",
   "id": "8ab15055-7f2d-4e6b-acd5-0a50ed8da20e",
   "metadata": {},
   "source": [
    "## Q3. Measure the three measures of central tendency for the given height data:\n",
    "[178,177,176,177,178.2,178,175,179,180,175,178.9,176.2,177,172.5,178,176.5]"
   ]
  },
  {
   "cell_type": "code",
   "execution_count": 1,
   "id": "5867fdde-151a-440a-8fda-2bb237645936",
   "metadata": {},
   "outputs": [],
   "source": [
    "import numpy as np\n",
    "\n",
    "data = [178,177,176,177,178.2,178,175,179,180,175,178.9,176.2,177,172.5,178,176.5]"
   ]
  },
  {
   "cell_type": "code",
   "execution_count": 2,
   "id": "dec43728-7dac-435c-bb22-66b9b1dc0198",
   "metadata": {},
   "outputs": [
    {
     "data": {
      "text/plain": [
       "177.01875"
      ]
     },
     "execution_count": 2,
     "metadata": {},
     "output_type": "execute_result"
    }
   ],
   "source": [
    "#Mean of the data\n",
    "np.mean(data)"
   ]
  },
  {
   "cell_type": "code",
   "execution_count": 3,
   "id": "29acbf5c-a957-4b98-8d92-d890e225e8e6",
   "metadata": {},
   "outputs": [
    {
     "data": {
      "text/plain": [
       "177.0"
      ]
     },
     "execution_count": 3,
     "metadata": {},
     "output_type": "execute_result"
    }
   ],
   "source": [
    "#Median of the data\n",
    "np.median(data)"
   ]
  },
  {
   "cell_type": "code",
   "execution_count": 4,
   "id": "eebb545e-3020-4ce3-8bc3-ca88b019fd19",
   "metadata": {},
   "outputs": [
    {
     "name": "stderr",
     "output_type": "stream",
     "text": [
      "/tmp/ipykernel_3225/1141732357.py:4: FutureWarning: Unlike other reduction functions (e.g. `skew`, `kurtosis`), the default behavior of `mode` typically preserves the axis it acts along. In SciPy 1.11.0, this behavior will change: the default value of `keepdims` will become False, the `axis` over which the statistic is taken will be eliminated, and the value None will no longer be accepted. Set `keepdims` to True or False to avoid this warning.\n",
      "  stats.mode(data)\n"
     ]
    },
    {
     "data": {
      "text/plain": [
       "ModeResult(mode=array([177.]), count=array([3]))"
      ]
     },
     "execution_count": 4,
     "metadata": {},
     "output_type": "execute_result"
    }
   ],
   "source": [
    "#import stats library for mode calculation\n",
    "from scipy import stats\n",
    "#Mode of the data\n",
    "stats.mode(data)"
   ]
  },
  {
   "cell_type": "markdown",
   "id": "f35575dd-cc11-4b2b-b906-ce7ecc3a49ad",
   "metadata": {},
   "source": [
    "## Q4. Find the standard deviation for the given data:\n",
    "[178,177,176,177,178.2,178,175,179,180,175,178.9,176.2,177,172.5,178,176.5]"
   ]
  },
  {
   "cell_type": "code",
   "execution_count": 5,
   "id": "b79d2ace-1596-4ef2-b595-ec31bc71064b",
   "metadata": {},
   "outputs": [
    {
     "data": {
      "text/plain": [
       "1.7885814036548633"
      ]
     },
     "execution_count": 5,
     "metadata": {},
     "output_type": "execute_result"
    }
   ],
   "source": [
    "import numpy as np\n",
    "data = [178,177,176,177,178.2,178,175,179,180,175,178.9,176.2,177,172.5,178,176.5]\n",
    "np.std(data)"
   ]
  },
  {
   "cell_type": "markdown",
   "id": "ad07722d-edd8-4ef3-84de-8afb72b11257",
   "metadata": {},
   "source": [
    "## Q5. How are measures of dispersion such as range, variance, and standard deviation used to describe the spread of a dataset? Provide an example."
   ]
  },
  {
   "cell_type": "markdown",
   "id": "1acc34ae-0e8f-4bcf-b70b-20a0e231cc6a",
   "metadata": {},
   "source": [
    "Measures of dispersion, such as range, variance, and standard deviation, are used to describe the spread or variability of a dataset. They provide information about how much the data points deviate from the central tendency measures (mean, median, or mode) and how spread out the values are within the dataset.\n",
    "\n",
    "1. Range:\n",
    "- Definition: The range is the simplest measure of dispersion and represents the difference between the maximum and minimum values in a dataset.\n",
    "- Use: The range gives an idea of the spread of the data from the lowest to the highest value.\n",
    "- Example: Consider the following dataset of test scores: [70, 75, 80, 85, 90]. The range is calculated as 90 (maximum value) - 70 (minimum value) = 20. This means the spread of the test scores in the dataset is 20 points.\n",
    "2. Variance:\n",
    "- Definition: Variance is a measure of how far the data points are spread out from the mean. It quantifies the average squared deviation of each data point from the mean.\n",
    "- Use: Variance provides an overall measure of dispersion, considering all data points.\n",
    "- Calculation: The variance is computed by taking the sum of the squared differences between each data point and the mean, dividing it by the total number of data points (or n-1 for sample variance due to bessels correction to remove bias).\n",
    "- Example: Continuing with the test scores dataset, let's assume the mean of the scores is 80. The variance would be calculated as [(70-80)^2 + (75-80)^2 + (80-80)^2 + (85-80)^2 + (90-80)^2] / 5 = 100. The variance of 100 indicates that the test scores have considerable variability from the mean score of 80.\n",
    "3. Standard Deviation:\n",
    "- Definition: The standard deviation is the square root of the variance. It is used to describe the typical amount of deviation or dispersion of data points from the mean.\n",
    "- Use: Standard deviation provides a measure of the spread of data in the original units of measurement, making it easier to interpret and compare to the mean.\n",
    "- Calculation: The standard deviation is computed by taking the square root of the variance.\n",
    "- Example: In the test scores dataset, the standard deviation would be the square root of the variance, which is √100 = 10. This indicates that the typical deviation of the test scores from the mean of 80 is 10 points."
   ]
  },
  {
   "cell_type": "markdown",
   "id": "0d307497-de7a-4ccb-af75-edc6963ad6e2",
   "metadata": {},
   "source": [
    "## Q6. What is a Venn diagram?"
   ]
  },
  {
   "cell_type": "markdown",
   "id": "e05f4731-1aec-4b62-9dc9-2917bf7a85a9",
   "metadata": {},
   "source": [
    "A Venn diagram is a graphical representation used to illustrate the relationships and similarities between different sets or groups of data. It consists of overlapping circles or ellipses, each representing a separate set or category. The areas of overlap between the circles show the intersections or common elements shared by the sets.\n",
    "\n",
    "Venn diagrams are particularly useful for visualizing set relationships and making comparisons between multiple datasets or categories. They are named after John Venn, a British mathematician and philosopher who introduced them in the 19th century.\n",
    "\n",
    "Key features of a Venn diagram:\n",
    "\n",
    "1. Circles (or Ellipses): Each circle in the diagram represents a different set or category. The circles may overlap to show the shared elements between the sets.\n",
    "\n",
    "2. Overlapping Areas: The overlapping regions between the circles represent the intersections or common elements that belong to multiple sets simultaneously.\n",
    "\n",
    "3. Non-overlapping Areas: The non-overlapping areas of each circle represent the elements unique to that particular set.\n",
    "\n",
    "4. Labels: Venn diagrams often have labels or names associated with each set, making it clear which sets are being compared."
   ]
  },
  {
   "cell_type": "markdown",
   "id": "dad92998-640d-4e10-9b1c-1d451ad17af9",
   "metadata": {},
   "source": [
    "## Q7. For the two given sets A = (2,3,4,5,6,7) & B = (0,2,6,8,10). Find:\n",
    "(i) A ∩ B\n",
    "(ii) A ⋃ B"
   ]
  },
  {
   "cell_type": "markdown",
   "id": "ebe4173d-241f-4fba-98d3-a7326546e8d6",
   "metadata": {},
   "source": [
    "A = (2,3,4,5,6,7)\n",
    "B = (0,2,6,8,10)\n",
    "\n",
    "1. A ∩ B : (A intersection B)\n",
    "- This represents the A intersection B which means all the common elements between A and B.\n",
    "- The output of the intersections of the above set will be (2,6)\n",
    "\n",
    "2. A ⋃ B : (A union B)\n",
    "- This represents the A union B which means all the elements of A and B ie,distinct elements.\n",
    "- The output of the union of the above set will be (0,2,3,4,5,6,7,8,10)\n"
   ]
  },
  {
   "cell_type": "code",
   "execution_count": 6,
   "id": "8f9da6e2-bf5e-41ec-968a-26cd72b0a4e5",
   "metadata": {},
   "outputs": [
    {
     "name": "stdout",
     "output_type": "stream",
     "text": [
      "Intersection of A and B is :  {2, 6}\n",
      "Union of A and B is :  {0, 2, 3, 4, 5, 6, 7, 8, 10}\n"
     ]
    }
   ],
   "source": [
    "A = {2,3,4,5,6,7}\n",
    "B = {0,2,6,8,10}\n",
    "\n",
    "a_intersection_b = A.intersection(B)\n",
    "print(\"Intersection of A and B is : \",a_intersection_b)\n",
    "a_union_b = A.union(B)\n",
    "print(\"Union of A and B is : \",a_union_b)"
   ]
  },
  {
   "cell_type": "markdown",
   "id": "e703ac60-baa9-45e3-8429-f3fb98c8154c",
   "metadata": {},
   "source": [
    "## Q8. What do you understand about skewness in data?"
   ]
  },
  {
   "cell_type": "markdown",
   "id": "995818e0-8e6b-4c66-b587-e24e7c227aae",
   "metadata": {},
   "source": [
    "Skewness is a statistical term that refers to the asymmetry or lack of symmetry in the distribution of a dataset. In a symmetrical distribution, the data is evenly distributed around the mean, with the left and right sides of the distribution mirroring each other. However, in a skewed distribution, the data is concentrated more towards one tail of the distribution, resulting in a longer tail on one side and a shorter tail on the other.\n",
    "\n",
    "Skewness is an essential concept in data analysis as it helps to understand the shape and characteristics of a dataset. There are three types of skewness:\n",
    "\n",
    "1. Positive Skewness (Right Skewness):\n",
    "In a positively skewed distribution, the majority of the data is concentrated towards the lower values (left side) of the distribution, and the tail extends to the right. This results in a longer right tail and a shorter left tail. The mean is typically greater than the median in positively skewed data.\n",
    "\n",
    "- Here the Mean > Median >Mode\n",
    "- Example of Positive Skewness: <br>Consider the distribution of household incomes in a country. Most households might have lower incomes, with a few extremely high-income households creating a long right tail.\n",
    "\n",
    "\n",
    "2. Negative Skewness (Left Skewness):\n",
    "In a negatively skewed distribution, the majority of the data is concentrated towards the higher values (right side) of the distribution, and the tail extends to the left. This results in a longer left tail and a shorter right tail. The mean is typically less than the median in negatively skewed data.\n",
    "\n",
    "- Here the Mean < Median < Mode\n",
    "- Example of Negative Skewness: <br>Consider the distribution of test scores in a difficult exam. Most students might score higher marks, but a few students might perform poorly, leading to a long left tail.\n",
    "\n",
    "\n",
    "3. Zero Skewness (Symmetrical/Gaussian Distribution):\n",
    "In a symmetrical distribution, the data is evenly distributed around the mean, and there is no skewness. The left and right sides of the distribution mirror each other, and the mean and median are approximately equal.\n",
    "\n",
    "- Here the Mean = Median = Mode\n",
    "- Example of Zero Skewness: <br>The distribution of heights in a population, where most people have average heights and the distribution is symmetrical around the mean height."
   ]
  },
  {
   "cell_type": "markdown",
   "id": "fb96c538-444e-4553-8e36-3dc6046e014c",
   "metadata": {},
   "source": [
    "## Q9. If a data is right skewed then what will be the position of median with respect to mean?"
   ]
  },
  {
   "cell_type": "markdown",
   "id": "1892d814-0537-4a65-9bb6-9ba82151d467",
   "metadata": {},
   "source": [
    "If a dataset is right-skewed, the median will be positioned to the left of the mean ie the value of median will be smaller than mean.\n",
    "\n",
    "In a right-skewed distribution, the majority of the data is concentrated towards the lower values, resulting in a long tail extending to the right. This elongated tail on the right side is caused by a few extremely high values that pull the mean towards the right. As a result, the mean gets inflated by the presence of these high values, causing it to be larger than the median.\n",
    "\n",
    "The median, on the other hand, is less influenced by extreme values or outliers because it represents the middle value of the dataset when the data is ordered. It is not affected by the specific values in the tail of the distribution. \n",
    "\n",
    "Therefore, in a right-skewed distribution, where the tail is longer on the right, the median will be closer to the bulk of the data on the left side, and it will be to the left of the mean."
   ]
  },
  {
   "cell_type": "markdown",
   "id": "1a3f8c41-7b31-43f0-b5d3-1fb5afa249c1",
   "metadata": {},
   "source": [
    "## Q10. Explain the difference between covariance and correlation. How are these measures used in statistical analysis?"
   ]
  },
  {
   "cell_type": "markdown",
   "id": "9277eba9-0dc9-4e38-91a8-4f5f1329ec5b",
   "metadata": {},
   "source": [
    "Covariance and Correlation are useful measures in statistical analysis to assess the relationship between two variables. Covariance gives the direction of the relationship, while correlation provides a standardized measure of both direction and strength.\n",
    "\n",
    "### Covariance:\n",
    "Covariance measures the degree to which two variables change together. It indicates whether the variables increase or decrease simultaneously. A positive covariance indicates that as one variable increases, the other tends to increase as well. Conversely, a negative covariance indicates that as one variable increases, the other tends to decrease. However, covariance alone does not provide information about the strength or direction of the relationship.\n",
    "\n",
    "Formula for Covariance (for a sample):\n",
    "Cov(X, Y) = Σ((Xi - X̄)(Yi - Ȳ)) / (n - 1)\n",
    "\n",
    "Where:\n",
    "- Cov(X, Y) is the covariance between variables X and Y.\n",
    "- Xi and Yi are individual data points in the X and Y datasets, respectively.\n",
    "- X̄ and Ȳ are the sample means of the X and Y datasets, respectively.\n",
    "- n is the number of data points in the datasets.\n",
    "\n",
    "\n",
    "### Correlation:\n",
    "Correlation, on the other hand, is a standardized measure that provides the strength and direction of the relationship between two variables. It normalizes the covariance by dividing it by the product of the standard deviations of the two variables, resulting in a value between -1 and +1. A correlation of +1 indicates a perfect positive linear relationship, -1 indicates a perfect negative linear relationship, and 0 indicates no linear relationship.\n",
    "\n",
    "Formula for Correlation (for a sample):\n",
    "Corr(X, Y) = Cov(X, Y) / (sX * sY)\n",
    "\n",
    "Where:\n",
    "- Corr(X, Y) is the correlation coefficient between variables X and Y.\n",
    "- Cov(X, Y) is the covariance between variables X and Y.\n",
    "- sX and sY are the sample standard deviations of variables X and Y, respectively.\n",
    "\n",
    "\n",
    "Both covariance and correlation are used to analyze the relationship between two variables in a dataset:\n",
    "\n",
    "1. Covariance: Covariance provides a measure of the direction of the relationship (positive or negative) between two variables. However, the value of covariance itself does not give information about the strength of the relationship or its significance, making it less interpretable than correlation.\n",
    "\n",
    "2. Correlation: Correlation provides a standardized measure of the strength and direction of the linear relationship between two variables. It is widely used because it is scale-independent, making it easier to interpret and compare across different datasets. Positive correlation values indicate that the variables move together, while negative correlation values indicate that they move in opposite directions. A correlation close to +1 or -1 indicates a strong linear relationship, while a correlation close to 0 suggests a weak or no linear relationship."
   ]
  },
  {
   "cell_type": "markdown",
   "id": "18a83bc6-8936-402f-9e35-57f3b8bc0cf1",
   "metadata": {},
   "source": [
    "## Q11. What is the formula for calculating the sample mean? Provide an example calculation for a dataset."
   ]
  },
  {
   "cell_type": "markdown",
   "id": "fe19c23d-512a-4aa8-a8bd-9abf653176f3",
   "metadata": {},
   "source": [
    "The formula for calculating the sample mean is:\n",
    "\n",
    "Sample Mean (x̄) = (Sum of all data points) / (Number of data points)\n",
    "\n",
    "In mathematical notation:\n",
    "x̄ = (Σ Xi) / n\n",
    "\n",
    "Where:\n",
    "\n",
    "- x̄ is the sample mean.\n",
    "- Σ represents the summation symbol (sum of all data points).\n",
    "- Xi represents individual data points in the dataset.\n",
    "- n is the number of data points in the sample.\n",
    "\n",
    "Example : Taking the grades of a sample student = [81,79,90,98,92]\n",
    "\n",
    "Number of samples (n) = 5 \n",
    "\n",
    "Mean = (81+79+90+98+92)/5\n",
    "     = 440/5\n",
    "     = 88  \n",
    "     \n",
    "Therefore the Mean of the sample data is 88\n"
   ]
  },
  {
   "cell_type": "markdown",
   "id": "502ff823-3ece-41e8-9308-4cbeaff75907",
   "metadata": {},
   "source": [
    "## Q12. For a normal distribution data what is the relationship between its measure of central tendency?"
   ]
  },
  {
   "cell_type": "markdown",
   "id": "9978c798-64df-4b77-8b92-327c1ace4d24",
   "metadata": {},
   "source": [
    "For a normal distribution, the three measures of central tendency, namely the mean, median, and mode, are all equal to each other. In a perfectly symmetrical normal distribution, the data is evenly distributed around the center, resulting in the same value for each measure of central tendency.\n",
    "\n",
    "Mean = Median = Mode\n",
    "\n",
    "The relationship between the measures of central tendency in a normal distribution is as follows:\n",
    "\n",
    "Mean: The mean of a normal distribution is located at the center of the distribution, and it is equal to the median and the mode.\n",
    "\n",
    "Median: The median of a normal distribution is also located at the center of the distribution, and it is equal to the mean and the mode.\n",
    "\n",
    "Mode: The mode of a normal distribution is the peak point of the curve, and it is equal to both the mean and the median.\n",
    "\n",
    "This equality between the mean, median, and mode in a normal distribution is a characteristic of its symmetry. The symmetrical shape of the normal distribution curve is bell-shaped, and half of the data lies on either side of the mean, resulting in the median being the same as the mean and mode."
   ]
  },
  {
   "cell_type": "markdown",
   "id": "77d16582-bef1-4f2b-9553-c4701d19b9f2",
   "metadata": {},
   "source": [
    "## Q13. How is covariance different from correlation?"
   ]
  },
  {
   "cell_type": "markdown",
   "id": "4467636a-6158-474e-9ee6-7193217d20d7",
   "metadata": {},
   "source": [
    "Covariance and Correlation are useful measures in statistical analysis to assess the relationship between two variables. Covariance gives the direction of the relationship, while correlation provides a standardized measure of both direction and strength.\n",
    "\n",
    "### Covariance:\n",
    "Covariance measures the degree to which two variables change together. It indicates whether the variables increase or decrease simultaneously. A positive covariance indicates that as one variable increases, the other tends to increase as well. Conversely, a negative covariance indicates that as one variable increases, the other tends to decrease. However, covariance alone does not provide information about the strength or direction of the relationship.\n",
    "\n",
    "Formula for Covariance (for a sample):\n",
    "Cov(X, Y) = Σ((Xi - X̄)(Yi - Ȳ)) / (n - 1)\n",
    "\n",
    "Where:\n",
    "- Cov(X, Y) is the covariance between variables X and Y.\n",
    "- Xi and Yi are individual data points in the X and Y datasets, respectively.\n",
    "- X̄ and Ȳ are the sample means of the X and Y datasets, respectively.\n",
    "- n is the number of data points in the datasets.\n",
    "\n",
    "\n",
    "### Correlation:\n",
    "Correlation, on the other hand, is a standardized measure that provides the strength and direction of the relationship between two variables. It normalizes the covariance by dividing it by the product of the standard deviations of the two variables, resulting in a value between -1 and +1. A correlation of +1 indicates a perfect positive linear relationship, -1 indicates a perfect negative linear relationship, and 0 indicates no linear relationship.\n",
    "\n",
    "Formula for Correlation (for a sample):\n",
    "Corr(X, Y) = Cov(X, Y) / (sX * sY)\n",
    "\n",
    "Where:\n",
    "- Corr(X, Y) is the correlation coefficient between variables X and Y.\n",
    "- Cov(X, Y) is the covariance between variables X and Y.\n",
    "- sX and sY are the sample standard deviations of variables X and Y, respectively.\n",
    "\n",
    "\n",
    "\n",
    "Covariance and Correlation are useful measures in statistical analysis to assess the relationship between two variables. Covariance gives the direction of the relationship, while correlation provides a standardized measure of both direction and strength."
   ]
  },
  {
   "cell_type": "markdown",
   "id": "53a9241d-8522-470c-a0d8-e5eecfdc08ce",
   "metadata": {},
   "source": [
    "## Q14. How do outliers affect measures of central tendency and dispersion? Provide an example."
   ]
  },
  {
   "cell_type": "markdown",
   "id": "bd5c5f52-b3a8-492b-8c5f-abafb99f1351",
   "metadata": {},
   "source": [
    "Outliers can have a significant impact on measures of central tendency and dispersion in a dataset. An outlier is an extreme value that is unusually distant from the rest of the data points. When present in a dataset, outliers can distort the typical characteristics of the data, affecting both the central tendency and the spread of the data. "
   ]
  },
  {
   "cell_type": "code",
   "execution_count": 7,
   "id": "3ec24df3-a59a-4bf8-b441-4a7fbf955311",
   "metadata": {},
   "outputs": [],
   "source": [
    "import numpy as np\n",
    "from scipy import stats\n",
    "data1 = [178,177,176,177,178.2,178,175,179,180,175,178.9,176.2,177,172.5,178,176.5,220]\n",
    "data2 = [178,177,176,177,178.2,178,175,179,180,175,178.9,176.2,177,172.5,178,176.5,220,210,204]\n",
    "data3 = [178,177,176,177,178.2,178,175,179,180,175,178.9,176.2,177,172.5,178,176.5]"
   ]
  },
  {
   "cell_type": "code",
   "execution_count": 8,
   "id": "97d0268f-6684-428a-9549-b3c8c9de7939",
   "metadata": {},
   "outputs": [
    {
     "name": "stdout",
     "output_type": "stream",
     "text": [
      "Mean Of Data3 :  177.01875\n",
      "Mean Of Data1 :  179.54705882352943\n",
      "Mean Of Data2 :  182.43684210526317\n"
     ]
    }
   ],
   "source": [
    "print(\"Mean Of Data3 : \",np.mean(data3))\n",
    "print(\"Mean Of Data1 : \",np.mean(data1))\n",
    "print(\"Mean Of Data2 : \",np.mean(data2))"
   ]
  },
  {
   "cell_type": "code",
   "execution_count": 9,
   "id": "560e2809-539e-407e-92f2-20056ab135dd",
   "metadata": {},
   "outputs": [
    {
     "name": "stdout",
     "output_type": "stream",
     "text": [
      "Median of Data3 :  177.0\n",
      "Median of Data2 :  178.0\n",
      "Median of Data1 :  177.0\n"
     ]
    }
   ],
   "source": [
    "print(\"Median of Data3 : \",np.median(data3))\n",
    "print(\"Median of Data2 : \",np.median(data2))\n",
    "print(\"Median of Data1 : \",np.median(data1))"
   ]
  },
  {
   "cell_type": "code",
   "execution_count": 10,
   "id": "8ec6f1d2-8139-4356-97bd-b81ad6f8bc2f",
   "metadata": {},
   "outputs": [
    {
     "name": "stdout",
     "output_type": "stream",
     "text": [
      "Mode of Data3 :  ModeResult(mode=array([177.]), count=array([3]))\n",
      "Mode of Data2 :  ModeResult(mode=array([177.]), count=array([3]))\n",
      "Mode of Data1 :  ModeResult(mode=array([177.]), count=array([3]))\n"
     ]
    },
    {
     "name": "stderr",
     "output_type": "stream",
     "text": [
      "/tmp/ipykernel_3225/440783010.py:1: FutureWarning: Unlike other reduction functions (e.g. `skew`, `kurtosis`), the default behavior of `mode` typically preserves the axis it acts along. In SciPy 1.11.0, this behavior will change: the default value of `keepdims` will become False, the `axis` over which the statistic is taken will be eliminated, and the value None will no longer be accepted. Set `keepdims` to True or False to avoid this warning.\n",
      "  print(\"Mode of Data3 : \",stats.mode(data3))\n",
      "/tmp/ipykernel_3225/440783010.py:2: FutureWarning: Unlike other reduction functions (e.g. `skew`, `kurtosis`), the default behavior of `mode` typically preserves the axis it acts along. In SciPy 1.11.0, this behavior will change: the default value of `keepdims` will become False, the `axis` over which the statistic is taken will be eliminated, and the value None will no longer be accepted. Set `keepdims` to True or False to avoid this warning.\n",
      "  print(\"Mode of Data2 : \",stats.mode(data2))\n",
      "/tmp/ipykernel_3225/440783010.py:3: FutureWarning: Unlike other reduction functions (e.g. `skew`, `kurtosis`), the default behavior of `mode` typically preserves the axis it acts along. In SciPy 1.11.0, this behavior will change: the default value of `keepdims` will become False, the `axis` over which the statistic is taken will be eliminated, and the value None will no longer be accepted. Set `keepdims` to True or False to avoid this warning.\n",
      "  print(\"Mode of Data1 : \",stats.mode(data1))\n"
     ]
    }
   ],
   "source": [
    "print(\"Mode of Data3 : \",stats.mode(data3))\n",
    "print(\"Mode of Data2 : \",stats.mode(data2))\n",
    "print(\"Mode of Data1 : \",stats.mode(data1))"
   ]
  },
  {
   "cell_type": "markdown",
   "id": "3df9f173-01ba-47a9-93d6-0eb8703f25c3",
   "metadata": {},
   "source": [
    "Here we observe that :\n",
    "\n",
    "- The Mean is the one which is most affected with outliers.There is a significant change in mean with the increase in the presence of outliers.\n",
    "- The Mean of the data without  outliers is 177.01\n",
    "- The Mean of the data with 1  outlier is 179.43\n",
    "- The Mean of the data with 3  outlier is 182.54\n",
    "\n",
    "The Median is not much affected with the presence of outliers in the data but the affect is significantly smaller compared to mean\n",
    "- The Median of the data without  outliers is 177.00\n",
    "- The Median of the data with 1  outlier is 177.00\n",
    "- The Median of the data with 3  outliers is 178.00\n",
    "\n",
    "The Mode is not affected with the presence of outliers in the data\n",
    "- The Mode of the data without  outliers is 177.00\n",
    "- The Mode of the data with 1  outlier is 177.00\n",
    "- The Mode of the data with 3  outliers is 177.010"
   ]
  }
 ],
 "metadata": {
  "kernelspec": {
   "display_name": "Python 3 (ipykernel)",
   "language": "python",
   "name": "python3"
  },
  "language_info": {
   "codemirror_mode": {
    "name": "ipython",
    "version": 3
   },
   "file_extension": ".py",
   "mimetype": "text/x-python",
   "name": "python",
   "nbconvert_exporter": "python",
   "pygments_lexer": "ipython3",
   "version": "3.10.8"
  }
 },
 "nbformat": 4,
 "nbformat_minor": 5
}
