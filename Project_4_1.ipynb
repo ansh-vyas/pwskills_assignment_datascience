{
 "cells": [
  {
   "cell_type": "markdown",
   "id": "1f99a4bb-3fc6-4fc6-b45c-4eb43bca7dbf",
   "metadata": {},
   "source": [
    "## Q1)Explain Class and Object with respect to Object-Oriented Programming. Give a suitable example."
   ]
  },
  {
   "cell_type": "markdown",
   "id": "a489a12d-a053-48b8-bef9-276fdbcad36a",
   "metadata": {},
   "source": [
    "Python is an object oriented programming language.\n",
    "\n",
    "A Class is like an object constructor, or a \"blueprint\" for creating objects.\n",
    "\n",
    "Almost everything in Python is an object, with its properties and methods."
   ]
  },
  {
   "cell_type": "code",
   "execution_count": 1,
   "id": "115266a4-6c3a-49db-99ba-54948e67221c",
   "metadata": {},
   "outputs": [],
   "source": [
    "#creating a class\n",
    "\n",
    "class operations:\n",
    "    \n",
    "    def __init__(self,a,b):\n",
    "        self.a=a\n",
    "        self.b=b\n",
    "        \n",
    "    def adding(self):\n",
    "        return self.a+self.b\n",
    "    \n",
    "    def subrating(self):\n",
    "        return self.a-self.b"
   ]
  },
  {
   "cell_type": "code",
   "execution_count": 2,
   "id": "b5db0e5f-f5ac-4674-9189-72d340cad457",
   "metadata": {},
   "outputs": [],
   "source": [
    "#creating an object ie.instance of a class\n",
    "\n",
    "obj = operations(23,45)"
   ]
  },
  {
   "cell_type": "code",
   "execution_count": 3,
   "id": "e78ce5b5-abf2-40bf-98ab-2a38431588fe",
   "metadata": {},
   "outputs": [
    {
     "data": {
      "text/plain": [
       "68"
      ]
     },
     "execution_count": 3,
     "metadata": {},
     "output_type": "execute_result"
    }
   ],
   "source": [
    "obj.adding()"
   ]
  },
  {
   "cell_type": "code",
   "execution_count": 4,
   "id": "975447a5-87e3-4812-97d8-eb917684c22a",
   "metadata": {},
   "outputs": [
    {
     "data": {
      "text/plain": [
       "-22"
      ]
     },
     "execution_count": 4,
     "metadata": {},
     "output_type": "execute_result"
    }
   ],
   "source": [
    "obj.subrating()"
   ]
  },
  {
   "cell_type": "markdown",
   "id": "17e91bcc-f4f6-4465-ae2e-90836c0d90b4",
   "metadata": {},
   "source": [
    "## Q2) Name the four pillars of OOPs."
   ]
  },
  {
   "cell_type": "markdown",
   "id": "d3bbd3ad-c9b7-4e49-bb47-dfebdaca70cc",
   "metadata": {},
   "source": [
    "#### There are four pillars:\n",
    "\n",
    "###### --> Encapsulation :  To enclose something in or as if in a capsule.\n",
    "###### --> Inheritance : To receive a quality, characteristic, etc., from your parents or family.\n",
    "###### --> Polymorphism : The condition of occurrence in several different forms.\n",
    "###### --> Abstraction : A general idea rather than one that relates to a particular object, person, or situation."
   ]
  },
  {
   "cell_type": "code",
   "execution_count": 5,
   "id": "9d83ef43-ff43-4770-8201-2de65f51727e",
   "metadata": {},
   "outputs": [],
   "source": [
    "#Encapsulation Implemtation(Cell 5 -10)\n",
    "\n",
    "class bank_account:\n",
    "    \n",
    "    def __init__(self,balance):\n",
    "        self.__balance = balance\n",
    "        \n",
    "    def deposit(self,amount):\n",
    "        self.__balance = self.__balance + amount\n",
    "    \n",
    "    def withdraw(self,amount):\n",
    "        if self.__balance >= amount:\n",
    "            self.__balance = self.__balance - amount\n",
    "            return \"Transaction Sucessful\"\n",
    "        else:\n",
    "            return \"Insufficient Balance\"\n",
    "        \n",
    "    def get_balance(self):\n",
    "        return self.__balance\n"
   ]
  },
  {
   "cell_type": "code",
   "execution_count": 6,
   "id": "097795c9-647c-40d2-8c5f-5a3765eedcb7",
   "metadata": {},
   "outputs": [],
   "source": [
    "ravi_account = bank_account(20000)"
   ]
  },
  {
   "cell_type": "code",
   "execution_count": 7,
   "id": "94a46126-3ab9-4c12-b4c9-885f05b76472",
   "metadata": {},
   "outputs": [
    {
     "data": {
      "text/plain": [
       "'Transaction Sucessful'"
      ]
     },
     "execution_count": 7,
     "metadata": {},
     "output_type": "execute_result"
    }
   ],
   "source": [
    "ravi_account.withdraw(15000)"
   ]
  },
  {
   "cell_type": "code",
   "execution_count": 8,
   "id": "90717b84-b4d9-4692-ae0e-dd7a7df3dd86",
   "metadata": {},
   "outputs": [
    {
     "data": {
      "text/plain": [
       "5000"
      ]
     },
     "execution_count": 8,
     "metadata": {},
     "output_type": "execute_result"
    }
   ],
   "source": [
    "ravi_account.get_balance()"
   ]
  },
  {
   "cell_type": "code",
   "execution_count": 9,
   "id": "b8087f38-f53a-4082-ab23-80eed51a508f",
   "metadata": {},
   "outputs": [
    {
     "data": {
      "text/plain": [
       "'Insufficient Balance'"
      ]
     },
     "execution_count": 9,
     "metadata": {},
     "output_type": "execute_result"
    }
   ],
   "source": [
    "ravi_account.withdraw(6000)"
   ]
  },
  {
   "cell_type": "code",
   "execution_count": 10,
   "id": "7c092d3c-dd0f-4d0e-b7fc-d793e0fa7a1a",
   "metadata": {},
   "outputs": [
    {
     "data": {
      "text/plain": [
       "5000"
      ]
     },
     "execution_count": 10,
     "metadata": {},
     "output_type": "execute_result"
    }
   ],
   "source": [
    "ravi_account.get_balance()"
   ]
  },
  {
   "cell_type": "code",
   "execution_count": 11,
   "id": "e7055583-1833-4c4a-98f4-d0e7b2bec4eb",
   "metadata": {},
   "outputs": [],
   "source": [
    "#Inheritance Implementation (cell 11 = 14)\n",
    "\n",
    "class parent:\n",
    "    def test_parent(self):\n",
    "        print(\"This is parent class\")    "
   ]
  },
  {
   "cell_type": "code",
   "execution_count": 12,
   "id": "be0155c0-c578-41cf-8bd9-fbd045e62c28",
   "metadata": {},
   "outputs": [],
   "source": [
    "class child(parent):\n",
    "        pass"
   ]
  },
  {
   "cell_type": "code",
   "execution_count": 13,
   "id": "6385d9d7-9fc5-40f5-8f0f-8d2ff1412d23",
   "metadata": {},
   "outputs": [],
   "source": [
    "c = child()"
   ]
  },
  {
   "cell_type": "code",
   "execution_count": 14,
   "id": "9ef51354-0ddf-4969-b04d-ee8f6fba7c1d",
   "metadata": {},
   "outputs": [
    {
     "name": "stdout",
     "output_type": "stream",
     "text": [
      "This is parent class\n"
     ]
    }
   ],
   "source": [
    "#functions of parent class are accesible to the object\n",
    "c.test_parent()"
   ]
  },
  {
   "cell_type": "code",
   "execution_count": 15,
   "id": "5b8b9d4a-72b5-40d0-9439-a139c1743eac",
   "metadata": {},
   "outputs": [],
   "source": [
    "#Polymorphism Implementation (Cell 15 - cell 18)\n",
    "class tenth:\n",
    "    def syllabus(self):\n",
    "        print(\"Only 2 Chapters left to teach in tenth\")\n",
    "    \n",
    "class twelth:\n",
    "    def syllabus(self):\n",
    "        print(\"Yet 4 Chapters left to teach in twelth\")\n",
    "        \n",
    "def class_parcer(class_obj):\n",
    "    for i in class_obj:\n",
    "        i.syllabus()\n",
    "    "
   ]
  },
  {
   "cell_type": "code",
   "execution_count": 16,
   "id": "c54dab4f-3ef2-40b0-8ad3-dbd33832997e",
   "metadata": {},
   "outputs": [],
   "source": [
    "tenth_obj = tenth()\n",
    "twelth_obj = twelth()"
   ]
  },
  {
   "cell_type": "code",
   "execution_count": 17,
   "id": "7c590919-abc1-4512-9d45-fdcf86a6ce1c",
   "metadata": {},
   "outputs": [],
   "source": [
    "obj= [tenth_obj,twelth_obj]"
   ]
  },
  {
   "cell_type": "code",
   "execution_count": 18,
   "id": "6d7e7e33-1443-4a6e-b58e-439512eba4ad",
   "metadata": {},
   "outputs": [
    {
     "name": "stdout",
     "output_type": "stream",
     "text": [
      "Only 2 Chapters left to teach in tenth\n",
      "Yet 4 Chapters left to teach in twelth\n"
     ]
    }
   ],
   "source": [
    "class_parcer(obj)"
   ]
  },
  {
   "cell_type": "code",
   "execution_count": 19,
   "id": "319f14bc-9368-4174-a71b-f8b9cc5872b0",
   "metadata": {},
   "outputs": [],
   "source": [
    "#abstraction implementaion (Cell 19 - Cell 22)\n",
    "\n",
    "#library to use abstraction\n",
    "import abc\n",
    "\n",
    "\n",
    "#skeleton class ie blueprint\n",
    "class school:\n",
    "    \n",
    "    @abc.abstractmethod\n",
    "    def student_details(self):\n",
    "        pass\n",
    "    \n",
    "    @abc.abstractmethod\n",
    "    def student_assignment(self):\n",
    "        pass\n",
    "    \n",
    "    @abc.abstractmethod\n",
    "    def student_marks(self):\n",
    "        pass\n",
    "    \n",
    "class tenthh(school):\n",
    "    \n",
    "    def student_details(self):\n",
    "        print(\"Student is in 10\")\n",
    "            \n",
    "    def student_assignment(self):\n",
    "        print(\"Assignment to 10th std\")\n",
    "        \n",
    "    def student_marks(self):\n",
    "        print(\"Marks belong to student in 10\")\n",
    "        \n",
    "class twelthh(school):\n",
    "    \n",
    "    def student_details(self):\n",
    "        print(\"Student is in 12\")\n",
    "        \n",
    "    def student_assignment(self):\n",
    "        print(\"Assignment to 12th std\")\n",
    "        \n",
    "    def student_marks(self):\n",
    "        print(\"Marks belong to student in 12\")"
   ]
  },
  {
   "cell_type": "code",
   "execution_count": 20,
   "id": "80e6bc2f-f904-4510-b141-b4b4add16ded",
   "metadata": {},
   "outputs": [],
   "source": [
    "tenthh_obj = tenthh()\n",
    "twelth_obj = twelthh()"
   ]
  },
  {
   "cell_type": "code",
   "execution_count": 21,
   "id": "52351bd8-25c4-42d8-bf6d-30c35abcc381",
   "metadata": {},
   "outputs": [
    {
     "name": "stdout",
     "output_type": "stream",
     "text": [
      "Assignment to 10th std\n"
     ]
    }
   ],
   "source": [
    "tenthh_obj.student_assignment()"
   ]
  },
  {
   "cell_type": "code",
   "execution_count": 22,
   "id": "344d479f-8e14-4214-93a9-cdbc04a4f0e2",
   "metadata": {},
   "outputs": [
    {
     "name": "stdout",
     "output_type": "stream",
     "text": [
      "Assignment to 12th std\n"
     ]
    }
   ],
   "source": [
    "twelth_obj.student_assignment()"
   ]
  },
  {
   "cell_type": "markdown",
   "id": "6527134b-9c2c-46ea-8211-330c365d424c",
   "metadata": {},
   "source": [
    "## Q3)Explain why the __init__() function is used. Give a suitable example."
   ]
  },
  {
   "cell_type": "markdown",
   "id": "f1e9a365-c998-4273-8315-eaf8291a12e2",
   "metadata": {},
   "source": [
    "#### There is a method called __ init __() for this task. This method is called automatically whenever a new object of a class is created. This type of function is also known as the constructor function. A constructor function is a function that is called every time a new class object is created\n",
    "#### __ init __ is a magic method called Dunder Methods (These are special methods whose invocation happens internally, and they start and end with double underscores). "
   ]
  },
  {
   "cell_type": "code",
   "execution_count": 23,
   "id": "5c1ae215-0034-4e7c-acd9-a0c183de3130",
   "metadata": {},
   "outputs": [
    {
     "name": "stdout",
     "output_type": "stream",
     "text": [
      "I ran First\n",
      "I ran Second\n",
      "Name :  Rachit\n"
     ]
    }
   ],
   "source": [
    "class test:\n",
    "    def __init__(self,name):\n",
    "        self.name = name\n",
    "        print(\"I ran First\")\n",
    "        \n",
    "    def display(self):\n",
    "        print(\"I ran Second\")\n",
    "        print(\"Name : \",self.name)\n",
    "\n",
    "t = test(\"Rachit\")\n",
    "t.display()"
   ]
  },
  {
   "cell_type": "markdown",
   "id": "12e1a96a-a984-442f-bdf3-7baed40677a7",
   "metadata": {},
   "source": [
    "## Q4) Why self is used in OOPs?"
   ]
  },
  {
   "cell_type": "markdown",
   "id": "d3f14f67-80a0-4c6d-b51e-c7c095f8d03e",
   "metadata": {},
   "source": [
    "#### Self represents the instance of the class. By using the “self”  we can access the attributes and methods of the class in python. It binds the attributes with the given arguments.\n",
    "\n",
    "#### The reason you need to use self. is because Python does not use the @ syntax to refer to instance attributes. Python decided to do methods in a way that makes the instance to which the method belongs be passed automatically, but not received automatically: the first parameter of methods is the instance the method is called on"
   ]
  },
  {
   "cell_type": "code",
   "execution_count": 24,
   "id": "fa4b917b-f4b6-4592-a6d6-4310a0c990c1",
   "metadata": {},
   "outputs": [
    {
     "name": "stdout",
     "output_type": "stream",
     "text": [
      "Address of self =  140199329901264\n",
      "Address of object =  140199329901264\n"
     ]
    }
   ],
   "source": [
    "class check:\n",
    "    def __init__(self):\n",
    "        print(\"Address of self = \",id(self))\n",
    "        \n",
    "c = check()\n",
    "print(\"Address of object = \",id(c))"
   ]
  },
  {
   "cell_type": "markdown",
   "id": "91db6d1a-29e9-4d0f-b7a9-27d537dcb8ee",
   "metadata": {},
   "source": [
    "## Q5. What is inheritance? Give an example for each type of inheritance."
   ]
  },
  {
   "cell_type": "markdown",
   "id": "ad0db288-4222-4d05-89f5-50183a3b38e8",
   "metadata": {},
   "source": [
    "### Types on Inheritance in Python are:\n",
    "\n",
    "##### Single Inheritance : Single inheritance enables a derived class to inherit properties from a single parent class, thus enabling code reusability and the addition of new features to existing code.\n",
    "##### Multiple Inheritance : When a class can be derived from more than one base class this type of inheritance is called multiple inheritances.\n",
    "##### Multilevel Inheritance : In multilevel inheritance, features of the base class and the derived class are further inherited into the new derived class.(eg. relationship between grandfather and child)\n",
    "##### Heirarchal Inheritance : When more than one derived class are created from a single base this type of inheritance is called hierarchical inheritance.\n",
    "##### Hybrid Inheritance : Inheritance consisting of multiple types of inheritance is called hybrid inheritance."
   ]
  },
  {
   "cell_type": "code",
   "execution_count": 25,
   "id": "2b67de73-91de-46ce-8090-0e5766924004",
   "metadata": {},
   "outputs": [
    {
     "name": "stdout",
     "output_type": "stream",
     "text": [
      "This function is in parent class.\n",
      "This function is in child class.\n"
     ]
    }
   ],
   "source": [
    "#Single Inheritance Example\n",
    "\n",
    "#Base Class\n",
    "class Parent:\n",
    "    def func1(self):\n",
    "        print(\"This function is in parent class.\")\n",
    "        \n",
    "#Derived Class\n",
    "class Child(Parent):\n",
    "    def func2(self):\n",
    "        print(\"This function is in child class.\")\n",
    " \n",
    " \n",
    "obj = Child()\n",
    "obj.func1()\n",
    "obj.func2()"
   ]
  },
  {
   "cell_type": "code",
   "execution_count": 26,
   "id": "e283e9c7-a315-455e-a20d-56810119e795",
   "metadata": {},
   "outputs": [
    {
     "name": "stdout",
     "output_type": "stream",
     "text": [
      "Acessing Mother Class\n",
      "Acessing Father Class\n",
      "This is Child Class\n"
     ]
    }
   ],
   "source": [
    "#Multiple Inheritance Example\n",
    "\n",
    "#Base Class 1\n",
    "class Mother:\n",
    "    def fun(self):\n",
    "        print(\"Acessing Mother Class\")\n",
    "        \n",
    "#Base Class 2\n",
    "class Father:\n",
    "    def func2(self):\n",
    "        print(\"Acessing Father Class\")\n",
    "        \n",
    "#Derived Class\n",
    "class child(Mother,Father):\n",
    "    def func3(self):\n",
    "        print(\"This is Child Class\")\n",
    "    \n",
    "object = child()\n",
    "object.fun()\n",
    "object.func2()\n",
    "object.func3()"
   ]
  },
  {
   "cell_type": "code",
   "execution_count": 27,
   "id": "b36381af-b3a2-465b-a209-006b510e0209",
   "metadata": {},
   "outputs": [
    {
     "name": "stdout",
     "output_type": "stream",
     "text": [
      "This is Child Class\n",
      "Acessing Father Class\n",
      "Acessing Grandfather Class\n"
     ]
    }
   ],
   "source": [
    "#Multilevel Inheritance Example\n",
    "\n",
    "#Base Class\n",
    "class Grandfather:\n",
    "    def fun1(self):\n",
    "        print(\"Acessing Grandfather Class\")\n",
    "\n",
    "#Intermediate Class\n",
    "class Father(Grandfather):\n",
    "    def fun2(self):\n",
    "        print(\"Acessing Father Class\")\n",
    "\n",
    "#Derived Class\n",
    "class child_class(Father):\n",
    "    def fun3(self):\n",
    "        print(\"This is Child Class\")\n",
    "\n",
    "#We created object of child class but we are able to access the functions of intermediate and base class\n",
    "c = child_class()\n",
    "c.fun3()\n",
    "c.fun2()\n",
    "c.fun1()"
   ]
  },
  {
   "cell_type": "code",
   "execution_count": 28,
   "id": "2843aa38-1164-41ed-aae7-50d067427268",
   "metadata": {},
   "outputs": [
    {
     "name": "stdout",
     "output_type": "stream",
     "text": [
      "Acessing Parent Class\n",
      "This is  Child 1 Class\n",
      "Acessing Parent Class\n",
      "This is Child 2 Class\n"
     ]
    }
   ],
   "source": [
    "#Heirarchal Inheritance\n",
    "\n",
    "#Base Class\n",
    "class Parent:\n",
    "    def fun(self):\n",
    "        print(\"Acessing Parent Class\")\n",
    "        \n",
    "#Derived Class 1\n",
    "class Child_1(Parent):\n",
    "    def func2(self):\n",
    "        print(\"This is  Child 1 Class\")\n",
    "        \n",
    "#Derived Class 2\n",
    "class Child_2(Parent):\n",
    "    def func3(self):\n",
    "        print(\"This is Child 2 Class\")\n",
    "\n",
    "#creting object of child_1 class\n",
    "obj1 = Child_1()\n",
    "#creating object of child_2 class\n",
    "obj2 = Child_2()\n",
    "#calling function with objects\n",
    "obj1.fun()\n",
    "obj1.func2()\n",
    "obj2.fun()\n",
    "obj2.func3()"
   ]
  },
  {
   "cell_type": "code",
   "execution_count": 35,
   "id": "5ca031e6-b552-4721-98bb-35cd3335a0c4",
   "metadata": {},
   "outputs": [
    {
     "name": "stdout",
     "output_type": "stream",
     "text": [
      "Acessing Grandfather Class\n",
      "Acessing Grandfather Class\n",
      "Acessing Father Class\n",
      "Acessing Mother Class\n",
      "Acessing Grandfather Class\n",
      "Acessing Father Class\n",
      "Acessing Mother Class\n",
      "This is  Child 1 Class\n",
      "Acessing Grandfather Class\n",
      "Acessing Father Class\n",
      "Acessing Mother Class\n",
      "This is Child 2 Class\n"
     ]
    }
   ],
   "source": [
    "#Hybrid Inheritance\n",
    "\n",
    "#Base Class\n",
    "class GrandFather_1:\n",
    "    def f_1(self):\n",
    "        print(\"Acessing Grandfather Class\")\n",
    "\n",
    "#Derived Class of Base Class\n",
    "class Father_1(GrandFather_1):\n",
    "    def f_2(self):\n",
    "        print(\"Acessing Father Class\")\n",
    "\n",
    "#Base Class\n",
    "class Mother_1:\n",
    "    def f_3(self):\n",
    "        print(\"Acessing Mother Class\")\n",
    "        \n",
    "#Derived Class of Father and Mother class\n",
    "class child_1(Father_1,Mother_1):\n",
    "    def f_4(self):\n",
    "        print(\"This is  Child 1 Class\")\n",
    "        \n",
    "#Derived Class of Father and Mother class\n",
    "class child_2(Father_1,Mother_1):\n",
    "    def f_5(self):\n",
    "        print(\"This is Child 2 Class\")\n",
    "\n",
    "\n",
    "\n",
    "#object of Grandfather_1 can access\n",
    "ob1= GrandFather_1()\n",
    "ob1.f_1()\n",
    "\n",
    "#object of Father_1 can access\n",
    "ob2= Father_1()\n",
    "ob2.f_1()\n",
    "ob2.f_2()\n",
    "\n",
    "#object of Mother_1 can access\n",
    "ob3= Mother_1()\n",
    "ob3.f_3()\n",
    "\n",
    "#object of child_1 can access\n",
    "ob4 = child_1()\n",
    "ob4.f_1()\n",
    "ob4.f_2()\n",
    "ob4.f_3()\n",
    "ob4.f_4()\n",
    "\n",
    "#object of child_2 can access\n",
    "ob5 = child_2()\n",
    "ob5.f_1()\n",
    "ob5.f_2()\n",
    "ob5.f_3()\n",
    "ob5.f_5()"
   ]
  }
 ],
 "metadata": {
  "kernelspec": {
   "display_name": "Python 3 (ipykernel)",
   "language": "python",
   "name": "python3"
  },
  "language_info": {
   "codemirror_mode": {
    "name": "ipython",
    "version": 3
   },
   "file_extension": ".py",
   "mimetype": "text/x-python",
   "name": "python",
   "nbconvert_exporter": "python",
   "pygments_lexer": "ipython3",
   "version": "3.10.8"
  }
 },
 "nbformat": 4,
 "nbformat_minor": 5
}
