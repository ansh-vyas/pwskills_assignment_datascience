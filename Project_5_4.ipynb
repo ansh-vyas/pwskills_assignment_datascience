{
 "cells": [
  {
   "cell_type": "markdown",
   "id": "2f5fa9dd-5c3d-4cfa-81e4-a0789ea4a85d",
   "metadata": {},
   "source": [
    "## Q1. What is multiprocessing in python? Why is it useful?"
   ]
  },
  {
   "cell_type": "markdown",
   "id": "e643f216-375b-47bb-9f65-18720db8c921",
   "metadata": {},
   "source": [
    "#### Multiprocessing refers to the ability of a system to support more than one processor at the same time. Applications in a multiprocessing system are broken to smaller routines that run independently. The operating system allocates these threads to the processors improving performance of the system.\n",
    "\n",
    "#### Consider a computer system with a single processor. If it is assigned several processes at the same time, it will have to interrupt each task and switch briefly to another, to keep all of the processes going.<br>This situation is just like a chef working in a kitchen alone. He has to do several tasks like baking, stirring, kneading dough, etc.<br>So the gist is that: The more tasks you must do at once, the more difficult it gets to keep track of them all, and keeping the timing right becomes more of a challenge.\n",
    "\n",
    "#### This is where the concept of multiprocessing arises!\n",
    "#### A multiprocessing system can have: \n",
    "##### multiprocessor, i.e. a computer with more than one central processor. <br>multi-core processor, i.e. a single computing component with two or more independent actual processing units (called “cores”).\n",
    "#### Here, the CPU can easily executes several tasks at once, with each task using its own processor.<br>It is just like the chef in last situation being assisted by his assistants. Now, they can divide the tasks among themselves and chef doesn’t need to switch between his tasks."
   ]
  },
  {
   "cell_type": "markdown",
   "id": "476f70b0-adae-4d1e-bd77-25046da5dae5",
   "metadata": {},
   "source": [
    "## Q2. What are the differences between multiprocessing and multithreading?"
   ]
  },
  {
   "cell_type": "markdown",
   "id": "a5d19212-333f-4c75-b7da-e365516f9df0",
   "metadata": {},
   "source": [
    "#### MultiProcessing:\n",
    "In Multiprocessing, CPUs are added for increasing computing power. <br>In Multiprocessing, Many processes are executed simultaneously. <br>Multiprocessing are classified into Symmetric and Asymmetric. <br>In Multiprocessing, Process creation is a time-consuming process. <br>In Multiprocessing, every process owned a separate address space.\n",
    "\n",
    "#### MultiThreading:\n",
    "While In Multithreading, many threads are created of a single process for increasing computing power.<br>While in multithreading, many threads of a process are executed simultaneously.<br>While Multithreading is not classified in any categories.<br>While in Multithreading, process creation is according to economical.<br>While in Multithreading, a common address space is shared by all the threads."
   ]
  },
  {
   "cell_type": "markdown",
   "id": "44c5cef3-5756-498d-a602-11cb09150963",
   "metadata": {},
   "source": [
    "## Q3. Write a python code to create a process using the multiprocessing module."
   ]
  },
  {
   "cell_type": "code",
   "execution_count": 1,
   "id": "8534760f-2e6c-4bda-95aa-9ab0a08454bc",
   "metadata": {},
   "outputs": [
    {
     "name": "stdout",
     "output_type": "stream",
     "text": [
      "this is my main program\n",
      "This is a multiprocessing prog\n"
     ]
    }
   ],
   "source": [
    "import multiprocessing\n",
    "\n",
    "def test():\n",
    "    print(\"This is a multiprocessing prog\")\n",
    "    \n",
    "if __name__ == \"__main__\":\n",
    "    m=multiprocessing.Process(target=test)\n",
    "    print(\"this is my main program\")\n",
    "    m.start()\n",
    "    m.join()"
   ]
  },
  {
   "cell_type": "markdown",
   "id": "6134ac42-b3a0-4faa-9447-d1e8dcda1e03",
   "metadata": {},
   "source": [
    "## Q4. What is a multiprocessing pool in python? Why is it used?"
   ]
  },
  {
   "cell_type": "markdown",
   "id": "3a3ba796-45ee-42ce-bd14-60d96a2e363b",
   "metadata": {},
   "source": [
    "#### Python multiprocessing Pool can be used for parallel execution of a function across multiple input values, distributing the input data across processes (data parallelism)."
   ]
  },
  {
   "cell_type": "code",
   "execution_count": 2,
   "id": "f9a56417-2ae5-4d5b-9c6f-9e34f214c6b7",
   "metadata": {},
   "outputs": [
    {
     "name": "stdout",
     "output_type": "stream",
     "text": [
      "[4, 9, 25, 36, 4, 25, 36, 178929]\n"
     ]
    }
   ],
   "source": [
    "def square(n):\n",
    "    return n**2\n",
    "\n",
    "if __name__ == \"__main__\":\n",
    "    with multiprocessing.Pool(processes=5) as p:\n",
    "        out = p.map(square,[2,3,5,6,2,5,6,423])\n",
    "        print(out)"
   ]
  },
  {
   "cell_type": "markdown",
   "id": "39bccf7c-9ba3-48a9-90d7-a8c87b70d592",
   "metadata": {},
   "source": [
    "## Q5. How can we create a pool of worker processes in python using the multiprocessing module?"
   ]
  },
  {
   "cell_type": "code",
   "execution_count": 3,
   "id": "da279111-0940-4163-9dfb-8093f59618eb",
   "metadata": {},
   "outputs": [
    {
     "name": "stdout",
     "output_type": "stream",
     "text": [
      "[2, 4, 6, 8, 10]\n"
     ]
    }
   ],
   "source": [
    "import multiprocessing\n",
    "\n",
    "def worker_function(task):\n",
    "    result = task * 2\n",
    "    return result\n",
    "\n",
    "if __name__ == '__main__':\n",
    "    num_workers = 4 \n",
    "    pool = multiprocessing.Pool(processes=num_workers)\n",
    "\n",
    "\n",
    "    tasks = [1, 2, 3, 4, 5]\n",
    "\n",
    "\n",
    "    results = pool.map(worker_function, tasks)\n",
    "\n",
    "    pool.close()\n",
    "    pool.join()\n",
    "\n",
    "    print(results)\n"
   ]
  },
  {
   "cell_type": "markdown",
   "id": "2a0c6029-7174-40f3-8500-43af61475bf2",
   "metadata": {},
   "source": [
    "## Q6. Write a python program to create 4 processes, each process should print a different number using the multiprocessing module in python."
   ]
  },
  {
   "cell_type": "code",
   "execution_count": 4,
   "id": "f48e0c90-5c65-447a-ac3c-c3733b1b04f4",
   "metadata": {},
   "outputs": [
    {
     "name": "stdout",
     "output_type": "stream",
     "text": [
      "Process 1: I am printing 1.\n",
      "Process 2: I am printing 2.\n",
      "Process 3: I am printing 3.\n",
      "Process 4: I am printing 4.\n"
     ]
    }
   ],
   "source": [
    "import multiprocessing\n",
    "\n",
    "def print_number(number):\n",
    "    print(f\"Process {number}: I am printing {number}.\")\n",
    "\n",
    "if __name__ == '__main__':\n",
    "    processes = []\n",
    "    for i in range(4):\n",
    "        process = multiprocessing.Process(target=print_number, args=(i+1,))\n",
    "        processes.append(process)\n",
    "        process.start()\n",
    "\n",
    "    for process in processes:\n",
    "        process.join()"
   ]
  }
 ],
 "metadata": {
  "kernelspec": {
   "display_name": "Python 3 (ipykernel)",
   "language": "python",
   "name": "python3"
  },
  "language_info": {
   "codemirror_mode": {
    "name": "ipython",
    "version": 3
   },
   "file_extension": ".py",
   "mimetype": "text/x-python",
   "name": "python",
   "nbconvert_exporter": "python",
   "pygments_lexer": "ipython3",
   "version": "3.10.8"
  }
 },
 "nbformat": 4,
 "nbformat_minor": 5
}
