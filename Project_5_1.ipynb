{
 "cells": [
  {
   "cell_type": "markdown",
   "id": "96c3a2a0-58ba-4bf6-ab1a-26ca478860f0",
   "metadata": {},
   "source": [
    "## Q1)What is an Exception in python?Write the differences between Exception and syntax errors"
   ]
  },
  {
   "cell_type": "markdown",
   "id": "7759dd5d-13a9-449d-b00d-673e1cacdd35",
   "metadata": {},
   "source": [
    "##### Errors are the problems in a program due to which the program will stop the execution. On the other hand, exceptions are raised when some internal events occur which changes the normal flow of the program. \n",
    "##### Two types of Error occurs in python. \n",
    " \n",
    "\n",
    "###### 1)Syntax errors : When the proper syntax of the language is not followed then a syntax error is thrown.\n",
    "###### 2)Logical errors (Exceptions) : When in the runtime an error that occurs after passing the syntax test is called exception or logical type."
   ]
  },
  {
   "cell_type": "code",
   "execution_count": 1,
   "id": "1a6293f6-eed6-492e-935b-f28e984ceb0c",
   "metadata": {},
   "outputs": [
    {
     "name": "stdout",
     "output_type": "stream",
     "text": [
      "Well that didn't work\n"
     ]
    }
   ],
   "source": [
    "#syntax error\n",
    "a = 'print('\n",
    "b = '\"Hello)\"'\n",
    "try:\n",
    "    exec(a+b) #this will try to execute print(\"Hello)\" <= note the wrong syntax\n",
    "except SyntaxError:\n",
    "    print('Well that didn\\'t work')"
   ]
  },
  {
   "cell_type": "code",
   "execution_count": 2,
   "id": "fb58ec25-0e01-4dd4-ae4a-fda10af0b866",
   "metadata": {},
   "outputs": [
    {
     "name": "stdout",
     "output_type": "stream",
     "text": [
      "Error :  division by zero\n"
     ]
    }
   ],
   "source": [
    "#logical error\n",
    "a= 12\n",
    "\n",
    "try :\n",
    "    print(a/0)\n",
    "\n",
    "except ZeroDivisionError as e:\n",
    "    print(\"Error : \",e)"
   ]
  },
  {
   "cell_type": "markdown",
   "id": "831d6646-af75-4729-af03-9ceb05093141",
   "metadata": {},
   "source": [
    "## Q2) What happens when an exception is not handled ? Explain with an example"
   ]
  },
  {
   "cell_type": "markdown",
   "id": "ca55b33c-7f8d-4371-b30f-5ecb8e517069",
   "metadata": {},
   "source": [
    "##### When an exception is not handled, it propagates through the program's execution stack until it either reaches an appropriate exception handler or terminates the program if no handler is found. This process is known as \"unhandled exception\" or \"exception propagation.\""
   ]
  },
  {
   "cell_type": "code",
   "execution_count": 3,
   "id": "6641e8a4-e7f1-44d4-b833-f2f422d36b5a",
   "metadata": {},
   "outputs": [
    {
     "name": "stdout",
     "output_type": "stream",
     "text": [
      "The result of the division is: 4.0\n",
      "Error: Division by zero is not allowed. division by zero\n"
     ]
    }
   ],
   "source": [
    "def divide_numbers(a, b):\n",
    "    try:\n",
    "        result = a / b\n",
    "        print(\"The result of the division is:\", result)\n",
    "    except ZeroDivisionError as e:\n",
    "        print(\"Error: Division by zero is not allowed.\",e)\n",
    "\n",
    "# Example 1: Exception is handled\n",
    "divide_numbers(20, 5)  \n",
    "# Output: The result of the division is: 5.0\n",
    "\n",
    "\n",
    "# Example 2: Exception is not handled\n",
    "divide_numbers(30, 0)"
   ]
  },
  {
   "cell_type": "markdown",
   "id": "2ed80886-65d4-40d2-9f07-e059a136e347",
   "metadata": {},
   "source": [
    "## Q3) Which python statements are used to catch and handle Exceptions?Explain with an example"
   ]
  },
  {
   "cell_type": "markdown",
   "id": "3494e329-2bf6-40a2-ada8-1da7b3b16bab",
   "metadata": {},
   "source": [
    "#### Exceptions can be caught and handled in python using the try ,except and finally statements. The try block is used to enclose the code that may raise an exception, and the except block is used to specify the handling of the exception and the finally block executes no matter if the exception is caught or not."
   ]
  },
  {
   "cell_type": "code",
   "execution_count": 4,
   "id": "59a061df-3772-41e3-babd-555ee7f0e4b7",
   "metadata": {},
   "outputs": [
    {
     "name": "stdout",
     "output_type": "stream",
     "text": [
      "The result :  25\n",
      "The code is executed successfully\n",
      "Warning error has occured  unsupported operand type(s) for +: 'int' and 'str'\n",
      "The code is executed successfully\n"
     ]
    }
   ],
   "source": [
    "def add(a,b):\n",
    "    try:\n",
    "        add = a+b\n",
    "        print(\"The result : \",add)     \n",
    "    except Exception as e:\n",
    "        print(\"Warning error has occured \",e)\n",
    "    finally:\n",
    "        print(\"The code is executed successfully\")\n",
    "        \n",
    "# Example 1: Exception is handled\n",
    "add(20, 5) \n",
    "\n",
    "# Example 1: Exception is handled\n",
    "add(20, \"hsj\") \n"
   ]
  },
  {
   "cell_type": "markdown",
   "id": "c48224c7-8689-4944-820f-1afaa077246f",
   "metadata": {},
   "source": [
    "## Q4) Explain with example:\n",
    "#### try and else\n",
    "#### finally\n",
    "#### raise"
   ]
  },
  {
   "cell_type": "code",
   "execution_count": 5,
   "id": "a622ee18-9c56-429e-86bf-55b8188cd8ed",
   "metadata": {},
   "outputs": [
    {
     "name": "stdout",
     "output_type": "stream",
     "text": [
      "this block will execute once try block will execute itself without an exception\n"
     ]
    }
   ],
   "source": [
    "#try and else\n",
    "try :\n",
    "    f = open(\"test.txt\",'w')\n",
    "    f.write(\"this is my message\")\n",
    "    \n",
    "except Exception as e:\n",
    "    print(\"there is some issue with my code\",e)\n",
    "    \n",
    "else:\n",
    "    f.close()\n",
    "    print(\"this block will execute once try block will execute itself without an exception\")"
   ]
  },
  {
   "cell_type": "code",
   "execution_count": 6,
   "id": "034a026a-4c7f-42dd-9591-f08c6d5a1459",
   "metadata": {},
   "outputs": [
    {
     "name": "stdout",
     "output_type": "stream",
     "text": [
      "this block will execute once try block will execute itself without an exception\n",
      "this block will always execute no matter what\n"
     ]
    }
   ],
   "source": [
    "#finally\n",
    "try :\n",
    "    f = open(\"test.txt\",'w')\n",
    "    f.write(\"this is my message\")\n",
    "    \n",
    "except Exception as e:\n",
    "    print(\"there is some issue with my code\",e)\n",
    "    \n",
    "else:\n",
    "    f.close()\n",
    "    print(\"this block will execute once try block will execute itself without an exception\")\n",
    "    \n",
    "finally:\n",
    "    print(\"this block will always execute no matter what\")"
   ]
  },
  {
   "cell_type": "code",
   "execution_count": 7,
   "id": "2d28de11-85e9-449e-9cfd-de6720641a50",
   "metadata": {},
   "outputs": [
    {
     "name": "stdin",
     "output_type": "stream",
     "text": [
      "Enter your age -67\n"
     ]
    },
    {
     "name": "stdout",
     "output_type": "stream",
     "text": [
      "age cant be less than 0\n"
     ]
    }
   ],
   "source": [
    "#raise\n",
    "class validateage(Exception):\n",
    "    def __init__(self,msg):\n",
    "        self.msg=msg\n",
    "        \n",
    "\n",
    "def validate_age(age):\n",
    "    if age<0 :\n",
    "        raise validateage(\"age cant be less than 0\")\n",
    "    elif age>200:\n",
    "        raise validateage(\"age is too big\")\n",
    "    else:\n",
    "        raise validateage(\"age is valid\")\n",
    "\n",
    "try:\n",
    "    age= int(input(\"Enter your age\"))\n",
    "    validate_age(age)\n",
    "except validateage as e:\n",
    "    print(e)"
   ]
  },
  {
   "cell_type": "markdown",
   "id": "b90180a2-c78e-4021-bbe9-c651887a4b66",
   "metadata": {},
   "source": [
    "## Q5) What are custom exceptions ? Why do we need custom Exceptions? Explain with example?"
   ]
  },
  {
   "cell_type": "markdown",
   "id": "9283a839-80f3-463f-bf85-bd704040c6ba",
   "metadata": {},
   "source": [
    "#### Custom exceptions, also known as user-defined exceptions, are exceptions that you create in your Python code to represent specific error conditions or exceptional situations that are not covered by the built-in exceptions provided by Python.\n",
    "\n",
    "##### ->Provide more descriptive error messages. <br>->Enhance code modularity and organization. <br>->Enable clearer and explicit exception handling.<br> ->Offer extensibility and flexibility in defining exception hierarchies. <br>->Facilitate domain-specific error handling."
   ]
  },
  {
   "cell_type": "code",
   "execution_count": 8,
   "id": "586534e5-1456-44fb-8095-26a7aece6a31",
   "metadata": {},
   "outputs": [
    {
     "name": "stdin",
     "output_type": "stream",
     "text": [
      "Enter your age 220\n"
     ]
    },
    {
     "name": "stdout",
     "output_type": "stream",
     "text": [
      "age is too big\n"
     ]
    }
   ],
   "source": [
    "class validateage(Exception):\n",
    "    def __init__(self,msg):\n",
    "        self.msg=msg\n",
    "        \n",
    "\n",
    "def validate_age(age):\n",
    "    if age<0 :\n",
    "        raise validateage(\"age cant be less than 0\")\n",
    "    elif age>200:\n",
    "        raise validateage(\"age is too big\")\n",
    "    else:\n",
    "        raise validateage(\"age is valid\")\n",
    "\n",
    "try:\n",
    "    age= int(input(\"Enter your age\"))\n",
    "    validate_age(age)\n",
    "except validateage as e:\n",
    "    print(e)"
   ]
  },
  {
   "cell_type": "markdown",
   "id": "d204464b-85cf-4a7d-82c1-5d5c17f4b237",
   "metadata": {},
   "source": [
    "## Q6)Create a custom exception class .Use this to handle Exception"
   ]
  },
  {
   "cell_type": "code",
   "execution_count": 9,
   "id": "f4c9829a-df56-4680-9cf2-930301149630",
   "metadata": {},
   "outputs": [
    {
     "name": "stdout",
     "output_type": "stream",
     "text": [
      "Operation cant be performed type of variables is diiferent\n",
      "Program complteted its execution\n"
     ]
    }
   ],
   "source": [
    "class addition_class(Exception):\n",
    "    def __init__(self,msg):\n",
    "        self.msg = msg\n",
    "        \n",
    "\n",
    "def add_opperation(a,b):\n",
    "    if type(a) != type(b):\n",
    "        raise addition_class(\"Operation cant be performed type of variables is diiferent\")\n",
    "    else:\n",
    "        r=a+b\n",
    "        raise addition_class(f\"Result is : {r} \")\n",
    "        \n",
    "\n",
    "try:\n",
    "        add_opperation(\"str\",12)\n",
    "except addition_class as e:\n",
    "    print(e)\n",
    "finally:\n",
    "    print(\"Program complteted its execution\")"
   ]
  }
 ],
 "metadata": {
  "kernelspec": {
   "display_name": "Python 3 (ipykernel)",
   "language": "python",
   "name": "python3"
  },
  "language_info": {
   "codemirror_mode": {
    "name": "ipython",
    "version": 3
   },
   "file_extension": ".py",
   "mimetype": "text/x-python",
   "name": "python",
   "nbconvert_exporter": "python",
   "pygments_lexer": "ipython3",
   "version": "3.10.8"
  }
 },
 "nbformat": 4,
 "nbformat_minor": 5
}
