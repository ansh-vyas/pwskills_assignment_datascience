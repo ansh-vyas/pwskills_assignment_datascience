{
 "cells": [
  {
   "cell_type": "markdown",
   "id": "ade04589-2025-4eb6-9541-b272620ad9a2",
   "metadata": {},
   "source": [
    "## Q1. Explain why we have to use the Exception class while creating a Custom Exception.\n",
    "##### Note: Here Exception class refers to the base class for all the exceptions."
   ]
  },
  {
   "cell_type": "markdown",
   "id": "57fe0542-9ce1-4d62-828c-efaba8854f5d",
   "metadata": {},
   "source": [
    "##### In object-oriented programming, including in languages like Python, custom exceptions can be created by defining new classes that inherit from the base Exception class. The Exception class serves as the parent class or base class for all built-in exceptions in the language, and it provides a standard structure and behavior for handling and propagating exceptions.\n",
    "\n",
    "##### There are a few reasons why we use the Exception class as the base class for custom exceptions:\n",
    "\n",
    "##### 1. Consistency and familiarity: By inheriting from the Exception class, custom exceptions follow the same structure and behavior as built-in exceptions in the language. This consistency makes it easier for developers to understand and work with custom exceptions, as they can leverage their existing knowledge and experience with handling exceptions.\n",
    "\n",
    "##### 2. Standard exception handling: The Exception class provides a set of methods and attributes that are commonly used for exception handling. For example, custom exceptions can utilize the try-except block to catch and handle specific exceptions, and they can access attributes like the error message associated with the exception. By inheriting from the Exception class, custom exceptions automatically inherit these features, making it simpler to handle and process them consistently.\n",
    "\n",
    "##### 3. Exception hierarchy and organization: The Exception class establishes a hierarchy of exceptions, with more specific exceptions inheriting from more general ones. This hierarchy allows for better organization and categorization of exceptions based on their types and behaviors. By creating custom exceptions that inherit from the Exception class, we can place them in the appropriate part of the exception hierarchy, making it easier to identify and handle different types of exceptions based on their relationships.\n",
    "\n",
    "##### 4. Interoperability and compatibility: By using the Exception class as the base class for custom exceptions, we ensure compatibility and interoperability with other code and libraries that expect exceptions to follow the standard exception hierarchy. This allows custom exceptions to be seamlessly integrated into existing exception handling mechanisms and frameworks.\n",
    "\n",
    "##### By using the Exception class as the base class for custom exceptions provides consistency, standard exception handling mechanisms, a hierarchical organization of exceptions, and compatibility with existing code. It promotes good software design and facilitates effective exception handling in the language."
   ]
  },
  {
   "cell_type": "markdown",
   "id": "00531b31-ba69-4fb8-8d78-760a1c069959",
   "metadata": {},
   "source": [
    "## Q2. Write a python program to print Python Exception Hierarchy."
   ]
  },
  {
   "cell_type": "code",
   "execution_count": 1,
   "id": "a44503a2-1fef-46e8-807c-7f357d65eda0",
   "metadata": {},
   "outputs": [
    {
     "name": "stdout",
     "output_type": "stream",
     "text": [
      "Hierarchy for Built-in exceptions is : \n",
      " BaseException\n",
      "--- Exception\n",
      "------ TypeError\n",
      "--------- FloatOperation\n",
      "--------- MultipartConversionError\n",
      "------ StopAsyncIteration\n",
      "------ StopIteration\n",
      "------ ImportError\n",
      "--------- ModuleNotFoundError\n",
      "--------- ZipImportError\n",
      "------ OSError\n",
      "--------- ConnectionError\n",
      "------------ BrokenPipeError\n",
      "------------ ConnectionAbortedError\n",
      "------------ ConnectionRefusedError\n",
      "------------ ConnectionResetError\n",
      "--------------- RemoteDisconnected\n",
      "--------- BlockingIOError\n",
      "--------- ChildProcessError\n",
      "--------- FileExistsError\n",
      "--------- FileNotFoundError\n",
      "--------- IsADirectoryError\n",
      "--------- NotADirectoryError\n",
      "--------- InterruptedError\n",
      "------------ InterruptedSystemCall\n",
      "--------- PermissionError\n",
      "--------- ProcessLookupError\n",
      "--------- TimeoutError\n",
      "--------- UnsupportedOperation\n",
      "--------- itimer_error\n",
      "--------- herror\n",
      "--------- gaierror\n",
      "--------- SSLError\n",
      "------------ SSLCertVerificationError\n",
      "------------ SSLZeroReturnError\n",
      "------------ SSLWantWriteError\n",
      "------------ SSLWantReadError\n",
      "------------ SSLSyscallError\n",
      "------------ SSLEOFError\n",
      "--------- Error\n",
      "------------ SameFileError\n",
      "--------- SpecialFileError\n",
      "--------- ExecError\n",
      "--------- ReadError\n",
      "--------- URLError\n",
      "------------ HTTPError\n",
      "------------ ContentTooShortError\n",
      "--------- BadGzipFile\n",
      "------ EOFError\n",
      "--------- IncompleteReadError\n",
      "------ RuntimeError\n",
      "--------- RecursionError\n",
      "--------- NotImplementedError\n",
      "------------ ZMQVersionError\n",
      "------------ StdinNotImplementedError\n",
      "--------- _DeadlockError\n",
      "--------- BrokenBarrierError\n",
      "--------- BrokenExecutor\n",
      "------------ BrokenThreadPool\n",
      "--------- SendfileNotAvailableError\n",
      "--------- ExtractionError\n",
      "--------- VariableError\n",
      "------ NameError\n",
      "--------- UnboundLocalError\n",
      "------ AttributeError\n",
      "--------- FrozenInstanceError\n",
      "------ SyntaxError\n",
      "--------- IndentationError\n",
      "------------ TabError\n",
      "------ LookupError\n",
      "--------- IndexError\n",
      "--------- KeyError\n",
      "------------ NoSuchKernel\n",
      "------------ UnknownBackend\n",
      "--------- CodecRegistryError\n",
      "------ ValueError\n",
      "--------- UnicodeError\n",
      "------------ UnicodeEncodeError\n",
      "------------ UnicodeDecodeError\n",
      "------------ UnicodeTranslateError\n",
      "--------- UnsupportedOperation\n",
      "--------- JSONDecodeError\n",
      "--------- SSLCertVerificationError\n",
      "--------- Error\n",
      "--------- UnsupportedDigestmodError\n",
      "--------- IllegalMonthError\n",
      "--------- IllegalWeekdayError\n",
      "--------- ParserError\n",
      "--------- ClassNotFound\n",
      "--------- ClipboardEmpty\n",
      "--------- MessageDefect\n",
      "------------ NoBoundaryInMultipartDefect\n",
      "------------ StartBoundaryNotFoundDefect\n",
      "------------ CloseBoundaryNotFoundDefect\n",
      "------------ FirstHeaderLineIsContinuationDefect\n",
      "------------ MisplacedEnvelopeHeaderDefect\n",
      "------------ MissingHeaderBodySeparatorDefect\n",
      "------------ MultipartInvariantViolationDefect\n",
      "------------ InvalidMultipartContentTransferEncodingDefect\n",
      "------------ UndecodableBytesDefect\n",
      "------------ InvalidBase64PaddingDefect\n",
      "------------ InvalidBase64CharactersDefect\n",
      "------------ InvalidBase64LengthDefect\n",
      "------------ HeaderDefect\n",
      "--------------- InvalidHeaderDefect\n",
      "--------------- HeaderMissingRequiredValue\n",
      "--------------- NonPrintableDefect\n",
      "--------------- ObsoleteHeaderDefect\n",
      "--------------- NonASCIILocalPartDefect\n",
      "--------------- InvalidDateDefect\n",
      "--------- MacroToEdit\n",
      "--------- InvalidFileException\n",
      "--------- UnequalIterablesError\n",
      "--------- InvalidVersion\n",
      "--------- _InvalidELFFileHeader\n",
      "--------- InvalidWheelFilename\n",
      "--------- InvalidSdistFilename\n",
      "--------- InvalidSpecifier\n",
      "--------- InvalidMarker\n",
      "--------- UndefinedComparison\n",
      "--------- UndefinedEnvironmentName\n",
      "--------- InvalidRequirement\n",
      "------------ RequirementParseError\n",
      "--------- InvalidVersion\n",
      "------ AssertionError\n",
      "------ ArithmeticError\n",
      "--------- FloatingPointError\n",
      "--------- OverflowError\n",
      "--------- ZeroDivisionError\n",
      "------------ DivisionByZero\n",
      "------------ DivisionUndefined\n",
      "--------- DecimalException\n",
      "------------ Clamped\n",
      "------------ Rounded\n",
      "--------------- Underflow\n",
      "--------------- Overflow\n",
      "------------ Inexact\n",
      "--------------- Underflow\n",
      "--------------- Overflow\n",
      "------------ Subnormal\n",
      "--------------- Underflow\n",
      "------------ DivisionByZero\n",
      "------------ FloatOperation\n",
      "------------ InvalidOperation\n",
      "--------------- ConversionSyntax\n",
      "--------------- DivisionImpossible\n",
      "--------------- DivisionUndefined\n",
      "--------------- InvalidContext\n",
      "------ SystemError\n",
      "--------- CodecRegistryError\n",
      "------ ReferenceError\n",
      "------ MemoryError\n",
      "------ BufferError\n",
      "------ Warning\n",
      "--------- UserWarning\n",
      "------------ GetPassWarning\n",
      "------------ FormatterWarning\n",
      "--------- EncodingWarning\n",
      "--------- DeprecationWarning\n",
      "------------ ProvisionalWarning\n",
      "--------- PendingDeprecationWarning\n",
      "--------- SyntaxWarning\n",
      "--------- RuntimeWarning\n",
      "------------ ProactorSelectorThreadWarning\n",
      "------------ UnknownTimezoneWarning\n",
      "------------ PEP440Warning\n",
      "--------- FutureWarning\n",
      "------------ ProvisionalCompleterWarning\n",
      "--------- ImportWarning\n",
      "--------- UnicodeWarning\n",
      "--------- BytesWarning\n",
      "--------- ResourceWarning\n",
      "--------- DeprecatedTzFormatWarning\n",
      "--------- PkgResourcesDeprecationWarning\n",
      "------ _OptionError\n",
      "------ _Error\n",
      "------ error\n",
      "------ Verbose\n",
      "------ Error\n",
      "------ SubprocessError\n",
      "--------- CalledProcessError\n",
      "--------- TimeoutExpired\n",
      "------ TokenError\n",
      "------ StopTokenizing\n",
      "------ ClassFoundException\n",
      "------ EndOfBlock\n",
      "------ TraitError\n",
      "------ Error\n",
      "------ Error\n",
      "--------- CancelledError\n",
      "--------- TimeoutError\n",
      "--------- InvalidStateError\n",
      "------ _GiveupOnSendfile\n",
      "------ error\n",
      "------ Incomplete\n",
      "------ TimeoutError\n",
      "------ InvalidStateError\n",
      "------ LimitOverrunError\n",
      "------ QueueEmpty\n",
      "------ QueueFull\n",
      "------ Empty\n",
      "------ Full\n",
      "------ ArgumentError\n",
      "------ ZMQBaseError\n",
      "--------- ZMQError\n",
      "------------ ContextTerminated\n",
      "------------ Again\n",
      "------------ InterruptedSystemCall\n",
      "--------- ZMQBindError\n",
      "--------- NotDone\n",
      "------ PickleError\n",
      "--------- PicklingError\n",
      "--------- UnpicklingError\n",
      "------ _Stop\n",
      "------ ArgumentError\n",
      "------ ArgumentTypeError\n",
      "------ ConfigError\n",
      "--------- ConfigLoaderError\n",
      "------------ ArgumentError\n",
      "--------- ConfigFileNotFound\n",
      "------ ConfigurableError\n",
      "--------- MultipleInstanceError\n",
      "------ ApplicationError\n",
      "------ error\n",
      "------ TimeoutError\n",
      "------ error\n",
      "------ ReturnValueIgnoredError\n",
      "------ KeyReuseError\n",
      "------ UnknownKeyError\n",
      "------ LeakedCallbackError\n",
      "------ BadYieldError\n",
      "------ ReturnValueIgnoredError\n",
      "------ Return\n",
      "------ InvalidPortNumber\n",
      "------ error\n",
      "------ LZMAError\n",
      "------ RegistryError\n",
      "------ _GiveupOnFastCopy\n",
      "------ Error\n",
      "--------- NoSectionError\n",
      "--------- DuplicateSectionError\n",
      "--------- DuplicateOptionError\n",
      "--------- NoOptionError\n",
      "--------- InterpolationError\n",
      "------------ InterpolationMissingOptionError\n",
      "------------ InterpolationSyntaxError\n",
      "------------ InterpolationDepthError\n",
      "--------- ParsingError\n",
      "------------ MissingSectionHeaderError\n",
      "------ NoIPAddresses\n",
      "------ BadZipFile\n",
      "------ LargeZipFile\n",
      "------ BadEntryPoint\n",
      "------ NoSuchEntryPoint\n",
      "------ DuplicateKernelError\n",
      "------ ErrorDuringImport\n",
      "------ NotOneValueFound\n",
      "------ CannotEval\n",
      "------ OptionError\n",
      "------ BdbQuit\n",
      "------ Restart\n",
      "------ ExceptionPexpect\n",
      "--------- EOF\n",
      "--------- TIMEOUT\n",
      "------ PtyProcessError\n",
      "------ FindCmdError\n",
      "------ HomeDirError\n",
      "------ ProfileDirError\n",
      "------ IPythonCoreError\n",
      "--------- TryNext\n",
      "--------- UsageError\n",
      "--------- StdinNotImplementedError\n",
      "------ InputRejected\n",
      "------ GetoptError\n",
      "------ ErrorToken\n",
      "------ PrefilterError\n",
      "------ AliasError\n",
      "--------- InvalidAliasError\n",
      "------ Error\n",
      "--------- InterfaceError\n",
      "--------- DatabaseError\n",
      "------------ InternalError\n",
      "------------ OperationalError\n",
      "------------ ProgrammingError\n",
      "------------ IntegrityError\n",
      "------------ DataError\n",
      "------------ NotSupportedError\n",
      "------ Warning\n",
      "------ SpaceInInput\n",
      "------ DOMException\n",
      "--------- IndexSizeErr\n",
      "--------- DomstringSizeErr\n",
      "--------- HierarchyRequestErr\n",
      "--------- WrongDocumentErr\n",
      "--------- InvalidCharacterErr\n",
      "--------- NoDataAllowedErr\n",
      "--------- NoModificationAllowedErr\n",
      "--------- NotFoundErr\n",
      "--------- NotSupportedErr\n",
      "--------- InuseAttributeErr\n",
      "--------- InvalidStateErr\n",
      "--------- SyntaxErr\n",
      "--------- InvalidModificationErr\n",
      "--------- NamespaceErr\n",
      "--------- InvalidAccessErr\n",
      "--------- ValidationErr\n",
      "------ ValidationError\n",
      "------ EditReadOnlyBuffer\n",
      "------ _Retry\n",
      "------ InvalidLayoutError\n",
      "------ HeightIsUnknownError\n",
      "------ ParserSyntaxError\n",
      "------ InternalParseError\n",
      "------ _PositionUpdatingFinished\n",
      "------ SimpleGetItemNotFound\n",
      "------ UncaughtAttributeError\n",
      "------ HasNoContext\n",
      "------ ParamIssue\n",
      "------ _JediError\n",
      "--------- InternalError\n",
      "--------- WrongVersion\n",
      "--------- RefactoringError\n",
      "------ OnErrorLeaf\n",
      "------ InvalidPythonEnvironment\n",
      "------ MessageError\n",
      "--------- MessageParseError\n",
      "------------ HeaderParseError\n",
      "------------ BoundaryError\n",
      "--------- MultipartConversionError\n",
      "--------- CharsetError\n",
      "------ Error\n",
      "------ HTTPException\n",
      "--------- NotConnected\n",
      "--------- InvalidURL\n",
      "--------- UnknownProtocol\n",
      "--------- UnknownTransferEncoding\n",
      "--------- UnimplementedFileMode\n",
      "--------- IncompleteRead\n",
      "--------- ImproperConnectionState\n",
      "------------ CannotSendRequest\n",
      "------------ CannotSendHeader\n",
      "------------ ResponseNotReady\n",
      "--------- BadStatusLine\n",
      "------------ RemoteDisconnected\n",
      "--------- LineTooLong\n",
      "------ InteractivelyDefined\n",
      "------ KillEmbedded\n",
      "------ Error\n",
      "--------- NoSuchProcess\n",
      "------------ ZombieProcess\n",
      "--------- AccessDenied\n",
      "--------- TimeoutExpired\n",
      "------ _Ipv6UnsupportedError\n",
      "------ QueueEmpty\n",
      "------ QueueFull\n",
      "------ DebuggerInitializationError\n",
      "------ ExpatError\n",
      "------ Error\n",
      "--------- ProtocolError\n",
      "--------- ResponseError\n",
      "--------- Fault\n",
      "------ ParseBaseException\n",
      "--------- ParseException\n",
      "--------- ParseFatalException\n",
      "------------ ParseSyntaxException\n",
      "------ RecursiveGrammarException\n",
      "------ ResolutionError\n",
      "--------- VersionConflict\n",
      "------------ ContextualVersionConflict\n",
      "--------- DistributionNotFound\n",
      "--------- UnknownExtra\n",
      "------ _Error\n",
      "------ UnableToResolveVariableException\n",
      "------ InvalidTypeInArgsException\n",
      "--- GeneratorExit\n",
      "--- SystemExit\n",
      "--- KeyboardInterrupt\n",
      "--- CancelledError\n",
      "--- AbortThread\n"
     ]
    }
   ],
   "source": [
    "# import inspect module\n",
    "import inspect\n",
    "\n",
    "# our treeClass function\n",
    "def treeClass(cls, ind = 0):\n",
    "\t\n",
    "\t# print name of the class\n",
    "\tprint ('-' * ind, cls.__name__)\n",
    "\t\n",
    "\t# iterating through subclasses\n",
    "\tfor i in cls.__subclasses__():\n",
    "\t\ttreeClass(i, ind + 3)\n",
    "\n",
    "print(\"Hierarchy for Built-in exceptions is : \")\n",
    "\n",
    "# inspect.getmro() Return a tuple\n",
    "# of class cls’s base classes.\n",
    "\n",
    "# building a tree hierarchy\n",
    "inspect.getclasstree(inspect.getmro(BaseException))\n",
    "\n",
    "# function call\n",
    "treeClass(BaseException)\n"
   ]
  },
  {
   "cell_type": "markdown",
   "id": "e7970ab3-4ab8-41e0-b77e-afe209405ea3",
   "metadata": {},
   "source": [
    "## Q3. What errors are defined in the ArithmeticError class? Explain any two with an example."
   ]
  },
  {
   "cell_type": "markdown",
   "id": "03691ac9-aa2d-48c3-8ec9-7c76e39df1d6",
   "metadata": {},
   "source": [
    "#### Arithmentic Error is the error that occurs during numeric calculations\n",
    "##### OverFlowError <br> ZeroDivisionError <br> FloatingPointError\n"
   ]
  },
  {
   "cell_type": "code",
   "execution_count": 2,
   "id": "c598c4bf-a29a-46b9-988f-919f43dbc4ed",
   "metadata": {},
   "outputs": [
    {
     "name": "stdout",
     "output_type": "stream",
     "text": [
      "(34, 'Numerical result out of range'), <class 'OverflowError'>\n"
     ]
    }
   ],
   "source": [
    "#OverFlowError\n",
    "j = 5.0\n",
    "\n",
    "try:\n",
    "    for i in range(1, 1000):\n",
    "        j = j**i\n",
    "except ArithmeticError as e:\n",
    "    print(f\"{e}, {e.__class__}\")"
   ]
  },
  {
   "cell_type": "code",
   "execution_count": 3,
   "id": "2f12bd93-c356-40a2-8000-af30ba106e85",
   "metadata": {},
   "outputs": [
    {
     "name": "stdout",
     "output_type": "stream",
     "text": [
      "division by zero, <class 'ZeroDivisionError'>\n"
     ]
    }
   ],
   "source": [
    "#ZeroDivisionError\n",
    "try:\n",
    "    1/0\n",
    "except ArithmeticError as e:\n",
    "    print(f\"{e}, {e.__class__}\")"
   ]
  },
  {
   "cell_type": "markdown",
   "id": "e954fd65-8002-4f03-b0d3-6788b72d744e",
   "metadata": {},
   "source": [
    "## Q4. Why LookupError class is used? Explain with an example KeyError and IndexError."
   ]
  },
  {
   "cell_type": "markdown",
   "id": "6e2c4049-3b65-4158-bd0b-466dcdc107b3",
   "metadata": {},
   "source": [
    "#### The LookupError exception forms the base class for all the exceptions that are raised when an index or a key is not found for a sequence or dictionary."
   ]
  },
  {
   "cell_type": "code",
   "execution_count": 4,
   "id": "a01b7ae5-cafd-44e0-9476-fa18afadc3a0",
   "metadata": {},
   "outputs": [
    {
     "name": "stdin",
     "output_type": "stream",
     "text": [
      "What info do you want of student  location\n"
     ]
    },
    {
     "name": "stdout",
     "output_type": "stream",
     "text": [
      "'location', <class 'KeyError'>\n"
     ]
    }
   ],
   "source": [
    "#KeyError\n",
    "student_info = {'name': 'Lenin Mishra',\n",
    "                'age': 28,\n",
    "                'phone_no': 98324214124}\n",
    "user_input = input('What info do you want of student ')\n",
    "\n",
    "try:\n",
    "    print(f'{user_input} is {student_info[user_input]}')\n",
    "except LookupError as e:\n",
    "    print(f'{e}, {e.__class__}')"
   ]
  },
  {
   "cell_type": "code",
   "execution_count": 5,
   "id": "65c0bdf9-a426-4c7a-88e1-a68e27319f5e",
   "metadata": {},
   "outputs": [
    {
     "name": "stdout",
     "output_type": "stream",
     "text": [
      "list index out of range, <class 'IndexError'>\n"
     ]
    }
   ],
   "source": [
    "#IndexError\n",
    "x = [1, 2, 3, 4]\n",
    "try:\n",
    "    print(x[6])\n",
    "except LookupError as e:\n",
    "    print(f\"{e}, {e.__class__}\")"
   ]
  },
  {
   "cell_type": "markdown",
   "id": "cf51b885-6ad8-4aee-8003-fcb88195c774",
   "metadata": {},
   "source": [
    "## Q5. Explain ImportError. What is ModuleNotFoundError?"
   ]
  },
  {
   "cell_type": "markdown",
   "id": "96422778-2bf8-4514-89eb-2b206e86a6fd",
   "metadata": {},
   "source": [
    "#### the import statement encounters an issue because the specified module does not exist. The difference lies in the type of exception that is raised: ImportError is a more general exception, while ModuleNotFoundError is a specific exception that inherits from ImportError and includes additional information about the missing module."
   ]
  },
  {
   "cell_type": "code",
   "execution_count": 6,
   "id": "c27a1e60-57ba-4105-a6d1-8196394ef7f2",
   "metadata": {},
   "outputs": [
    {
     "name": "stdout",
     "output_type": "stream",
     "text": [
      "Import Error : No module named 'adadnnfja'\n"
     ]
    }
   ],
   "source": [
    "try:\n",
    "    import adadnnfja\n",
    "except ImportError as e:\n",
    "    print(f\"Import Error : {e}\")\n"
   ]
  },
  {
   "cell_type": "code",
   "execution_count": 7,
   "id": "83e66768-38b9-4544-8bed-a78f7f27d94c",
   "metadata": {},
   "outputs": [
    {
     "name": "stdout",
     "output_type": "stream",
     "text": [
      "Module Not Found Error : No module named 'dani'\n"
     ]
    }
   ],
   "source": [
    "try:\n",
    "    import dani\n",
    "except ModuleNotFoundError as e:\n",
    "    print(f\"Module Not Found Error : {e}\")"
   ]
  },
  {
   "cell_type": "markdown",
   "id": "0f82d5c5-6326-407e-9d57-6003eaa782f8",
   "metadata": {},
   "source": [
    "## Q6. List down some best practices for exception handling in python."
   ]
  },
  {
   "cell_type": "markdown",
   "id": "a01f653d-55b6-4d97-9199-8204bd242f57",
   "metadata": {},
   "source": [
    "#### Always use a specific Exception <br>Print a valid message <br>Always try to log <br>Always try to avoid multiple exception handling <br>prepare a proper documentation<>"
   ]
  },
  {
   "cell_type": "code",
   "execution_count": 8,
   "id": "17f1148d-46a9-479c-90e8-e163db741d67",
   "metadata": {},
   "outputs": [
    {
     "name": "stdout",
     "output_type": "stream",
     "text": [
      "division by zero\n"
     ]
    }
   ],
   "source": [
    "#use always specific exception\n",
    "try:\n",
    "    10/0\n",
    "except Exception as e:\n",
    "    print(e)"
   ]
  },
  {
   "cell_type": "code",
   "execution_count": 9,
   "id": "d3a49787-457f-4b1e-84c2-669318040323",
   "metadata": {},
   "outputs": [
    {
     "name": "stdout",
     "output_type": "stream",
     "text": [
      "division by zero\n"
     ]
    }
   ],
   "source": [
    "try:\n",
    "    10/0\n",
    "except ZeroDivisionError as e:\n",
    "    print(e)"
   ]
  },
  {
   "cell_type": "code",
   "execution_count": 10,
   "id": "80016571-d660-42f5-ba11-7a5b380f05fa",
   "metadata": {},
   "outputs": [
    {
     "name": "stdout",
     "output_type": "stream",
     "text": [
      "This is my Zero division error that i am handling division by zero\n"
     ]
    }
   ],
   "source": [
    "#print always a valid message\n",
    "\n",
    "try:\n",
    "    10/0\n",
    "except ZeroDivisionError as e:\n",
    "    print(\"This is my Zero division error that i am handling\",e)"
   ]
  },
  {
   "cell_type": "code",
   "execution_count": 11,
   "id": "5dcf90f8-1d7d-47ea-9c75-25215c9c0f18",
   "metadata": {},
   "outputs": [],
   "source": [
    "#always try to log\n",
    "\n",
    "import logging\n",
    "logging.basicConfig(filename = \"error.log\",level=logging.ERROR ,format = '%(asctime)s %(name)s %(levelname)s %(message)s' )\n",
    "\n",
    "try:\n",
    "    10/0\n",
    "except ZeroDivisionError as e:\n",
    "    logging.error(\"This is my Zero division error that i am handling {} \".format(e))"
   ]
  },
  {
   "cell_type": "code",
   "execution_count": 12,
   "id": "13331d9e-1dd8-44c0-858a-28d4483375a1",
   "metadata": {},
   "outputs": [],
   "source": [
    "#always try to avoid multiple exception handling\n",
    "\n",
    "import logging\n",
    "logging.basicConfig(filename = \"error.log\",level=logging.ERROR ,format = '%(asctime)s %(name)s %(levelname)s %(message)s' )\n",
    "\n",
    "try:\n",
    "    10/0\n",
    "    \n",
    "except FileNotFoundError as e:\n",
    "    logging.error(\"This is my File not found error that i am handling {} \".format(e))\n",
    "\n",
    "except AttributeError as e:\n",
    "    logging.error(\"This is my attribute error that i am handling {} \".format(e))\n",
    "    \n",
    "except ZeroDivisionError as e:\n",
    "    logging.error(\"This is my Zero division error that i am handling {} \".format(e))"
   ]
  },
  {
   "cell_type": "code",
   "execution_count": 13,
   "id": "1fe81b30-7ee1-4966-82d5-ac57d244a0a8",
   "metadata": {},
   "outputs": [],
   "source": [
    "#cleanup all the resources\n",
    "\n",
    "try:\n",
    "    with open(\"test.txt\",'w') as f:\n",
    "        f.write(\"this is my messages to file\")\n",
    "except FileNotFoundError as e:\n",
    "    logging.error(\"This is my File not found error that i am handling {} \".format(e))\n",
    "finally:\n",
    "    f.close()"
   ]
  }
 ],
 "metadata": {
  "kernelspec": {
   "display_name": "Python 3 (ipykernel)",
   "language": "python",
   "name": "python3"
  },
  "language_info": {
   "codemirror_mode": {
    "name": "ipython",
    "version": 3
   },
   "file_extension": ".py",
   "mimetype": "text/x-python",
   "name": "python",
   "nbconvert_exporter": "python",
   "pygments_lexer": "ipython3",
   "version": "3.10.8"
  }
 },
 "nbformat": 4,
 "nbformat_minor": 5
}
