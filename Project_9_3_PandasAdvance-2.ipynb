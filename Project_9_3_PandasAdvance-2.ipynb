{
 "cells": [
  {
   "cell_type": "markdown",
   "id": "b3fd00b4-de52-4192-8608-109790812dcd",
   "metadata": {},
   "source": [
    "### Consider following code to answer further questions: \n",
    "<br>import pandas as pd\n",
    "<br>course_name = [‘Data Science’, ‘Machine Learning’, ‘Big Data’, ‘Data Engineer’]\n",
    "<br>duration = [2,3,6,4]\n",
    "<br>df = pd.DataFrame(data = {‘course_name’ : course_name, ‘duration’ : duration})"
   ]
  },
  {
   "cell_type": "markdown",
   "id": "4bb08c2f-3b1b-4bb9-ba20-9b217e15ccfa",
   "metadata": {},
   "source": [
    "### Q1. Write a code to print the data present in the second row of the dataframe, df."
   ]
  },
  {
   "cell_type": "code",
   "execution_count": 1,
   "id": "6de996a4-1638-448d-b1d2-6218a45cfe8c",
   "metadata": {},
   "outputs": [],
   "source": [
    "import pandas as pd\n",
    "course_name = [\"Data Science\", \"Machine Learning\", \"Big Data\", \"Data Engineer\"]\n",
    "duration = [2,3,6,4]\n",
    "data = {\"course_name\" : course_name, \"duration\" : duration}\n",
    "df = pd.DataFrame(data)"
   ]
  },
  {
   "cell_type": "code",
   "execution_count": 2,
   "id": "2b70172b-b9e8-441f-a2f8-8c6cc7ae1293",
   "metadata": {},
   "outputs": [
    {
     "data": {
      "text/html": [
       "<div>\n",
       "<style scoped>\n",
       "    .dataframe tbody tr th:only-of-type {\n",
       "        vertical-align: middle;\n",
       "    }\n",
       "\n",
       "    .dataframe tbody tr th {\n",
       "        vertical-align: top;\n",
       "    }\n",
       "\n",
       "    .dataframe thead th {\n",
       "        text-align: right;\n",
       "    }\n",
       "</style>\n",
       "<table border=\"1\" class=\"dataframe\">\n",
       "  <thead>\n",
       "    <tr style=\"text-align: right;\">\n",
       "      <th></th>\n",
       "      <th>course_name</th>\n",
       "      <th>duration</th>\n",
       "    </tr>\n",
       "  </thead>\n",
       "  <tbody>\n",
       "    <tr>\n",
       "      <th>0</th>\n",
       "      <td>Data Science</td>\n",
       "      <td>2</td>\n",
       "    </tr>\n",
       "    <tr>\n",
       "      <th>1</th>\n",
       "      <td>Machine Learning</td>\n",
       "      <td>3</td>\n",
       "    </tr>\n",
       "    <tr>\n",
       "      <th>2</th>\n",
       "      <td>Big Data</td>\n",
       "      <td>6</td>\n",
       "    </tr>\n",
       "    <tr>\n",
       "      <th>3</th>\n",
       "      <td>Data Engineer</td>\n",
       "      <td>4</td>\n",
       "    </tr>\n",
       "  </tbody>\n",
       "</table>\n",
       "</div>"
      ],
      "text/plain": [
       "        course_name  duration\n",
       "0      Data Science         2\n",
       "1  Machine Learning         3\n",
       "2          Big Data         6\n",
       "3     Data Engineer         4"
      ]
     },
     "execution_count": 2,
     "metadata": {},
     "output_type": "execute_result"
    }
   ],
   "source": [
    "df"
   ]
  },
  {
   "cell_type": "code",
   "execution_count": 3,
   "id": "260980ef-7554-4e2a-af28-89a3f6280068",
   "metadata": {},
   "outputs": [
    {
     "data": {
      "text/html": [
       "<div>\n",
       "<style scoped>\n",
       "    .dataframe tbody tr th:only-of-type {\n",
       "        vertical-align: middle;\n",
       "    }\n",
       "\n",
       "    .dataframe tbody tr th {\n",
       "        vertical-align: top;\n",
       "    }\n",
       "\n",
       "    .dataframe thead th {\n",
       "        text-align: right;\n",
       "    }\n",
       "</style>\n",
       "<table border=\"1\" class=\"dataframe\">\n",
       "  <thead>\n",
       "    <tr style=\"text-align: right;\">\n",
       "      <th></th>\n",
       "      <th>course_name</th>\n",
       "      <th>duration</th>\n",
       "    </tr>\n",
       "  </thead>\n",
       "  <tbody>\n",
       "    <tr>\n",
       "      <th>1</th>\n",
       "      <td>Machine Learning</td>\n",
       "      <td>3</td>\n",
       "    </tr>\n",
       "  </tbody>\n",
       "</table>\n",
       "</div>"
      ],
      "text/plain": [
       "        course_name  duration\n",
       "1  Machine Learning         3"
      ]
     },
     "execution_count": 3,
     "metadata": {},
     "output_type": "execute_result"
    }
   ],
   "source": [
    "#to print values present in 2nd row\n",
    "df.iloc[1:2]"
   ]
  },
  {
   "cell_type": "markdown",
   "id": "9f60d01d-2fcc-4b8f-baf3-bad53f7394b7",
   "metadata": {},
   "source": [
    "### Q2. What is the difference between the functions loc and iloc in pandas.DataFrame?"
   ]
  },
  {
   "cell_type": "markdown",
   "id": "1c19364d-9e15-4b82-a49c-8dad738df43c",
   "metadata": {},
   "source": [
    "iloc:\n",
    "iloc is primarily used for integer-based indexing, allowing you to select rows and columns by their integer positions.\n",
    "It uses zero-based integer indexing, meaning the first row or column has the index 0, the second has index 1, and so on.\n",
    "The syntax for iloc is df.iloc [ row_index, column_index ] .\n",
    "You can use single integers, lists of integers, or slices to specify the rows and columns you want to select.\n",
    "the slicing takes upper limit - 1 value \n",
    "\n",
    "loc:\n",
    "loc is used for label-based indexing, allowing you to select rows and columns by their labels or index names.\n",
    "It uses the actual row and column labels (not their integer positions) to perform the selection.\n",
    "The syntax for loc is df.loc[ row_label, column_label ].\n",
    "You can use single labels, lists of labels, or slices to specify the rows and columns you want to select. \n",
    "the slicing takes upper limit value "
   ]
  },
  {
   "cell_type": "code",
   "execution_count": 4,
   "id": "8023aacf-950e-46cf-b9ed-3b8919c0111d",
   "metadata": {},
   "outputs": [
    {
     "data": {
      "text/html": [
       "<div>\n",
       "<style scoped>\n",
       "    .dataframe tbody tr th:only-of-type {\n",
       "        vertical-align: middle;\n",
       "    }\n",
       "\n",
       "    .dataframe tbody tr th {\n",
       "        vertical-align: top;\n",
       "    }\n",
       "\n",
       "    .dataframe thead th {\n",
       "        text-align: right;\n",
       "    }\n",
       "</style>\n",
       "<table border=\"1\" class=\"dataframe\">\n",
       "  <thead>\n",
       "    <tr style=\"text-align: right;\">\n",
       "      <th></th>\n",
       "      <th>course_name</th>\n",
       "      <th>duration</th>\n",
       "    </tr>\n",
       "  </thead>\n",
       "  <tbody>\n",
       "    <tr>\n",
       "      <th>0</th>\n",
       "      <td>Data Science</td>\n",
       "      <td>2</td>\n",
       "    </tr>\n",
       "    <tr>\n",
       "      <th>1</th>\n",
       "      <td>Machine Learning</td>\n",
       "      <td>3</td>\n",
       "    </tr>\n",
       "    <tr>\n",
       "      <th>2</th>\n",
       "      <td>Big Data</td>\n",
       "      <td>6</td>\n",
       "    </tr>\n",
       "  </tbody>\n",
       "</table>\n",
       "</div>"
      ],
      "text/plain": [
       "        course_name  duration\n",
       "0      Data Science         2\n",
       "1  Machine Learning         3\n",
       "2          Big Data         6"
      ]
     },
     "execution_count": 4,
     "metadata": {},
     "output_type": "execute_result"
    }
   ],
   "source": [
    "df.iloc[0:3]"
   ]
  },
  {
   "cell_type": "code",
   "execution_count": 5,
   "id": "ddec2a20-1d79-4492-9e7b-5330e69f048c",
   "metadata": {},
   "outputs": [
    {
     "data": {
      "text/html": [
       "<div>\n",
       "<style scoped>\n",
       "    .dataframe tbody tr th:only-of-type {\n",
       "        vertical-align: middle;\n",
       "    }\n",
       "\n",
       "    .dataframe tbody tr th {\n",
       "        vertical-align: top;\n",
       "    }\n",
       "\n",
       "    .dataframe thead th {\n",
       "        text-align: right;\n",
       "    }\n",
       "</style>\n",
       "<table border=\"1\" class=\"dataframe\">\n",
       "  <thead>\n",
       "    <tr style=\"text-align: right;\">\n",
       "      <th></th>\n",
       "      <th>course_name</th>\n",
       "      <th>duration</th>\n",
       "    </tr>\n",
       "  </thead>\n",
       "  <tbody>\n",
       "    <tr>\n",
       "      <th>0</th>\n",
       "      <td>Data Science</td>\n",
       "      <td>2</td>\n",
       "    </tr>\n",
       "    <tr>\n",
       "      <th>1</th>\n",
       "      <td>Machine Learning</td>\n",
       "      <td>3</td>\n",
       "    </tr>\n",
       "    <tr>\n",
       "      <th>2</th>\n",
       "      <td>Big Data</td>\n",
       "      <td>6</td>\n",
       "    </tr>\n",
       "    <tr>\n",
       "      <th>3</th>\n",
       "      <td>Data Engineer</td>\n",
       "      <td>4</td>\n",
       "    </tr>\n",
       "  </tbody>\n",
       "</table>\n",
       "</div>"
      ],
      "text/plain": [
       "        course_name  duration\n",
       "0      Data Science         2\n",
       "1  Machine Learning         3\n",
       "2          Big Data         6\n",
       "3     Data Engineer         4"
      ]
     },
     "execution_count": 5,
     "metadata": {},
     "output_type": "execute_result"
    }
   ],
   "source": [
    "df.loc[0:3]"
   ]
  },
  {
   "cell_type": "code",
   "execution_count": 6,
   "id": "dc5af116-b0b4-40d8-88f2-a6e0e335a32d",
   "metadata": {},
   "outputs": [
    {
     "data": {
      "text/html": [
       "<div>\n",
       "<style scoped>\n",
       "    .dataframe tbody tr th:only-of-type {\n",
       "        vertical-align: middle;\n",
       "    }\n",
       "\n",
       "    .dataframe tbody tr th {\n",
       "        vertical-align: top;\n",
       "    }\n",
       "\n",
       "    .dataframe thead th {\n",
       "        text-align: right;\n",
       "    }\n",
       "</style>\n",
       "<table border=\"1\" class=\"dataframe\">\n",
       "  <thead>\n",
       "    <tr style=\"text-align: right;\">\n",
       "      <th></th>\n",
       "      <th>course_name</th>\n",
       "    </tr>\n",
       "  </thead>\n",
       "  <tbody>\n",
       "    <tr>\n",
       "      <th>0</th>\n",
       "      <td>Data Science</td>\n",
       "    </tr>\n",
       "    <tr>\n",
       "      <th>1</th>\n",
       "      <td>Machine Learning</td>\n",
       "    </tr>\n",
       "    <tr>\n",
       "      <th>2</th>\n",
       "      <td>Big Data</td>\n",
       "    </tr>\n",
       "  </tbody>\n",
       "</table>\n",
       "</div>"
      ],
      "text/plain": [
       "        course_name\n",
       "0      Data Science\n",
       "1  Machine Learning\n",
       "2          Big Data"
      ]
     },
     "execution_count": 6,
     "metadata": {},
     "output_type": "execute_result"
    }
   ],
   "source": [
    "df.iloc[0:3,[0]]"
   ]
  },
  {
   "cell_type": "code",
   "execution_count": 7,
   "id": "9791d8e9-e7ba-4921-9546-15f056f60540",
   "metadata": {},
   "outputs": [
    {
     "data": {
      "text/html": [
       "<div>\n",
       "<style scoped>\n",
       "    .dataframe tbody tr th:only-of-type {\n",
       "        vertical-align: middle;\n",
       "    }\n",
       "\n",
       "    .dataframe tbody tr th {\n",
       "        vertical-align: top;\n",
       "    }\n",
       "\n",
       "    .dataframe thead th {\n",
       "        text-align: right;\n",
       "    }\n",
       "</style>\n",
       "<table border=\"1\" class=\"dataframe\">\n",
       "  <thead>\n",
       "    <tr style=\"text-align: right;\">\n",
       "      <th></th>\n",
       "      <th>course_name</th>\n",
       "    </tr>\n",
       "  </thead>\n",
       "  <tbody>\n",
       "    <tr>\n",
       "      <th>0</th>\n",
       "      <td>Data Science</td>\n",
       "    </tr>\n",
       "    <tr>\n",
       "      <th>1</th>\n",
       "      <td>Machine Learning</td>\n",
       "    </tr>\n",
       "    <tr>\n",
       "      <th>2</th>\n",
       "      <td>Big Data</td>\n",
       "    </tr>\n",
       "    <tr>\n",
       "      <th>3</th>\n",
       "      <td>Data Engineer</td>\n",
       "    </tr>\n",
       "  </tbody>\n",
       "</table>\n",
       "</div>"
      ],
      "text/plain": [
       "        course_name\n",
       "0      Data Science\n",
       "1  Machine Learning\n",
       "2          Big Data\n",
       "3     Data Engineer"
      ]
     },
     "execution_count": 7,
     "metadata": {},
     "output_type": "execute_result"
    }
   ],
   "source": [
    "df.loc[0:3,['course_name']]"
   ]
  },
  {
   "cell_type": "markdown",
   "id": "94f87364-ca0f-4acc-93ea-8f0d40fa7601",
   "metadata": {},
   "source": [
    "### Q3. Reindex the given dataframe using a variable, reindex = [3,0,1,2] and store it in the variable, new_df then find the output for both new_df.loc[2] and new_df.iloc[2].\n",
    "\n",
    "### Did you observe any difference in both the outputs? If so then explain it. <br>Consider the below code to answer further questions:\n",
    "\n",
    "<br>import pandas as pd\n",
    "<br>import numpy as np\n",
    "<br>columns = ['column_1', 'column_2', 'column_3', 'column_4', 'column_5', 'column_6']\n",
    "<br>indices = [1,2,3,4,5,6]\n",
    "<br>#Creating a dataframe:\n",
    "<br>df1 = pd.DataFrame(np.random.rand(6,6), columns = columns, index = indices)"
   ]
  },
  {
   "cell_type": "code",
   "execution_count": 8,
   "id": "c1184008-dc5e-427a-912b-2032af4d7f8e",
   "metadata": {},
   "outputs": [],
   "source": [
    "import pandas as pd\n",
    "import numpy as np\n",
    "columns = ['column_1', 'column_2', 'column_3', 'column_4', 'column_5', 'column_6']\n",
    "indices = [1,2,3,4,5,6]\n",
    "#Creating a dataframe:\n",
    "df1 = pd.DataFrame(np.random.rand(6,6), columns = columns, index = indices)"
   ]
  },
  {
   "cell_type": "code",
   "execution_count": 9,
   "id": "b10b6922-e52f-4009-8b89-2f5f09984d80",
   "metadata": {},
   "outputs": [
    {
     "data": {
      "text/html": [
       "<div>\n",
       "<style scoped>\n",
       "    .dataframe tbody tr th:only-of-type {\n",
       "        vertical-align: middle;\n",
       "    }\n",
       "\n",
       "    .dataframe tbody tr th {\n",
       "        vertical-align: top;\n",
       "    }\n",
       "\n",
       "    .dataframe thead th {\n",
       "        text-align: right;\n",
       "    }\n",
       "</style>\n",
       "<table border=\"1\" class=\"dataframe\">\n",
       "  <thead>\n",
       "    <tr style=\"text-align: right;\">\n",
       "      <th></th>\n",
       "      <th>column_1</th>\n",
       "      <th>column_2</th>\n",
       "      <th>column_3</th>\n",
       "      <th>column_4</th>\n",
       "      <th>column_5</th>\n",
       "      <th>column_6</th>\n",
       "    </tr>\n",
       "  </thead>\n",
       "  <tbody>\n",
       "    <tr>\n",
       "      <th>1</th>\n",
       "      <td>0.255243</td>\n",
       "      <td>0.638587</td>\n",
       "      <td>0.199826</td>\n",
       "      <td>0.150945</td>\n",
       "      <td>0.461040</td>\n",
       "      <td>0.150947</td>\n",
       "    </tr>\n",
       "    <tr>\n",
       "      <th>2</th>\n",
       "      <td>0.017071</td>\n",
       "      <td>0.922612</td>\n",
       "      <td>0.102921</td>\n",
       "      <td>0.738952</td>\n",
       "      <td>0.223257</td>\n",
       "      <td>0.348180</td>\n",
       "    </tr>\n",
       "    <tr>\n",
       "      <th>3</th>\n",
       "      <td>0.518659</td>\n",
       "      <td>0.645184</td>\n",
       "      <td>0.601349</td>\n",
       "      <td>0.132388</td>\n",
       "      <td>0.640013</td>\n",
       "      <td>0.103280</td>\n",
       "    </tr>\n",
       "    <tr>\n",
       "      <th>4</th>\n",
       "      <td>0.529555</td>\n",
       "      <td>0.813632</td>\n",
       "      <td>0.498961</td>\n",
       "      <td>0.830596</td>\n",
       "      <td>0.566125</td>\n",
       "      <td>0.191387</td>\n",
       "    </tr>\n",
       "    <tr>\n",
       "      <th>5</th>\n",
       "      <td>0.197387</td>\n",
       "      <td>0.494757</td>\n",
       "      <td>0.029947</td>\n",
       "      <td>0.312908</td>\n",
       "      <td>0.404300</td>\n",
       "      <td>0.923713</td>\n",
       "    </tr>\n",
       "    <tr>\n",
       "      <th>6</th>\n",
       "      <td>0.512933</td>\n",
       "      <td>0.446561</td>\n",
       "      <td>0.047506</td>\n",
       "      <td>0.995947</td>\n",
       "      <td>0.099121</td>\n",
       "      <td>0.823487</td>\n",
       "    </tr>\n",
       "  </tbody>\n",
       "</table>\n",
       "</div>"
      ],
      "text/plain": [
       "   column_1  column_2  column_3  column_4  column_5  column_6\n",
       "1  0.255243  0.638587  0.199826  0.150945  0.461040  0.150947\n",
       "2  0.017071  0.922612  0.102921  0.738952  0.223257  0.348180\n",
       "3  0.518659  0.645184  0.601349  0.132388  0.640013  0.103280\n",
       "4  0.529555  0.813632  0.498961  0.830596  0.566125  0.191387\n",
       "5  0.197387  0.494757  0.029947  0.312908  0.404300  0.923713\n",
       "6  0.512933  0.446561  0.047506  0.995947  0.099121  0.823487"
      ]
     },
     "execution_count": 9,
     "metadata": {},
     "output_type": "execute_result"
    }
   ],
   "source": [
    "df1"
   ]
  },
  {
   "cell_type": "code",
   "execution_count": 10,
   "id": "1c9e880d-7519-4141-977a-a70d64e91c57",
   "metadata": {},
   "outputs": [],
   "source": [
    "reindex = [3,0,1,2]\n",
    "new_df = df1.reindex(reindex)"
   ]
  },
  {
   "cell_type": "code",
   "execution_count": 11,
   "id": "88252cd0-dffb-4f1f-8e6d-a1659f9dbe8a",
   "metadata": {},
   "outputs": [
    {
     "data": {
      "text/html": [
       "<div>\n",
       "<style scoped>\n",
       "    .dataframe tbody tr th:only-of-type {\n",
       "        vertical-align: middle;\n",
       "    }\n",
       "\n",
       "    .dataframe tbody tr th {\n",
       "        vertical-align: top;\n",
       "    }\n",
       "\n",
       "    .dataframe thead th {\n",
       "        text-align: right;\n",
       "    }\n",
       "</style>\n",
       "<table border=\"1\" class=\"dataframe\">\n",
       "  <thead>\n",
       "    <tr style=\"text-align: right;\">\n",
       "      <th></th>\n",
       "      <th>column_1</th>\n",
       "      <th>column_2</th>\n",
       "      <th>column_3</th>\n",
       "      <th>column_4</th>\n",
       "      <th>column_5</th>\n",
       "      <th>column_6</th>\n",
       "    </tr>\n",
       "  </thead>\n",
       "  <tbody>\n",
       "    <tr>\n",
       "      <th>3</th>\n",
       "      <td>0.518659</td>\n",
       "      <td>0.645184</td>\n",
       "      <td>0.601349</td>\n",
       "      <td>0.132388</td>\n",
       "      <td>0.640013</td>\n",
       "      <td>0.103280</td>\n",
       "    </tr>\n",
       "    <tr>\n",
       "      <th>0</th>\n",
       "      <td>NaN</td>\n",
       "      <td>NaN</td>\n",
       "      <td>NaN</td>\n",
       "      <td>NaN</td>\n",
       "      <td>NaN</td>\n",
       "      <td>NaN</td>\n",
       "    </tr>\n",
       "    <tr>\n",
       "      <th>1</th>\n",
       "      <td>0.255243</td>\n",
       "      <td>0.638587</td>\n",
       "      <td>0.199826</td>\n",
       "      <td>0.150945</td>\n",
       "      <td>0.461040</td>\n",
       "      <td>0.150947</td>\n",
       "    </tr>\n",
       "    <tr>\n",
       "      <th>2</th>\n",
       "      <td>0.017071</td>\n",
       "      <td>0.922612</td>\n",
       "      <td>0.102921</td>\n",
       "      <td>0.738952</td>\n",
       "      <td>0.223257</td>\n",
       "      <td>0.348180</td>\n",
       "    </tr>\n",
       "  </tbody>\n",
       "</table>\n",
       "</div>"
      ],
      "text/plain": [
       "   column_1  column_2  column_3  column_4  column_5  column_6\n",
       "3  0.518659  0.645184  0.601349  0.132388  0.640013  0.103280\n",
       "0       NaN       NaN       NaN       NaN       NaN       NaN\n",
       "1  0.255243  0.638587  0.199826  0.150945  0.461040  0.150947\n",
       "2  0.017071  0.922612  0.102921  0.738952  0.223257  0.348180"
      ]
     },
     "execution_count": 11,
     "metadata": {},
     "output_type": "execute_result"
    }
   ],
   "source": [
    "new_df"
   ]
  },
  {
   "cell_type": "code",
   "execution_count": 12,
   "id": "4d9e8ff5-77bb-403d-83e6-214366cb1423",
   "metadata": {},
   "outputs": [
    {
     "data": {
      "text/plain": [
       "column_1    0.017071\n",
       "column_2    0.922612\n",
       "column_3    0.102921\n",
       "column_4    0.738952\n",
       "column_5    0.223257\n",
       "column_6    0.348180\n",
       "Name: 2, dtype: float64"
      ]
     },
     "execution_count": 12,
     "metadata": {},
     "output_type": "execute_result"
    }
   ],
   "source": [
    "new_df.loc[2]"
   ]
  },
  {
   "cell_type": "code",
   "execution_count": 13,
   "id": "40731b10-a8a4-4e6d-ae83-830ff625982c",
   "metadata": {},
   "outputs": [
    {
     "data": {
      "text/plain": [
       "column_1    0.255243\n",
       "column_2    0.638587\n",
       "column_3    0.199826\n",
       "column_4    0.150945\n",
       "column_5    0.461040\n",
       "column_6    0.150947\n",
       "Name: 1, dtype: float64"
      ]
     },
     "execution_count": 13,
     "metadata": {},
     "output_type": "execute_result"
    }
   ],
   "source": [
    "new_df.iloc[2]"
   ]
  },
  {
   "cell_type": "code",
   "execution_count": 14,
   "id": "3cc41315-35f9-42fb-bd0a-7a48e97c6636",
   "metadata": {},
   "outputs": [
    {
     "data": {
      "text/html": [
       "<div>\n",
       "<style scoped>\n",
       "    .dataframe tbody tr th:only-of-type {\n",
       "        vertical-align: middle;\n",
       "    }\n",
       "\n",
       "    .dataframe tbody tr th {\n",
       "        vertical-align: top;\n",
       "    }\n",
       "\n",
       "    .dataframe thead th {\n",
       "        text-align: right;\n",
       "    }\n",
       "</style>\n",
       "<table border=\"1\" class=\"dataframe\">\n",
       "  <thead>\n",
       "    <tr style=\"text-align: right;\">\n",
       "      <th></th>\n",
       "      <th>2</th>\n",
       "    </tr>\n",
       "  </thead>\n",
       "  <tbody>\n",
       "    <tr>\n",
       "      <th>column_1</th>\n",
       "      <td>0.017071</td>\n",
       "    </tr>\n",
       "    <tr>\n",
       "      <th>column_2</th>\n",
       "      <td>0.922612</td>\n",
       "    </tr>\n",
       "    <tr>\n",
       "      <th>column_3</th>\n",
       "      <td>0.102921</td>\n",
       "    </tr>\n",
       "    <tr>\n",
       "      <th>column_4</th>\n",
       "      <td>0.738952</td>\n",
       "    </tr>\n",
       "    <tr>\n",
       "      <th>column_5</th>\n",
       "      <td>0.223257</td>\n",
       "    </tr>\n",
       "    <tr>\n",
       "      <th>column_6</th>\n",
       "      <td>0.348180</td>\n",
       "    </tr>\n",
       "  </tbody>\n",
       "</table>\n",
       "</div>"
      ],
      "text/plain": [
       "                 2\n",
       "column_1  0.017071\n",
       "column_2  0.922612\n",
       "column_3  0.102921\n",
       "column_4  0.738952\n",
       "column_5  0.223257\n",
       "column_6  0.348180"
      ]
     },
     "execution_count": 14,
     "metadata": {},
     "output_type": "execute_result"
    }
   ],
   "source": [
    "pd.DataFrame(new_df.loc[2])"
   ]
  },
  {
   "cell_type": "code",
   "execution_count": 15,
   "id": "5662919c-df1e-49dd-81f6-690cb9c28079",
   "metadata": {},
   "outputs": [
    {
     "data": {
      "text/html": [
       "<div>\n",
       "<style scoped>\n",
       "    .dataframe tbody tr th:only-of-type {\n",
       "        vertical-align: middle;\n",
       "    }\n",
       "\n",
       "    .dataframe tbody tr th {\n",
       "        vertical-align: top;\n",
       "    }\n",
       "\n",
       "    .dataframe thead th {\n",
       "        text-align: right;\n",
       "    }\n",
       "</style>\n",
       "<table border=\"1\" class=\"dataframe\">\n",
       "  <thead>\n",
       "    <tr style=\"text-align: right;\">\n",
       "      <th></th>\n",
       "      <th>1</th>\n",
       "    </tr>\n",
       "  </thead>\n",
       "  <tbody>\n",
       "    <tr>\n",
       "      <th>column_1</th>\n",
       "      <td>0.255243</td>\n",
       "    </tr>\n",
       "    <tr>\n",
       "      <th>column_2</th>\n",
       "      <td>0.638587</td>\n",
       "    </tr>\n",
       "    <tr>\n",
       "      <th>column_3</th>\n",
       "      <td>0.199826</td>\n",
       "    </tr>\n",
       "    <tr>\n",
       "      <th>column_4</th>\n",
       "      <td>0.150945</td>\n",
       "    </tr>\n",
       "    <tr>\n",
       "      <th>column_5</th>\n",
       "      <td>0.461040</td>\n",
       "    </tr>\n",
       "    <tr>\n",
       "      <th>column_6</th>\n",
       "      <td>0.150947</td>\n",
       "    </tr>\n",
       "  </tbody>\n",
       "</table>\n",
       "</div>"
      ],
      "text/plain": [
       "                 1\n",
       "column_1  0.255243\n",
       "column_2  0.638587\n",
       "column_3  0.199826\n",
       "column_4  0.150945\n",
       "column_5  0.461040\n",
       "column_6  0.150947"
      ]
     },
     "execution_count": 15,
     "metadata": {},
     "output_type": "execute_result"
    }
   ],
   "source": [
    "pd.DataFrame(new_df.iloc[2])"
   ]
  },
  {
   "cell_type": "markdown",
   "id": "249a6b4d-9973-42ff-b0ba-a3dbf360f7e4",
   "metadata": {},
   "source": [
    "### Q4. Write a code to find the following statistical measurements for the above dataframe df1:\n",
    "(i) mean of each and every column present in the dataframe.\n",
    "<br>(ii) standard deviation of column, ‘column_2’"
   ]
  },
  {
   "cell_type": "code",
   "execution_count": 16,
   "id": "0ecde9ea-9fce-4236-a572-734e22745f78",
   "metadata": {},
   "outputs": [
    {
     "data": {
      "text/html": [
       "<div>\n",
       "<style scoped>\n",
       "    .dataframe tbody tr th:only-of-type {\n",
       "        vertical-align: middle;\n",
       "    }\n",
       "\n",
       "    .dataframe tbody tr th {\n",
       "        vertical-align: top;\n",
       "    }\n",
       "\n",
       "    .dataframe thead th {\n",
       "        text-align: right;\n",
       "    }\n",
       "</style>\n",
       "<table border=\"1\" class=\"dataframe\">\n",
       "  <thead>\n",
       "    <tr style=\"text-align: right;\">\n",
       "      <th></th>\n",
       "      <th>column_1</th>\n",
       "      <th>column_2</th>\n",
       "      <th>column_3</th>\n",
       "      <th>column_4</th>\n",
       "      <th>column_5</th>\n",
       "      <th>column_6</th>\n",
       "    </tr>\n",
       "  </thead>\n",
       "  <tbody>\n",
       "    <tr>\n",
       "      <th>count</th>\n",
       "      <td>6.000000</td>\n",
       "      <td>6.000000</td>\n",
       "      <td>6.000000</td>\n",
       "      <td>6.000000</td>\n",
       "      <td>6.000000</td>\n",
       "      <td>6.000000</td>\n",
       "    </tr>\n",
       "    <tr>\n",
       "      <th>mean</th>\n",
       "      <td>0.338475</td>\n",
       "      <td>0.660222</td>\n",
       "      <td>0.246752</td>\n",
       "      <td>0.526956</td>\n",
       "      <td>0.398976</td>\n",
       "      <td>0.423499</td>\n",
       "    </tr>\n",
       "    <tr>\n",
       "      <th>std</th>\n",
       "      <td>0.214265</td>\n",
       "      <td>0.182267</td>\n",
       "      <td>0.244516</td>\n",
       "      <td>0.374160</td>\n",
       "      <td>0.205284</td>\n",
       "      <td>0.359605</td>\n",
       "    </tr>\n",
       "    <tr>\n",
       "      <th>min</th>\n",
       "      <td>0.017071</td>\n",
       "      <td>0.446561</td>\n",
       "      <td>0.029947</td>\n",
       "      <td>0.132388</td>\n",
       "      <td>0.099121</td>\n",
       "      <td>0.103280</td>\n",
       "    </tr>\n",
       "    <tr>\n",
       "      <th>25%</th>\n",
       "      <td>0.211851</td>\n",
       "      <td>0.530715</td>\n",
       "      <td>0.061360</td>\n",
       "      <td>0.191436</td>\n",
       "      <td>0.268517</td>\n",
       "      <td>0.161057</td>\n",
       "    </tr>\n",
       "    <tr>\n",
       "      <th>50%</th>\n",
       "      <td>0.384088</td>\n",
       "      <td>0.641886</td>\n",
       "      <td>0.151373</td>\n",
       "      <td>0.525930</td>\n",
       "      <td>0.432670</td>\n",
       "      <td>0.269784</td>\n",
       "    </tr>\n",
       "    <tr>\n",
       "      <th>75%</th>\n",
       "      <td>0.517228</td>\n",
       "      <td>0.771520</td>\n",
       "      <td>0.424177</td>\n",
       "      <td>0.807685</td>\n",
       "      <td>0.539854</td>\n",
       "      <td>0.704661</td>\n",
       "    </tr>\n",
       "    <tr>\n",
       "      <th>max</th>\n",
       "      <td>0.529555</td>\n",
       "      <td>0.922612</td>\n",
       "      <td>0.601349</td>\n",
       "      <td>0.995947</td>\n",
       "      <td>0.640013</td>\n",
       "      <td>0.923713</td>\n",
       "    </tr>\n",
       "  </tbody>\n",
       "</table>\n",
       "</div>"
      ],
      "text/plain": [
       "       column_1  column_2  column_3  column_4  column_5  column_6\n",
       "count  6.000000  6.000000  6.000000  6.000000  6.000000  6.000000\n",
       "mean   0.338475  0.660222  0.246752  0.526956  0.398976  0.423499\n",
       "std    0.214265  0.182267  0.244516  0.374160  0.205284  0.359605\n",
       "min    0.017071  0.446561  0.029947  0.132388  0.099121  0.103280\n",
       "25%    0.211851  0.530715  0.061360  0.191436  0.268517  0.161057\n",
       "50%    0.384088  0.641886  0.151373  0.525930  0.432670  0.269784\n",
       "75%    0.517228  0.771520  0.424177  0.807685  0.539854  0.704661\n",
       "max    0.529555  0.922612  0.601349  0.995947  0.640013  0.923713"
      ]
     },
     "execution_count": 16,
     "metadata": {},
     "output_type": "execute_result"
    }
   ],
   "source": [
    "df1.describe()"
   ]
  },
  {
   "cell_type": "code",
   "execution_count": 17,
   "id": "87fe61f4-4ff0-4100-9e3f-97f48dc92783",
   "metadata": {},
   "outputs": [
    {
     "data": {
      "text/plain": [
       "column_1    0.338475\n",
       "column_2    0.660222\n",
       "column_3    0.246752\n",
       "column_4    0.526956\n",
       "column_5    0.398976\n",
       "column_6    0.423499\n",
       "dtype: float64"
      ]
     },
     "execution_count": 17,
     "metadata": {},
     "output_type": "execute_result"
    }
   ],
   "source": [
    "df1.mean()"
   ]
  },
  {
   "cell_type": "code",
   "execution_count": 18,
   "id": "9dcdfd26-aa39-4889-9cd9-d7e21f416a93",
   "metadata": {},
   "outputs": [
    {
     "data": {
      "text/plain": [
       "column_1    0.214265\n",
       "column_2    0.182267\n",
       "dtype: float64"
      ]
     },
     "execution_count": 18,
     "metadata": {},
     "output_type": "execute_result"
    }
   ],
   "source": [
    "df1[['column_1','column_2']].std()"
   ]
  },
  {
   "cell_type": "code",
   "execution_count": 19,
   "id": "57b1cd06-7671-4289-8145-ab9f3c2c8fa1",
   "metadata": {},
   "outputs": [
    {
     "data": {
      "text/html": [
       "<div>\n",
       "<style scoped>\n",
       "    .dataframe tbody tr th:only-of-type {\n",
       "        vertical-align: middle;\n",
       "    }\n",
       "\n",
       "    .dataframe tbody tr th {\n",
       "        vertical-align: top;\n",
       "    }\n",
       "\n",
       "    .dataframe thead th {\n",
       "        text-align: right;\n",
       "    }\n",
       "</style>\n",
       "<table border=\"1\" class=\"dataframe\">\n",
       "  <thead>\n",
       "    <tr style=\"text-align: right;\">\n",
       "      <th></th>\n",
       "      <th>0</th>\n",
       "    </tr>\n",
       "  </thead>\n",
       "  <tbody>\n",
       "    <tr>\n",
       "      <th>column_1</th>\n",
       "      <td>0.214265</td>\n",
       "    </tr>\n",
       "    <tr>\n",
       "      <th>column_2</th>\n",
       "      <td>0.182267</td>\n",
       "    </tr>\n",
       "  </tbody>\n",
       "</table>\n",
       "</div>"
      ],
      "text/plain": [
       "                 0\n",
       "column_1  0.214265\n",
       "column_2  0.182267"
      ]
     },
     "execution_count": 19,
     "metadata": {},
     "output_type": "execute_result"
    }
   ],
   "source": [
    "pd.DataFrame(df1[['column_1','column_2']].std())"
   ]
  },
  {
   "cell_type": "markdown",
   "id": "f031fca0-d0ea-4a20-bf34-203c08305791",
   "metadata": {},
   "source": [
    "### Q5. Replace the data present in the second row of column, ‘column_2’ by a string variable then find the mean of column, column_2. If you are getting errors in executing it then explain why. \n",
    "[Hint: To replace the data use df1.loc[] and equate this to string data of your choice.]"
   ]
  },
  {
   "cell_type": "code",
   "execution_count": 20,
   "id": "4e372d65-a9b6-43fd-bdec-305b54909f07",
   "metadata": {},
   "outputs": [
    {
     "data": {
      "text/html": [
       "<div>\n",
       "<style scoped>\n",
       "    .dataframe tbody tr th:only-of-type {\n",
       "        vertical-align: middle;\n",
       "    }\n",
       "\n",
       "    .dataframe tbody tr th {\n",
       "        vertical-align: top;\n",
       "    }\n",
       "\n",
       "    .dataframe thead th {\n",
       "        text-align: right;\n",
       "    }\n",
       "</style>\n",
       "<table border=\"1\" class=\"dataframe\">\n",
       "  <thead>\n",
       "    <tr style=\"text-align: right;\">\n",
       "      <th></th>\n",
       "      <th>column_1</th>\n",
       "      <th>column_2</th>\n",
       "      <th>column_3</th>\n",
       "      <th>column_4</th>\n",
       "      <th>column_5</th>\n",
       "      <th>column_6</th>\n",
       "    </tr>\n",
       "  </thead>\n",
       "  <tbody>\n",
       "    <tr>\n",
       "      <th>1</th>\n",
       "      <td>0.255243</td>\n",
       "      <td>0.638587</td>\n",
       "      <td>0.199826</td>\n",
       "      <td>0.150945</td>\n",
       "      <td>0.461040</td>\n",
       "      <td>0.150947</td>\n",
       "    </tr>\n",
       "    <tr>\n",
       "      <th>2</th>\n",
       "      <td>0.017071</td>\n",
       "      <td>0.922612</td>\n",
       "      <td>0.102921</td>\n",
       "      <td>0.738952</td>\n",
       "      <td>0.223257</td>\n",
       "      <td>0.348180</td>\n",
       "    </tr>\n",
       "    <tr>\n",
       "      <th>3</th>\n",
       "      <td>0.518659</td>\n",
       "      <td>0.645184</td>\n",
       "      <td>0.601349</td>\n",
       "      <td>0.132388</td>\n",
       "      <td>0.640013</td>\n",
       "      <td>0.103280</td>\n",
       "    </tr>\n",
       "    <tr>\n",
       "      <th>4</th>\n",
       "      <td>0.529555</td>\n",
       "      <td>0.813632</td>\n",
       "      <td>0.498961</td>\n",
       "      <td>0.830596</td>\n",
       "      <td>0.566125</td>\n",
       "      <td>0.191387</td>\n",
       "    </tr>\n",
       "    <tr>\n",
       "      <th>5</th>\n",
       "      <td>0.197387</td>\n",
       "      <td>0.494757</td>\n",
       "      <td>0.029947</td>\n",
       "      <td>0.312908</td>\n",
       "      <td>0.404300</td>\n",
       "      <td>0.923713</td>\n",
       "    </tr>\n",
       "    <tr>\n",
       "      <th>6</th>\n",
       "      <td>0.512933</td>\n",
       "      <td>0.446561</td>\n",
       "      <td>0.047506</td>\n",
       "      <td>0.995947</td>\n",
       "      <td>0.099121</td>\n",
       "      <td>0.823487</td>\n",
       "    </tr>\n",
       "  </tbody>\n",
       "</table>\n",
       "</div>"
      ],
      "text/plain": [
       "   column_1  column_2  column_3  column_4  column_5  column_6\n",
       "1  0.255243  0.638587  0.199826  0.150945  0.461040  0.150947\n",
       "2  0.017071  0.922612  0.102921  0.738952  0.223257  0.348180\n",
       "3  0.518659  0.645184  0.601349  0.132388  0.640013  0.103280\n",
       "4  0.529555  0.813632  0.498961  0.830596  0.566125  0.191387\n",
       "5  0.197387  0.494757  0.029947  0.312908  0.404300  0.923713\n",
       "6  0.512933  0.446561  0.047506  0.995947  0.099121  0.823487"
      ]
     },
     "execution_count": 20,
     "metadata": {},
     "output_type": "execute_result"
    }
   ],
   "source": [
    "df1"
   ]
  },
  {
   "cell_type": "code",
   "execution_count": 21,
   "id": "5f4d6e3b-91df-4100-8fae-fd531123f94b",
   "metadata": {},
   "outputs": [
    {
     "data": {
      "text/plain": [
       "column_1    0.017071\n",
       "column_2    0.922612\n",
       "Name: 2, dtype: float64"
      ]
     },
     "execution_count": 21,
     "metadata": {},
     "output_type": "execute_result"
    }
   ],
   "source": [
    "df1.iloc[1,0:2] "
   ]
  },
  {
   "cell_type": "code",
   "execution_count": 22,
   "id": "0e257db9-03c1-4fc4-a7a0-320bf2ee97ca",
   "metadata": {},
   "outputs": [],
   "source": [
    "df1.iloc[1,0:2] = \"dani\""
   ]
  },
  {
   "cell_type": "code",
   "execution_count": 23,
   "id": "2c7775b6-27d1-4ba1-b1d9-04a1598d9d98",
   "metadata": {},
   "outputs": [
    {
     "data": {
      "text/html": [
       "<div>\n",
       "<style scoped>\n",
       "    .dataframe tbody tr th:only-of-type {\n",
       "        vertical-align: middle;\n",
       "    }\n",
       "\n",
       "    .dataframe tbody tr th {\n",
       "        vertical-align: top;\n",
       "    }\n",
       "\n",
       "    .dataframe thead th {\n",
       "        text-align: right;\n",
       "    }\n",
       "</style>\n",
       "<table border=\"1\" class=\"dataframe\">\n",
       "  <thead>\n",
       "    <tr style=\"text-align: right;\">\n",
       "      <th></th>\n",
       "      <th>column_1</th>\n",
       "      <th>column_2</th>\n",
       "      <th>column_3</th>\n",
       "      <th>column_4</th>\n",
       "      <th>column_5</th>\n",
       "      <th>column_6</th>\n",
       "    </tr>\n",
       "  </thead>\n",
       "  <tbody>\n",
       "    <tr>\n",
       "      <th>1</th>\n",
       "      <td>0.255243</td>\n",
       "      <td>0.638587</td>\n",
       "      <td>0.199826</td>\n",
       "      <td>0.150945</td>\n",
       "      <td>0.461040</td>\n",
       "      <td>0.150947</td>\n",
       "    </tr>\n",
       "    <tr>\n",
       "      <th>2</th>\n",
       "      <td>dani</td>\n",
       "      <td>dani</td>\n",
       "      <td>0.102921</td>\n",
       "      <td>0.738952</td>\n",
       "      <td>0.223257</td>\n",
       "      <td>0.348180</td>\n",
       "    </tr>\n",
       "    <tr>\n",
       "      <th>3</th>\n",
       "      <td>0.518659</td>\n",
       "      <td>0.645184</td>\n",
       "      <td>0.601349</td>\n",
       "      <td>0.132388</td>\n",
       "      <td>0.640013</td>\n",
       "      <td>0.103280</td>\n",
       "    </tr>\n",
       "    <tr>\n",
       "      <th>4</th>\n",
       "      <td>0.529555</td>\n",
       "      <td>0.813632</td>\n",
       "      <td>0.498961</td>\n",
       "      <td>0.830596</td>\n",
       "      <td>0.566125</td>\n",
       "      <td>0.191387</td>\n",
       "    </tr>\n",
       "    <tr>\n",
       "      <th>5</th>\n",
       "      <td>0.197387</td>\n",
       "      <td>0.494757</td>\n",
       "      <td>0.029947</td>\n",
       "      <td>0.312908</td>\n",
       "      <td>0.404300</td>\n",
       "      <td>0.923713</td>\n",
       "    </tr>\n",
       "    <tr>\n",
       "      <th>6</th>\n",
       "      <td>0.512933</td>\n",
       "      <td>0.446561</td>\n",
       "      <td>0.047506</td>\n",
       "      <td>0.995947</td>\n",
       "      <td>0.099121</td>\n",
       "      <td>0.823487</td>\n",
       "    </tr>\n",
       "  </tbody>\n",
       "</table>\n",
       "</div>"
      ],
      "text/plain": [
       "   column_1  column_2  column_3  column_4  column_5  column_6\n",
       "1  0.255243  0.638587  0.199826  0.150945  0.461040  0.150947\n",
       "2      dani      dani  0.102921  0.738952  0.223257  0.348180\n",
       "3  0.518659  0.645184  0.601349  0.132388  0.640013  0.103280\n",
       "4  0.529555  0.813632  0.498961  0.830596  0.566125  0.191387\n",
       "5  0.197387  0.494757  0.029947  0.312908  0.404300  0.923713\n",
       "6  0.512933  0.446561  0.047506  0.995947  0.099121  0.823487"
      ]
     },
     "execution_count": 23,
     "metadata": {},
     "output_type": "execute_result"
    }
   ],
   "source": [
    "df1"
   ]
  },
  {
   "cell_type": "code",
   "execution_count": 24,
   "id": "dc372564-dae0-405d-8760-0ed8bdf3d54d",
   "metadata": {},
   "outputs": [
    {
     "data": {
      "text/html": [
       "<div>\n",
       "<style scoped>\n",
       "    .dataframe tbody tr th:only-of-type {\n",
       "        vertical-align: middle;\n",
       "    }\n",
       "\n",
       "    .dataframe tbody tr th {\n",
       "        vertical-align: top;\n",
       "    }\n",
       "\n",
       "    .dataframe thead th {\n",
       "        text-align: right;\n",
       "    }\n",
       "</style>\n",
       "<table border=\"1\" class=\"dataframe\">\n",
       "  <thead>\n",
       "    <tr style=\"text-align: right;\">\n",
       "      <th></th>\n",
       "      <th>column_1</th>\n",
       "      <th>column_2</th>\n",
       "    </tr>\n",
       "  </thead>\n",
       "  <tbody>\n",
       "    <tr>\n",
       "      <th>1</th>\n",
       "      <td>0.255243</td>\n",
       "      <td>0.638587</td>\n",
       "    </tr>\n",
       "    <tr>\n",
       "      <th>2</th>\n",
       "      <td>dani</td>\n",
       "      <td>dani</td>\n",
       "    </tr>\n",
       "    <tr>\n",
       "      <th>3</th>\n",
       "      <td>0.518659</td>\n",
       "      <td>0.645184</td>\n",
       "    </tr>\n",
       "    <tr>\n",
       "      <th>4</th>\n",
       "      <td>0.529555</td>\n",
       "      <td>0.813632</td>\n",
       "    </tr>\n",
       "    <tr>\n",
       "      <th>5</th>\n",
       "      <td>0.197387</td>\n",
       "      <td>0.494757</td>\n",
       "    </tr>\n",
       "    <tr>\n",
       "      <th>6</th>\n",
       "      <td>0.512933</td>\n",
       "      <td>0.446561</td>\n",
       "    </tr>\n",
       "  </tbody>\n",
       "</table>\n",
       "</div>"
      ],
      "text/plain": [
       "   column_1  column_2\n",
       "1  0.255243  0.638587\n",
       "2      dani      dani\n",
       "3  0.518659  0.645184\n",
       "4  0.529555  0.813632\n",
       "5  0.197387  0.494757\n",
       "6  0.512933  0.446561"
      ]
     },
     "execution_count": 24,
     "metadata": {},
     "output_type": "execute_result"
    }
   ],
   "source": [
    "df1.loc[:,[\"column_1\",\"column_2\"]]"
   ]
  },
  {
   "cell_type": "code",
   "execution_count": 25,
   "id": "1540e562-0c0a-4882-830d-2161a429906a",
   "metadata": {},
   "outputs": [
    {
     "name": "stderr",
     "output_type": "stream",
     "text": [
      "/tmp/ipykernel_1926/374022466.py:1: FutureWarning: The default value of numeric_only in DataFrame.mean is deprecated. In a future version, it will default to False. In addition, specifying 'numeric_only=None' is deprecated. Select only valid columns or specify the value of numeric_only to silence this warning.\n",
      "  df1.loc[:,[\"column_1\",\"column_2\"]].mean()\n"
     ]
    },
    {
     "data": {
      "text/plain": [
       "Series([], dtype: float64)"
      ]
     },
     "execution_count": 25,
     "metadata": {},
     "output_type": "execute_result"
    }
   ],
   "source": [
    "df1.loc[:,[\"column_1\",\"column_2\"]].mean()"
   ]
  },
  {
   "cell_type": "code",
   "execution_count": 26,
   "id": "e522062b-8901-442f-a4f8-d42bfdcfa059",
   "metadata": {},
   "outputs": [
    {
     "name": "stdout",
     "output_type": "stream",
     "text": [
      "The error is : \n",
      "\n",
      "The default value of numeric_only in DataFrame.mean is deprecated. In a future version, it will default to False. In addition, specifying 'numeric_only=None' is deprecated. Select only valid columns or specify the value of numeric_only to silence this warning. df1.loc[:,['column_1','column_2']].mean()\n"
     ]
    }
   ],
   "source": [
    "print(\"The error is : \\n\")\n",
    "print(\"The default value of numeric_only in DataFrame.mean is deprecated. In a future version, it will default to False. In addition, specifying 'numeric_only=None' is deprecated. Select only valid columns or specify the value of numeric_only to silence this warning. df1.loc[:,['column_1','column_2']].mean()\")"
   ]
  },
  {
   "cell_type": "markdown",
   "id": "581d623a-c170-47c9-8160-7e7b123f3bb1",
   "metadata": {},
   "source": [
    "### Q6. What do you understand about the windows function in pandas and list the types of windows functions?"
   ]
  },
  {
   "cell_type": "markdown",
   "id": "47b7deeb-c589-4d82-b580-6ee6d0181f23",
   "metadata": {},
   "source": [
    "In pandas, a window function is a powerful tool used for performing calculations on a specific subset of data within a defined window or range. These functions allow you to apply aggregate functions, transformations, or other operations over a sliding or rolling window of data points. Window functions are commonly used in time series data and other sequential data to perform calculations over a moving window.\n",
    "\n",
    "Types of Window Functions in pandas:\n",
    "\n",
    "1. Rolling Windows:\n",
    "Rolling windows are used for calculating statistics over a fixed-size window of consecutive data points.\n",
    "The window \"rolls\" or slides over the data, and the calculation is applied to each window.\n",
    "Common operations include mean, sum, standard deviation, etc.\n",
    "\n",
    "2. Expanding Windows:\n",
    "Expanding windows gradually include more data points as they move forward.\n",
    "The calculation is performed on all data points from the beginning up to the current point in the window.\n",
    "Useful for computing cumulative statistics or growth rates.\n",
    "\n",
    "3. Exponentially Weighted Windows:\n",
    "Exponentially weighted windows assign weights to data points based on their position in the window.\n",
    "Data points closer to the current point receive higher weights, and weights decrease exponentially with distance from the current point.\n",
    "Suitable for capturing trends and handling non-stationary data in time series analysis.\n",
    "\n",
    "4. Aggregation Windows:\n",
    "Aggregation windows allow you to perform custom aggregation operations on windows of data.\n",
    "This can be useful for calculating custom statistics or metrics over specific subsets of data.\n",
    "\n",
    "5. Rolling and Expanding Windows with Time-Based Index:\n",
    "pandas also supports rolling and expanding windows based on time-based index (e.g., timestamps).\n",
    "These windows provide more flexibility when dealing with time series data and allow you to compute statistics over time periods.\n",
    "\n",
    "To use window functions in pandas, you typically use the rolling() method for rolling windows, expanding() method for expanding windows, and ewm() method for exponentially weighted windows. These methods enable you to specify the window size and apply the desired operation efficiently.\n",
    "\n",
    "Window functions in pandas are incredibly useful for analyzing time series data, smoothing noisy signals, identifying trends, and making predictions based on local patterns. They provide a convenient way to perform data transformations and aggregations over subsets of data and facilitate various advanced data analysis and modeling tasks."
   ]
  },
  {
   "cell_type": "markdown",
   "id": "00161658-fd18-49cb-b68a-ee44a3fcf150",
   "metadata": {},
   "source": [
    "### Q7. Write a code to print only the current month and year at the time of answering this question.\n",
    "[Hint: Use pandas.datetime function]"
   ]
  },
  {
   "cell_type": "code",
   "execution_count": 27,
   "id": "be62ff17-5f02-478a-b75f-142e762b26e3",
   "metadata": {},
   "outputs": [],
   "source": [
    "current = pd.Timestamp.now()"
   ]
  },
  {
   "cell_type": "code",
   "execution_count": 28,
   "id": "83be1897-050b-43ab-a916-66e327bfea33",
   "metadata": {},
   "outputs": [
    {
     "data": {
      "text/plain": [
       "Timestamp('2023-07-28 17:17:04.821752')"
      ]
     },
     "execution_count": 28,
     "metadata": {},
     "output_type": "execute_result"
    }
   ],
   "source": [
    "current"
   ]
  },
  {
   "cell_type": "code",
   "execution_count": 29,
   "id": "a591c854-26e3-457b-b293-2e123952c3db",
   "metadata": {},
   "outputs": [
    {
     "data": {
      "text/plain": [
       "pandas._libs.tslibs.timestamps.Timestamp"
      ]
     },
     "execution_count": 29,
     "metadata": {},
     "output_type": "execute_result"
    }
   ],
   "source": [
    "type(current)"
   ]
  },
  {
   "cell_type": "code",
   "execution_count": 30,
   "id": "b5d43aa6-7a79-4067-8b38-ea940aa8a168",
   "metadata": {},
   "outputs": [],
   "source": [
    "month = current.month"
   ]
  },
  {
   "cell_type": "code",
   "execution_count": 31,
   "id": "cbbde4c1-ca25-4858-a3f7-d7558a6c6a88",
   "metadata": {},
   "outputs": [],
   "source": [
    "year = current.year"
   ]
  },
  {
   "cell_type": "code",
   "execution_count": 32,
   "id": "5e175c21-4d46-4355-8041-1898ba9c6e51",
   "metadata": {},
   "outputs": [
    {
     "name": "stdout",
     "output_type": "stream",
     "text": [
      "Current Month : 7\n",
      "Current Year : 2023\n"
     ]
    }
   ],
   "source": [
    "print(\"Current Month : {}\".format(month))\n",
    "print(\"Current Year : {}\".format(year))"
   ]
  },
  {
   "cell_type": "markdown",
   "id": "ebd9287b-eccd-4636-a9f6-f1a257e0cbb8",
   "metadata": {},
   "source": [
    "### Q8. Write a Python program that takes in two dates as input (in the format YYYY-MM-DD) and calculates the difference between them in days, hours, and minutes using Pandas time delta. The program should prompt the user to enter the dates and display the result."
   ]
  },
  {
   "cell_type": "code",
   "execution_count": 33,
   "id": "d6f08107-1c56-4338-8509-d1bec9dcd519",
   "metadata": {},
   "outputs": [
    {
     "name": "stdin",
     "output_type": "stream",
     "text": [
      "Enter the start date (YYYY-MM-DD):  2023-07-20 12:10:03\n",
      "Enter the end date (YYYY-MM-DD):  2023-07-23 14:45:12\n"
     ]
    },
    {
     "name": "stdout",
     "output_type": "stream",
     "text": [
      "Time difference: 3 days, 2 hours, and 35 minutes.\n"
     ]
    }
   ],
   "source": [
    "def time_difference_func(start_date, end_date):\n",
    "    \n",
    "    try:\n",
    "        start_timestamp = pd.Timestamp(start_date)\n",
    "        end_timestamp = pd.Timestamp(end_date)\n",
    "    \n",
    "        time_difference = end_timestamp - start_timestamp\n",
    "\n",
    "        # Extract days, hours, and minutes from the timedelta\n",
    "        days = time_difference.days\n",
    "        hours = time_difference.seconds // 3600\n",
    "        minutes = (time_difference.seconds % 3600) // 60\n",
    "        return days, hours, minutes\n",
    "    except Exception as e:\n",
    "        print(f\"Error: {e}\")\n",
    "\n",
    "\n",
    "# Prompt the user to enter two dates in the format YYYY-MM-DD\n",
    "start_date_input = input(\"Enter the start date (YYYY-MM-DD): \")\n",
    "end_date_input = input(\"Enter the end date (YYYY-MM-DD): \")\n",
    "\n",
    "\n",
    "days_diff, hours_diff, minutes_diff = time_difference_func(start_date_input, end_date_input)\n",
    "\n",
    "print(f\"Time difference: {days_diff} days, {hours_diff} hours, and {minutes_diff} minutes.\")\n"
   ]
  },
  {
   "cell_type": "markdown",
   "id": "9ae4103d-50f1-49da-89b1-a109910a2413",
   "metadata": {},
   "source": [
    "### Q9. Write a Python program that reads a CSV file containing categorical data and converts a specified column to a categorical data type. The program should prompt the user to enter the file path, column name, and category order, and then display the sorted data."
   ]
  },
  {
   "cell_type": "code",
   "execution_count": 34,
   "id": "796bc803-00ac-4394-98fc-5cfd1061814b",
   "metadata": {},
   "outputs": [],
   "source": [
    "data = pd.DataFrame({\"Name\":[\"Rachit\",\"Yomil\",\"Jayan\",\"Pratham\",\"Malik\",\"Sam\",\"Khushi\",\"Sakshi\"] , \"Gender\":['M','M','M','M','M','M','F','F'],\"Grade\":['A','B','A','B','C','C','A','C']})\n",
    "\n",
    "data.to_csv(\"marks.csv\",index=False)"
   ]
  },
  {
   "cell_type": "code",
   "execution_count": 35,
   "id": "01da71cd-f875-440b-9941-12733b0317ab",
   "metadata": {},
   "outputs": [
    {
     "name": "stdin",
     "output_type": "stream",
     "text": [
      "Enter the CSV file path:  marks.csv\n",
      "Enter the column name to convert to categorical:  Grade\n",
      "Enter the category order (comma-separated values):  B,A,C\n"
     ]
    },
    {
     "name": "stdout",
     "output_type": "stream",
     "text": [
      "\n",
      "Sorted Data:\n",
      "      Name Gender Grade\n",
      "1    Yomil      M     B\n",
      "3  Pratham      M     B\n",
      "0   Rachit      M     A\n",
      "2    Jayan      M     A\n",
      "6   Khushi      F     A\n",
      "4    Malik      M     C\n",
      "5      Sam      M     C\n",
      "7   Sakshi      F     C\n"
     ]
    }
   ],
   "source": [
    "def convert_to_categorical_and_sort(file_path, column_name, category_order):\n",
    "    try:\n",
    "        df = pd.read_csv(file_path)\n",
    "        df[column_name] = pd.Categorical(df[column_name], categories=category_order, ordered=True)\n",
    "        sorted_df = df.sort_values(by=column_name)\n",
    "        return sorted_df\n",
    "    except Exception as e :\n",
    "        print(f\"Error: {e}\")\n",
    "\n",
    "\n",
    "if __name__ == \"__main__\":\n",
    "    file_path = input(\"Enter the CSV file path: \")\n",
    "    column_name = input(\"Enter the column name to convert to categorical: \")\n",
    "    category_order = input(\"Enter the category order (comma-separated values): \")\n",
    "    category_order = [cat.strip() for cat in category_order.split(\",\")]\n",
    "\n",
    "    sorted_data = convert_to_categorical_and_sort(file_path, column_name, category_order)\n",
    "    print(\"\\nSorted Data:\")\n",
    "    print(sorted_data)\n"
   ]
  },
  {
   "cell_type": "markdown",
   "id": "c1fb6ab0-19e2-4ea4-aba6-ebacb21b4671",
   "metadata": {},
   "source": [
    "### Q10. Write a Python program that reads a CSV file containing sales data for different products and visualizes the data using a stacked bar chart to show the sales of each product category over time. The program should prompt the user to enter the file path and display the chart."
   ]
  },
  {
   "cell_type": "code",
   "execution_count": 36,
   "id": "886c8177-3740-46c5-a049-295434796bfe",
   "metadata": {},
   "outputs": [],
   "source": [
    "data = pd.DataFrame({\"Date\":[\"20-07-2023\",\"20-07-2023\",\"20-07-2023\",\"21-07-2023\",\"21-07-2023\",\"22-07-2023\",\"23-07-2023\",\"24-07-2023\"] , \"Product Category\":['TV','Fridge','Washing Machine','Washing Machine','TV','Fridge','TV','Washing Machine'],\"Units Sold\":['44','20','18','50','30','35','42','54']})\n",
    "\n",
    "data.to_csv(\"salesdata.csv\",index=False)"
   ]
  },
  {
   "cell_type": "code",
   "execution_count": 37,
   "id": "affaa34b-b201-4e06-aee8-a96b6fed952b",
   "metadata": {},
   "outputs": [
    {
     "name": "stdin",
     "output_type": "stream",
     "text": [
      "Enter the file path of the CSV file containing sales data:  salesdata.csv\n"
     ]
    },
    {
     "data": {
      "image/png": "[encoded data removed]",
      "text/plain": [
       "<Figure size 1200x600 with 1 Axes>"
      ]
     },
     "metadata": {},
     "output_type": "display_data"
    }
   ],
   "source": [
    "import pandas as pd\n",
    "import matplotlib.pyplot as plt\n",
    "\n",
    "def visualize_sales_data(file_path):\n",
    "    try:\n",
    "        # Read the CSV file into a pandas DataFrame\n",
    "        df = pd.read_csv(file_path)\n",
    "\n",
    "        # Convert the 'Date' column to datetime\n",
    "        df['Date'] = pd.to_datetime(df['Date'],dayfirst=True)\n",
    "\n",
    "        # Group the data by product category and date, and sum the sales\n",
    "        grouped_data = df.groupby(['Product Category', 'Date']).sum().reset_index()\n",
    "        \n",
    "        # Pivot the data to create a matrix of sales by product and date\n",
    "        df_pivot = grouped_data.pivot(index='Date', columns='Product Category', values='Units Sold')\n",
    "\n",
    "        # Plot stacked barchart overtime\n",
    "        df_pivot.plot(kind='bar',\n",
    "                  stacked=True,\n",
    "                  title='Sales of Each Product Category Over Time', \n",
    "                  xlabel='Date',\n",
    "                  ylabel='Units Sols',\n",
    "                  figsize=(12,6))\n",
    "        plt.legend(title='Product Category')\n",
    "        plt.show()\n",
    "\n",
    "    except Exception as e:\n",
    "        print(f\"Error: {e}\")\n",
    "\n",
    "if __name__ == \"__main__\":\n",
    "    file_path = input(\"Enter the file path of the CSV file containing sales data: \")\n",
    "    visualize_sales_data(file_path)\n"
   ]
  },
  {
   "cell_type": "markdown",
   "id": "ceb833d9-9c8e-4860-89c6-0e9d6ca72812",
   "metadata": {},
   "source": [
    "### Q11. You are given a CSV file containing student data that includes the student ID and their test score. Write a Python program that reads the CSV file, calculates the mean, median, and mode of the test scores, and displays the results in a table. The program should do the following: \n",
    "<br>Prompt the user to enter the file path of the CSV file containing the student dataR\n",
    "<br>Read the CSV file into a Pandas DataFrame\n",
    "<br>Calculate the mean, median, and mode of the test scores using Pandas toolsR\n",
    "<br>Display the mean, median, and mode in a table.\n",
    "<br>Assume the CSV file contains the following columns\n",
    "<br>Student ID: The ID of the studentR\n",
    "<br>Test Score: The score of the student's test.\n",
    "<br>Example usage of the program:\n",
    "<br>Enter the file path of the CSV file containing the student data: student_data.csv\n",
    "<br>+-----------+--------+\n",
    "<br>| Statistic | Value |\n",
    "<br>+-----------+--------+\n",
    "<br>| Mean | 79.6 |\n",
    "<br>| Median | 82 |\n",
    "<br>| Mode | 85, 90 |\n",
    "<br>+-----------+--------+\n",
    "<br>Assume that the CSV file student_data.csv contains the following data:\n",
    "<br>Student ID,Test Score\n",
    "<br>1,85\n",
    "<br>2,90\n",
    "<br>3,80\n",
    "<br>4,75\n",
    "<br>5,85\n",
    "<br>6,82\n",
    "<br>7,78\n",
    "<br>8,85\n",
    "<br>9,90\n",
    "<br>10,85\n",
    "<br>The program should calculate the mean, median, and mode of the test scores and display the results\n",
    "in a table."
   ]
  },
  {
   "cell_type": "code",
   "execution_count": 38,
   "id": "95b2a3d0-6618-4b9b-bcc4-7a015ea53925",
   "metadata": {},
   "outputs": [],
   "source": [
    "data = pd.DataFrame({\"Student Id\":[1,2,3,4,5,6,7,8,9,10] ,\"Test Score\":[85,90,80,75,85,82,78,85,90,85]})\n",
    "data.to_csv(\"student_data.csv\",index=False)"
   ]
  },
  {
   "cell_type": "code",
   "execution_count": 39,
   "id": "ea3c0de3-50ee-46bb-803d-31f7df0ccb3d",
   "metadata": {},
   "outputs": [
    {
     "name": "stdin",
     "output_type": "stream",
     "text": [
      "Enter the file path of the CSV file containing sales data:  student_data.csv\n"
     ]
    },
    {
     "name": "stdout",
     "output_type": "stream",
     "text": [
      "DataFrame of the CSV File\n",
      "   Student Id  Test Score\n",
      "0           1          85\n",
      "1           2          90\n",
      "2           3          80\n",
      "3           4          75\n",
      "4           5          85\n",
      "5           6          82\n",
      "6           7          78\n",
      "7           8          85\n",
      "8           9          90\n",
      "9          10          85\n",
      "+-----------+--------+\n",
      "| Statistic | Value |\n",
      "+-----------+--------+\n",
      "| Mean     | 83.5 |\n",
      "| Median   | 85.0 |\n",
      "| Mode     | 85 |\n",
      "+-----------+--------+\n"
     ]
    }
   ],
   "source": [
    "import pandas as pd\n",
    "import matplotlib.pyplot as plt\n",
    "import numpy as np\n",
    "\n",
    "def student_statistics(file_path):\n",
    "    try:\n",
    "        # Read the CSV file into a pandas DataFrame\n",
    "        df = pd.read_csv(file_path)\n",
    "        print(\"DataFrame of the CSV File\")\n",
    "        print(df)\n",
    "        meann = df['Test Score'].mean()\n",
    "        mediann = df['Test Score'].median()\n",
    "        modee = df['Test Score'].mode()[0]\n",
    "        print(\"+-----------+--------+\")\n",
    "        print(\"| Statistic | Value |\")\n",
    "        print(\"+-----------+--------+\")\n",
    "        print(f\"| Mean     | {meann} |\")\n",
    "        print(f\"| Median   | {mediann} |\")\n",
    "        print(f\"| Mode     | {modee} |\")\n",
    "        print(\"+-----------+--------+\")\n",
    "\n",
    "    \n",
    "    except Exception as e:\n",
    "        print(f\"Error: {e}\")\n",
    "\n",
    "if __name__ == \"__main__\":\n",
    "    file_path = input(\"Enter the file path of the CSV file containing sales data: \")\n",
    "    student_statistics(file_path)\n",
    "\n",
    "    "
   ]
  }
 ],
 "metadata": {
  "kernelspec": {
   "display_name": "Python 3 (ipykernel)",
   "language": "python",
   "name": "python3"
  },
  "language_info": {
   "codemirror_mode": {
    "name": "ipython",
    "version": 3
   },
   "file_extension": ".py",
   "mimetype": "text/x-python",
   "name": "python",
   "nbconvert_exporter": "python",
   "pygments_lexer": "ipython3",
   "version": "3.10.8"
  }
 },
 "nbformat": 4,
 "nbformat_minor": 5
}
