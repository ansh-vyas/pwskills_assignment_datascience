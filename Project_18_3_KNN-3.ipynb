{
 "cells": [
  {
   "cell_type": "markdown",
   "id": "9f9a8ed7",
   "metadata": {},
   "source": [
    "## Q1. Write a Python code to implement the KNN classifier algorithm on load_iris dataset in sklearn.datasets."
   ]
  },
  {
   "cell_type": "code",
   "execution_count": 1,
   "id": "6d388f58",
   "metadata": {},
   "outputs": [],
   "source": [
    "import pandas as pd\n",
    "import numpy as np\n",
    "from sklearn.datasets import load_iris\n",
    "from sklearn.model_selection import train_test_split\n",
    "from sklearn.metrics import accuracy_score\n",
    "from sklearn.neighbors import KNeighborsClassifier"
   ]
  },
  {
   "cell_type": "code",
   "execution_count": 2,
   "id": "8d53ed3f",
   "metadata": {},
   "outputs": [],
   "source": [
    "X,y = load_iris(return_X_y=True)"
   ]
  },
  {
   "cell_type": "code",
   "execution_count": 3,
   "id": "c1862c1c",
   "metadata": {},
   "outputs": [],
   "source": [
    "X_train,X_test,y_train,y_test = train_test_split(X,y,test_size=0.25,random_state=45)"
   ]
  },
  {
   "cell_type": "code",
   "execution_count": 4,
   "id": "25a8f1d6",
   "metadata": {},
   "outputs": [
    {
     "name": "stdout",
     "output_type": "stream",
     "text": [
      "Accuracy: 0.9473684210526315\n"
     ]
    }
   ],
   "source": [
    "classifier = KNeighborsClassifier()\n",
    "classifier.fit(X_train,y_train)\n",
    "y_pred = classifier.predict(X_test)\n",
    "\n",
    "print(f\"Accuracy: {accuracy_score(y_test, y_pred)}\")"
   ]
  },
  {
   "cell_type": "markdown",
   "id": "c8eef9fe",
   "metadata": {},
   "source": [
    "## Q2. Write a Python code to implement the KNN regressor algorithm on load_boston dataset in sklearn.datasets."
   ]
  },
  {
   "cell_type": "code",
   "execution_count": 5,
   "id": "6488cab5",
   "metadata": {},
   "outputs": [],
   "source": [
    "from sklearn.neighbors import KNeighborsRegressor\n",
    "# from sklearn.datasets import load_boston\n",
    "from sklearn.metrics import r2_score"
   ]
  },
  {
   "cell_type": "code",
   "execution_count": 6,
   "id": "f539e98c",
   "metadata": {},
   "outputs": [
    {
     "data": {
      "text/html": [
       "<div>\n",
       "<style scoped>\n",
       "    .dataframe tbody tr th:only-of-type {\n",
       "        vertical-align: middle;\n",
       "    }\n",
       "\n",
       "    .dataframe tbody tr th {\n",
       "        vertical-align: top;\n",
       "    }\n",
       "\n",
       "    .dataframe thead th {\n",
       "        text-align: right;\n",
       "    }\n",
       "</style>\n",
       "<table border=\"1\" class=\"dataframe\">\n",
       "  <thead>\n",
       "    <tr style=\"text-align: right;\">\n",
       "      <th></th>\n",
       "      <th>0</th>\n",
       "      <th>1</th>\n",
       "      <th>2</th>\n",
       "      <th>3</th>\n",
       "      <th>4</th>\n",
       "      <th>5</th>\n",
       "      <th>6</th>\n",
       "      <th>7</th>\n",
       "      <th>8</th>\n",
       "      <th>9</th>\n",
       "      <th>10</th>\n",
       "    </tr>\n",
       "  </thead>\n",
       "  <tbody>\n",
       "    <tr>\n",
       "      <th>0</th>\n",
       "      <td>0.00632</td>\n",
       "      <td>18.00</td>\n",
       "      <td>2.31</td>\n",
       "      <td>0.0</td>\n",
       "      <td>0.538</td>\n",
       "      <td>6.575</td>\n",
       "      <td>65.2</td>\n",
       "      <td>4.0900</td>\n",
       "      <td>1.0</td>\n",
       "      <td>296.0</td>\n",
       "      <td>15.3</td>\n",
       "    </tr>\n",
       "    <tr>\n",
       "      <th>1</th>\n",
       "      <td>396.90000</td>\n",
       "      <td>4.98</td>\n",
       "      <td>24.00</td>\n",
       "      <td>NaN</td>\n",
       "      <td>NaN</td>\n",
       "      <td>NaN</td>\n",
       "      <td>NaN</td>\n",
       "      <td>NaN</td>\n",
       "      <td>NaN</td>\n",
       "      <td>NaN</td>\n",
       "      <td>NaN</td>\n",
       "    </tr>\n",
       "    <tr>\n",
       "      <th>2</th>\n",
       "      <td>0.02731</td>\n",
       "      <td>0.00</td>\n",
       "      <td>7.07</td>\n",
       "      <td>0.0</td>\n",
       "      <td>0.469</td>\n",
       "      <td>6.421</td>\n",
       "      <td>78.9</td>\n",
       "      <td>4.9671</td>\n",
       "      <td>2.0</td>\n",
       "      <td>242.0</td>\n",
       "      <td>17.8</td>\n",
       "    </tr>\n",
       "    <tr>\n",
       "      <th>3</th>\n",
       "      <td>396.90000</td>\n",
       "      <td>9.14</td>\n",
       "      <td>21.60</td>\n",
       "      <td>NaN</td>\n",
       "      <td>NaN</td>\n",
       "      <td>NaN</td>\n",
       "      <td>NaN</td>\n",
       "      <td>NaN</td>\n",
       "      <td>NaN</td>\n",
       "      <td>NaN</td>\n",
       "      <td>NaN</td>\n",
       "    </tr>\n",
       "    <tr>\n",
       "      <th>4</th>\n",
       "      <td>0.02729</td>\n",
       "      <td>0.00</td>\n",
       "      <td>7.07</td>\n",
       "      <td>0.0</td>\n",
       "      <td>0.469</td>\n",
       "      <td>7.185</td>\n",
       "      <td>61.1</td>\n",
       "      <td>4.9671</td>\n",
       "      <td>2.0</td>\n",
       "      <td>242.0</td>\n",
       "      <td>17.8</td>\n",
       "    </tr>\n",
       "  </tbody>\n",
       "</table>\n",
       "</div>"
      ],
      "text/plain": [
       "          0      1      2    3      4      5     6       7    8      9     10\n",
       "0    0.00632  18.00   2.31  0.0  0.538  6.575  65.2  4.0900  1.0  296.0  15.3\n",
       "1  396.90000   4.98  24.00  NaN    NaN    NaN   NaN     NaN  NaN    NaN   NaN\n",
       "2    0.02731   0.00   7.07  0.0  0.469  6.421  78.9  4.9671  2.0  242.0  17.8\n",
       "3  396.90000   9.14  21.60  NaN    NaN    NaN   NaN     NaN  NaN    NaN   NaN\n",
       "4    0.02729   0.00   7.07  0.0  0.469  7.185  61.1  4.9671  2.0  242.0  17.8"
      ]
     },
     "execution_count": 6,
     "metadata": {},
     "output_type": "execute_result"
    }
   ],
   "source": [
    "#Since the load boston dataset is removed from sklearn we are using dataset url\n",
    "import pandas as pd\n",
    "import numpy as np\n",
    "data_url = \"http://lib.stat.cmu.edu/datasets/boston\"\n",
    "raw_df = pd.read_csv(data_url, sep=\"\\s+\", skiprows=22, header=None)\n",
    "data = np.hstack([raw_df.values[::2, :], raw_df.values[1::2, :2]])\n",
    "target = raw_df.values[1::2, 2]\n",
    "raw_df.head()"
   ]
  },
  {
   "cell_type": "code",
   "execution_count": 7,
   "id": "b4fb922a",
   "metadata": {},
   "outputs": [],
   "source": [
    "X_train,X_test,y_train,y_test = train_test_split(data,target,test_size=0.25,random_state=45)"
   ]
  },
  {
   "cell_type": "code",
   "execution_count": 8,
   "id": "0d46be71",
   "metadata": {},
   "outputs": [
    {
     "name": "stdout",
     "output_type": "stream",
     "text": [
      "R2 Score: 0.45995789449105906\n"
     ]
    }
   ],
   "source": [
    "regressor = KNeighborsRegressor()\n",
    "regressor.fit(X_train,y_train)\n",
    "y_pred = regressor.predict(X_test)\n",
    "\n",
    "print(f\"R2 Score: {r2_score(y_test, y_pred)}\")"
   ]
  },
  {
   "cell_type": "markdown",
   "id": "ca2e9999",
   "metadata": {},
   "source": [
    "## Q3. Write a Python code snippet to find the optimal value of K for the KNN classifier algorithm using cross-validation on load_iris dataset in sklearn.datasets."
   ]
  },
  {
   "cell_type": "code",
   "execution_count": 9,
   "id": "3a30dc5f",
   "metadata": {},
   "outputs": [
    {
     "name": "stdout",
     "output_type": "stream",
     "text": [
      "The optimal K value is 5 with a cross-validation accuracy of 0.9640316205533598\n",
      "Accuracy: 0.9473684210526315\n"
     ]
    }
   ],
   "source": [
    "import pandas as pd\n",
    "import numpy as np\n",
    "from sklearn.datasets import load_iris\n",
    "from sklearn.model_selection import train_test_split,cross_val_score\n",
    "from sklearn.metrics import accuracy_score\n",
    "from sklearn.neighbors import KNeighborsClassifier\n",
    "\n",
    "#load the iris dataset\n",
    "X,y = load_iris(return_X_y=True)\n",
    "\n",
    "#train test split\n",
    "X_train,X_test,y_train,y_test = train_test_split(X,y,test_size=0.25,random_state=45)\n",
    "\n",
    "# Create a list of K values to try\n",
    "k_values = list(range(1, 25))\n",
    "\n",
    "# Create an empty list to store cross-validation scores\n",
    "cv_scores = []\n",
    "\n",
    "# Iterate over each K value and perform cross-validation\n",
    "for k in k_values:\n",
    "    knn_classifier = KNeighborsClassifier(n_neighbors=k)\n",
    "    scores = cross_val_score(knn_classifier, X_train, y_train, cv=5, scoring='accuracy')\n",
    "    cv_scores.append(scores.mean())\n",
    "\n",
    "# Find the optimal K value with the highest cross-validation score\n",
    "optimal_k = k_values[cv_scores.index(max(cv_scores))]\n",
    "\n",
    "print(f\"The optimal K value is {optimal_k} with a cross-validation accuracy of {max(cv_scores)}\")\n",
    "\n",
    "# Finally, you can train the KNN classifier with the optimal K on the full training set and evaluate it on the test set.\n",
    "optimal_knn_classifier = KNeighborsClassifier(n_neighbors=optimal_k)\n",
    "optimal_knn_classifier.fit(X_train, y_train)\n",
    "y_pred = optimal_knn_classifier.predict(X_test)\n",
    "print(f\"Accuracy: {accuracy_score(y_test, y_pred)}\")\n"
   ]
  },
  {
   "cell_type": "markdown",
   "id": "d5315ab5",
   "metadata": {},
   "source": [
    "#### Observation :\n",
    "- With the optimal Value of k the accuracy of the model is increased from 94.73 to 96.40"
   ]
  },
  {
   "cell_type": "markdown",
   "id": "ea2fae88",
   "metadata": {},
   "source": [
    "## Q4. Implement the KNN regressor algorithm with feature scaling on load_boston dataset in sklearn.datasets."
   ]
  },
  {
   "cell_type": "code",
   "execution_count": 10,
   "id": "3e744054",
   "metadata": {},
   "outputs": [
    {
     "name": "stdout",
     "output_type": "stream",
     "text": [
      "R2 Score: 0.758193487336346\n"
     ]
    }
   ],
   "source": [
    "from sklearn.neighbors import KNeighborsRegressor\n",
    "# from sklearn.datasets import load_boston\n",
    "from sklearn.metrics import r2_score\n",
    "from sklearn.preprocessing import StandardScaler\n",
    "\n",
    "#Since the load boston dataset is removed from sklearn we are using dataset url\n",
    "import pandas as pd\n",
    "import numpy as np\n",
    "data_url = \"http://lib.stat.cmu.edu/datasets/boston\"\n",
    "raw_df = pd.read_csv(data_url, sep=\"\\s+\", skiprows=22, header=None)\n",
    "data = np.hstack([raw_df.values[::2, :], raw_df.values[1::2, :2]])\n",
    "target = raw_df.values[1::2, 2]\n",
    "\n",
    "#train test split\n",
    "X_train,X_test,y_train,y_test = train_test_split(data,target,test_size=0.25,random_state=45)\n",
    "\n",
    "#Standardization of numerical columns by using StandardScaler\n",
    "scaler = StandardScaler()\n",
    "X_train = scaler.fit_transform(X_train)\n",
    "X_test = scaler.transform(X_test)\n",
    "\n",
    "#Applying KNN regresssor\n",
    "regressor = KNeighborsRegressor()\n",
    "regressor.fit(X_train,y_train)\n",
    "y_pred = regressor.predict(X_test)\n",
    "\n",
    "#Checking the prediction r2 score of the model\n",
    "print(f\"R2 Score: {r2_score(y_test, y_pred)}\")"
   ]
  },
  {
   "cell_type": "markdown",
   "id": "4ca4bf69",
   "metadata": {},
   "source": [
    "#### Observation :\n",
    "- After Scaling the R2 increased from 45.99 to 75.81"
   ]
  },
  {
   "cell_type": "markdown",
   "id": "618a7921",
   "metadata": {},
   "source": [
    "## Q5. Write a Python code snippet to implement the KNN classifier algorithm with weighted voting on load_iris dataset in sklearn.datasets."
   ]
  },
  {
   "cell_type": "code",
   "execution_count": 11,
   "id": "0652207d",
   "metadata": {},
   "outputs": [
    {
     "name": "stdout",
     "output_type": "stream",
     "text": [
      "Accuracy: 0.95\n"
     ]
    }
   ],
   "source": [
    "import numpy as np\n",
    "import pandas as pd\n",
    "from sklearn.datasets import load_iris\n",
    "from sklearn.model_selection import train_test_split\n",
    "from sklearn.neighbors import KNeighborsClassifier\n",
    "\n",
    "X,y = load_iris(return_X_y=True)\n",
    "\n",
    "X_train,X_test,y_train,y_test = train_test_split(X,y,test_size=0.25,random_state=45)\n",
    "\n",
    "# Create a KNN classifier with weighted voting\n",
    "classifierr = KNeighborsClassifier(weights='distance')\n",
    "\n",
    "# Fit the classifier on the training data\n",
    "classifierr.fit(X_train, y_train)\n",
    "\n",
    "# Make predictions on the test data\n",
    "y_pred = classifierr.predict(X_test)\n",
    "\n",
    "# Evaluate the accuracy of the model\n",
    "accuracy = classifierr.score(X_test, y_test)\n",
    "print(f\"Accuracy: {accuracy:.2f}\")"
   ]
  },
  {
   "cell_type": "markdown",
   "id": "7baf0bbe",
   "metadata": {},
   "source": [
    "## Q6. Implement a function to standardise the features before applying KNN classifier."
   ]
  },
  {
   "cell_type": "code",
   "execution_count": 12,
   "id": "6f2bde97",
   "metadata": {},
   "outputs": [],
   "source": [
    "from sklearn.preprocessing import StandardScaler\n",
    "\n",
    "def standardize_features(X_train, X_test):\n",
    "    scaler = StandardScaler()\n",
    "    X_train_std = scaler.fit_transform(X_train)\n",
    "    X_test_std = scaler.transform(X_test)\n",
    "    return X_train_std, X_test_std"
   ]
  },
  {
   "cell_type": "code",
   "execution_count": 13,
   "id": "3df6c16c",
   "metadata": {},
   "outputs": [
    {
     "name": "stdout",
     "output_type": "stream",
     "text": [
      "Standardized Training Data:\n",
      "[[ 0.65250979 -0.34643465  0.29999603  0.12464034]\n",
      " [-1.2770241   0.08952806 -1.24810637 -1.3240097 ]\n",
      " [-0.43285303  2.48732297 -1.36278062 -1.3240097 ]\n",
      " [-0.07106542 -0.78239737  0.07064753 -0.00705511]\n",
      " [-1.15642824 -0.1284533  -1.36278062 -1.3240097 ]\n",
      " [ 1.25548913  0.08952806  0.64401879  0.38803126]\n",
      " [-1.03583237 -1.65432279 -0.27337523 -0.27044603]\n",
      " [-0.9152365   1.39741619 -1.30544349 -1.06061878]\n",
      " [ 0.65250979 -0.78239737  0.87336729  0.9148131 ]\n",
      " [ 0.17012631 -1.87230414  0.12798466 -0.27044603]\n",
      " [ 2.22025607  1.61539755  1.67608706  1.30989947]\n",
      " [-1.15642824  1.17943484 -1.36278062 -1.45570516]\n",
      " [-1.2770241  -0.1284533  -1.36278062 -1.19231424]\n",
      " [-0.31225716 -0.1284533   0.41467029  0.38803126]\n",
      " [ 0.65250979 -0.56441601  1.04537867  1.17820401]\n",
      " [-0.67404476  1.39741619 -1.30544349 -1.3240097 ]\n",
      " [ 1.01429739  0.52549077  1.1027158   1.70498585]\n",
      " [-0.9152365   1.61539755 -1.30544349 -1.19231424]\n",
      " [-1.39761997  0.30750941 -1.24810637 -1.3240097 ]\n",
      " [-0.31225716 -0.78239737  0.24265891  0.12464034]\n",
      " [-1.51821584  0.30750941 -1.36278062 -1.3240097 ]\n",
      " [-0.43285303 -1.00037872  0.35733316 -0.00705511]\n",
      " [ 0.53191392 -1.21836008  0.64401879  0.38803126]\n",
      " [ 0.17012631 -0.1284533   0.58668166  0.78311764]\n",
      " [-0.31225716 -1.21836008  0.07064753 -0.13875057]\n",
      " [ 1.25548913  0.08952806  0.75869304  1.44159493]\n",
      " [-1.39761997  0.30750941 -1.42011774 -1.3240097 ]\n",
      " [-0.9152365   0.74347212 -1.30544349 -1.3240097 ]\n",
      " [-1.63881171 -1.65432279 -1.42011774 -1.19231424]\n",
      " [-0.9152365   0.52549077 -1.19076924 -0.92892332]\n",
      " [ 0.29072218 -0.56441601  0.12798466  0.12464034]\n",
      " [-1.03583237  0.74347212 -1.30544349 -1.3240097 ]\n",
      " [ 1.376085    0.30750941  0.52934454  0.2563358 ]\n",
      " [ 2.22025607 -0.1284533   1.3320643   1.44159493]\n",
      " [-0.43285303 -1.43634143  0.0133104  -0.13875057]\n",
      " [ 0.29072218 -0.56441601  0.52934454 -0.00705511]\n",
      " [ 0.41131805 -0.34643465  0.29999603  0.12464034]\n",
      " [-1.15642824  0.08952806 -1.30544349 -1.45570516]\n",
      " [-0.5534489   0.74347212 -1.19076924 -1.3240097 ]\n",
      " [ 0.17012631 -0.78239737  0.75869304  0.51972672]\n",
      " [-0.19166129  1.61539755 -1.19076924 -1.19231424]\n",
      " [ 0.17012631 -0.34643465  0.41467029  0.38803126]\n",
      " [ 0.53191392  0.52549077  1.27472717  1.70498585]\n",
      " [ 2.22025607 -0.56441601  1.67608706  1.04650856]\n",
      " [-0.07106542 -0.56441601  0.75869304  1.57329039]\n",
      " [-0.43285303 -1.21836008  0.12798466  0.12464034]\n",
      " [-0.07106542 -0.78239737  0.18532178 -0.27044603]\n",
      " [ 1.13489326  0.30750941  1.21739005  1.44159493]\n",
      " [-0.43285303 -1.43634143 -0.04402672 -0.27044603]\n",
      " [-0.5534489   1.8333789  -1.19076924 -1.06061878]\n",
      " [-0.31225716 -0.1284533   0.18532178  0.12464034]\n",
      " [-0.19166129 -0.56441601  0.41467029  0.12464034]\n",
      " [-0.79464063 -0.78239737  0.07064753  0.2563358 ]\n",
      " [ 1.49668086 -0.1284533   1.21739005  1.17820401]\n",
      " [-0.19166129 -0.56441601  0.18532178  0.12464034]\n",
      " [ 0.04953045  0.30750941  0.58668166  0.78311764]\n",
      " [ 1.7378726  -0.34643465  1.44673855  0.78311764]\n",
      " [-1.03583237 -2.30826686 -0.15870097 -0.27044603]\n",
      " [ 0.89370152 -0.34643465  0.47200741  0.12464034]\n",
      " [ 0.04953045 -0.1284533   0.75869304  0.78311764]\n",
      " [ 0.29072218 -0.1284533   0.64401879  0.78311764]\n",
      " [ 0.77310566 -0.1284533   0.81603017  1.04650856]\n",
      " [-0.79464063  0.96145348 -1.30544349 -1.3240097 ]\n",
      " [-1.51821584  1.17943484 -1.59212912 -1.3240097 ]\n",
      " [-0.9152365  -1.21836008 -0.4453866  -0.13875057]\n",
      " [ 1.61727673  1.17943484  1.3320643   1.70498585]\n",
      " [ 0.53191392 -1.21836008  0.70135592  0.9148131 ]\n",
      " [ 0.29072218 -1.00037872  1.04537867  0.2563358 ]\n",
      " [-0.5534489   1.8333789  -1.42011774 -1.06061878]\n",
      " [ 0.77310566 -0.56441601  0.47200741  0.38803126]\n",
      " [ 0.77310566 -0.1284533   0.98804154  0.78311764]\n",
      " [ 0.29072218 -0.34643465  0.52934454  0.2563358 ]\n",
      " [ 0.89370152 -0.1284533   0.35733316  0.2563358 ]\n",
      " [ 1.01429739 -0.1284533   0.70135592  0.65142218]\n",
      " [-1.03583237  0.52549077 -1.36278062 -1.3240097 ]\n",
      " [ 0.53191392  0.74347212  1.04537867  1.57329039]\n",
      " [ 0.77310566 -0.1284533   1.16005292  1.30989947]\n",
      " [-1.2770241   0.74347212 -1.24810637 -1.3240097 ]\n",
      " [-1.75940758  0.30750941 -1.42011774 -1.3240097 ]\n",
      " [ 1.01429739 -1.21836008  1.16005292  0.78311764]\n",
      " [-1.51821584  0.74347212 -1.36278062 -1.19231424]\n",
      " [ 0.65250979 -0.56441601  1.04537867  1.30989947]\n",
      " [-0.19166129 -1.00037872 -0.15870097 -0.27044603]\n",
      " [ 0.04953045 -0.1284533   0.24265891  0.38803126]\n",
      " [ 1.25548913  0.08952806  0.93070442  1.17820401]\n",
      " [ 1.85846847 -0.56441601  1.3320643   0.9148131 ]\n",
      " [ 1.01429739  0.08952806  0.52934454  0.38803126]\n",
      " [-0.5534489   0.74347212 -1.30544349 -1.06061878]\n",
      " [-0.43285303  0.96145348 -1.42011774 -1.3240097 ]\n",
      " [-1.15642824 -1.21836008  0.41467029  0.65142218]\n",
      " [-0.07106542  2.05136026 -1.47745487 -1.3240097 ]\n",
      " [ 0.53191392  0.52549077  0.52934454  0.51972672]\n",
      " [ 0.41131805 -0.56441601  0.58668166  0.78311764]\n",
      " [ 0.77310566  0.30750941  0.75869304  1.04650856]\n",
      " [-0.9152365   0.96145348 -1.36278062 -1.19231424]\n",
      " [-1.2770241  -0.1284533  -1.36278062 -1.45570516]\n",
      " [-1.2770241   0.74347212 -1.07609499 -1.3240097 ]\n",
      " [ 0.41131805  0.74347212  0.93070442  1.44159493]\n",
      " [-1.75940758 -0.34643465 -1.36278062 -1.3240097 ]\n",
      " [-0.9152365   1.61539755 -1.24810637 -1.3240097 ]\n",
      " [ 2.22025607 -1.00037872  1.79076131  1.44159493]\n",
      " [-1.15642824 -1.43634143 -0.27337523 -0.27044603]\n",
      " [-0.43285303 -1.65432279  0.12798466  0.12464034]\n",
      " [ 1.01429739  0.08952806  0.35733316  0.2563358 ]\n",
      " [-0.19166129  2.92328568 -1.30544349 -1.06061878]\n",
      " [ 1.25548913  0.30750941  1.1027158   1.44159493]\n",
      " [-0.31225716 -0.56441601  0.64401879  1.04650856]\n",
      " [ 0.41131805 -1.87230414  0.41467029  0.38803126]\n",
      " [-0.19166129 -0.1284533   0.24265891 -0.00705511]\n",
      " [-0.79464063  2.26934161 -1.30544349 -1.45570516]\n",
      " [ 1.01429739  0.52549077  1.1027158   1.17820401]\n",
      " [ 2.46144781  1.61539755  1.50407568  1.04650856]]\n",
      "Standardized Testing Data:\n",
      "[[-0.9152365   0.96145348 -1.36278062 -1.3240097 ]\n",
      " [-1.03583237  0.96145348 -1.24810637 -0.79722787]\n",
      " [ 1.61727673 -0.1284533   1.16005292  0.51972672]\n",
      " [-1.51821584  0.08952806 -1.30544349 -1.3240097 ]\n",
      " [-1.15642824  0.08952806 -1.30544349 -1.3240097 ]\n",
      " [-0.9152365   1.61539755 -1.07609499 -1.06061878]\n",
      " [-1.75940758 -0.1284533  -1.42011774 -1.3240097 ]\n",
      " [ 2.09966021 -0.1284533   1.61874993  1.17820401]\n",
      " [ 0.53191392 -0.78239737  0.64401879  0.78311764]\n",
      " [ 1.01429739  0.08952806  1.04537867  1.57329039]\n",
      " [-0.79464063  0.74347212 -1.36278062 -1.3240097 ]\n",
      " [ 1.61727673  0.30750941  1.27472717  0.78311764]\n",
      " [-0.19166129 -1.21836008  0.70135592  1.04650856]\n",
      " [ 0.53191392 -0.34643465  1.04537867  0.78311764]\n",
      " [ 0.53191392 -0.56441601  0.75869304  0.38803126]\n",
      " [-1.03583237  0.30750941 -1.47745487 -1.3240097 ]\n",
      " [ 1.01429739 -0.1284533   0.81603017  1.44159493]\n",
      " [-0.07106542 -0.78239737  0.75869304  0.9148131 ]\n",
      " [-1.03583237  0.96145348 -1.42011774 -1.19231424]\n",
      " [ 0.53191392 -1.65432279  0.35733316  0.12464034]\n",
      " [-0.5534489  -0.1284533   0.41467029  0.38803126]\n",
      " [ 0.17012631  0.74347212  0.41467029  0.51972672]\n",
      " [ 0.65250979  0.30750941  0.87336729  1.44159493]\n",
      " [ 0.65250979  0.30750941  0.41467029  0.38803126]\n",
      " [-1.03583237  1.17943484 -1.36278062 -1.3240097 ]\n",
      " [ 1.13489326 -0.1284533   0.98804154  1.17820401]\n",
      " [-0.07106542 -1.00037872  0.12798466 -0.00705511]\n",
      " [-0.31225716 -0.34643465 -0.10136385  0.12464034]\n",
      " [-0.5534489   1.39741619 -1.30544349 -1.3240097 ]\n",
      " [ 0.29072218 -0.1284533   0.47200741  0.2563358 ]\n",
      " [ 1.13489326 -0.56441601  0.58668166  0.2563358 ]\n",
      " [-0.19166129 -0.34643465  0.24265891  0.12464034]\n",
      " [ 0.17012631 -1.87230414  0.70135592  0.38803126]\n",
      " [-0.07106542 -0.78239737  0.75869304  0.9148131 ]\n",
      " [-1.03583237 -0.1284533  -1.24810637 -1.3240097 ]\n",
      " [ 0.65250979  0.08952806  0.98804154  0.78311764]\n",
      " [-1.88000345 -0.1284533  -1.534792   -1.45570516]\n",
      " [-1.03583237  0.74347212 -1.24810637 -1.06061878]]\n"
     ]
    }
   ],
   "source": [
    "X_train_std, X_test_std = standardize_features(X_train, X_test)\n",
    "print(\"Standardized Training Data:\")\n",
    "print(X_train_std)\n",
    "print(\"Standardized Testing Data:\")\n",
    "print(X_test_std)"
   ]
  },
  {
   "cell_type": "markdown",
   "id": "b93b690e",
   "metadata": {},
   "source": [
    "## Q7. Write a Python function to calculate the euclidean distance between two points."
   ]
  },
  {
   "cell_type": "code",
   "execution_count": 14,
   "id": "586a7669",
   "metadata": {},
   "outputs": [],
   "source": [
    "def euclidean_distance(x,y):\n",
    "    x1,x2=x\n",
    "    y1,y2=y\n",
    "    dist = np.sqrt((x2-x1)**2 +(y2-y1)**2)\n",
    "    return dist"
   ]
  },
  {
   "cell_type": "code",
   "execution_count": 15,
   "id": "081f94f5",
   "metadata": {},
   "outputs": [
    {
     "name": "stdout",
     "output_type": "stream",
     "text": [
      "Euclidean Distance: 2.24\n"
     ]
    }
   ],
   "source": [
    "point1 = (1, 2)\n",
    "point2 = (4, 6)\n",
    "distance = euclidean_distance(point1, point2)\n",
    "print(f\"Euclidean Distance: {distance:.2f}\")"
   ]
  },
  {
   "cell_type": "markdown",
   "id": "9cd50539",
   "metadata": {},
   "source": [
    "## Q8. Write a Python function to calculate the manhattan distance between two points."
   ]
  },
  {
   "cell_type": "code",
   "execution_count": 16,
   "id": "bbd5d963",
   "metadata": {},
   "outputs": [],
   "source": [
    "def manhattan_distance(x,y):\n",
    "    x1,x2=x\n",
    "    y1,y2=y\n",
    "    dist = np.abs(x2-x1) + np.abs(y2-y1)\n",
    "    return dist"
   ]
  },
  {
   "cell_type": "code",
   "execution_count": 17,
   "id": "80a62efd",
   "metadata": {},
   "outputs": [
    {
     "name": "stdout",
     "output_type": "stream",
     "text": [
      "Manhattan Distance: 3.00\n"
     ]
    }
   ],
   "source": [
    "point1 = (1, 2)\n",
    "point2 = (4, 6)\n",
    "distance = manhattan_distance(point1, point2)\n",
    "print(f\"Manhattan Distance: {distance:.2f}\")"
   ]
  }
 ],
 "metadata": {
  "kernelspec": {
   "display_name": "Python 3 (ipykernel)",
   "language": "python",
   "name": "python3"
  },
  "language_info": {
   "codemirror_mode": {
    "name": "ipython",
    "version": 3
   },
   "file_extension": ".py",
   "mimetype": "text/x-python",
   "name": "python",
   "nbconvert_exporter": "python",
   "pygments_lexer": "ipython3",
   "version": "3.10.9"
  }
 },
 "nbformat": 4,
 "nbformat_minor": 5
}
