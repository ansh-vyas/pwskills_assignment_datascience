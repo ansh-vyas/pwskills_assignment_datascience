{
 "cells": [
  {
   "cell_type": "markdown",
   "id": "a37e23c1-eb5d-4925-85ff-83c550b4f163",
   "metadata": {},
   "source": [
    "Q1.Create one variable containing following type of data : \n",
    "(i) string\n",
    "(ii) list\n",
    "(iii) float\n",
    "(iv) tuple"
   ]
  },
  {
   "cell_type": "code",
   "execution_count": 113,
   "id": "3b82d370-de2f-4af9-91dc-e210967dff7d",
   "metadata": {},
   "outputs": [],
   "source": [
    "a = \"Rachit\"\n",
    "b = [12,45,\"Dani\",True,\"abc\"]\n",
    "c = 15.89\n",
    "d = (20 , \"jam\" , 34+4j , [12,45,56] )"
   ]
  },
  {
   "cell_type": "code",
   "execution_count": 114,
   "id": "91310b7f-7f25-41db-b4d0-c78c180a7999",
   "metadata": {},
   "outputs": [
    {
     "data": {
      "text/plain": [
       "str"
      ]
     },
     "execution_count": 114,
     "metadata": {},
     "output_type": "execute_result"
    }
   ],
   "source": [
    "type(a)"
   ]
  },
  {
   "cell_type": "code",
   "execution_count": 115,
   "id": "d4f66487-fd74-42d8-9d02-38b7f22aaf6a",
   "metadata": {},
   "outputs": [
    {
     "data": {
      "text/plain": [
       "list"
      ]
     },
     "execution_count": 115,
     "metadata": {},
     "output_type": "execute_result"
    }
   ],
   "source": [
    "type(b)"
   ]
  },
  {
   "cell_type": "code",
   "execution_count": 116,
   "id": "86f6ec9f-1d37-4847-9efe-f0a5f2ba2679",
   "metadata": {},
   "outputs": [
    {
     "data": {
      "text/plain": [
       "float"
      ]
     },
     "execution_count": 116,
     "metadata": {},
     "output_type": "execute_result"
    }
   ],
   "source": [
    "type(c)"
   ]
  },
  {
   "cell_type": "code",
   "execution_count": 117,
   "id": "60492741-80c6-4a2f-a49e-93081d28663b",
   "metadata": {},
   "outputs": [
    {
     "data": {
      "text/plain": [
       "tuple"
      ]
     },
     "execution_count": 117,
     "metadata": {},
     "output_type": "execute_result"
    }
   ],
   "source": [
    "type(d)"
   ]
  },
  {
   "cell_type": "markdown",
   "id": "60b99de9-80d7-434d-939a-4cf8db20a572",
   "metadata": {},
   "source": [
    "Q2.Given are some following variables containing data:\n",
    "(i) var1 = ‘ ‘\n",
    "(ii) var2 = ‘[ DS , ML , Python]’\n",
    "(iii) var3 = [ ‘DS’ , ’ML’ , ‘Python’ ]\n",
    "(iv) var4 = 1.\n",
    "What will be the data type of the above given variable."
   ]
  },
  {
   "cell_type": "code",
   "execution_count": 118,
   "id": "77f1fd80-c35f-4941-b2b4-5f99c574a704",
   "metadata": {},
   "outputs": [],
   "source": [
    "var1 = ' '\n",
    "var2 = '[ DS , ML , Python]'\n",
    "var3 = [ 'DS' , 'ML' , 'Python' ]\n",
    "var4 = 1."
   ]
  },
  {
   "cell_type": "code",
   "execution_count": 119,
   "id": "84440656-fc1a-4c67-99bf-4b29b5d40e1b",
   "metadata": {},
   "outputs": [
    {
     "data": {
      "text/plain": [
       "str"
      ]
     },
     "execution_count": 119,
     "metadata": {},
     "output_type": "execute_result"
    }
   ],
   "source": [
    "type(var1)"
   ]
  },
  {
   "cell_type": "code",
   "execution_count": 120,
   "id": "8dd300c9-0577-49a1-a54a-a0fb7604da5c",
   "metadata": {},
   "outputs": [
    {
     "data": {
      "text/plain": [
       "str"
      ]
     },
     "execution_count": 120,
     "metadata": {},
     "output_type": "execute_result"
    }
   ],
   "source": [
    "type(var2)"
   ]
  },
  {
   "cell_type": "code",
   "execution_count": 121,
   "id": "bdbadd0b-9e44-4674-914f-da4660590e75",
   "metadata": {},
   "outputs": [
    {
     "data": {
      "text/plain": [
       "list"
      ]
     },
     "execution_count": 121,
     "metadata": {},
     "output_type": "execute_result"
    }
   ],
   "source": [
    "type(var3)"
   ]
  },
  {
   "cell_type": "code",
   "execution_count": 122,
   "id": "9ca03e87-8a71-4a56-b9c7-be573d094d9f",
   "metadata": {},
   "outputs": [
    {
     "data": {
      "text/plain": [
       "float"
      ]
     },
     "execution_count": 122,
     "metadata": {},
     "output_type": "execute_result"
    }
   ],
   "source": [
    "type(var4)"
   ]
  },
  {
   "cell_type": "markdown",
   "id": "3e6f86f6-6367-43f7-b559-33ecd60ca155",
   "metadata": {},
   "source": [
    "Q3.Explain the use of the following operators using an example:\n",
    "(i) /\n",
    "(ii) %\n",
    "(iii) //\n",
    "(iv) **"
   ]
  },
  {
   "cell_type": "code",
   "execution_count": 123,
   "id": "d1b09708-e028-4ba4-900a-c75c7b3cf380",
   "metadata": {},
   "outputs": [
    {
     "data": {
      "text/plain": [
       "17.5"
      ]
     },
     "execution_count": 123,
     "metadata": {},
     "output_type": "execute_result"
    }
   ],
   "source": [
    "# / is the division operator\n",
    "35 / 2"
   ]
  },
  {
   "cell_type": "code",
   "execution_count": 124,
   "id": "f2277738-9a1e-490b-beb5-e16242a22987",
   "metadata": {},
   "outputs": [
    {
     "data": {
      "text/plain": [
       "1"
      ]
     },
     "execution_count": 124,
     "metadata": {},
     "output_type": "execute_result"
    }
   ],
   "source": [
    "# % is the modulus operator tell us the remainder of the division\n",
    "35 % 2"
   ]
  },
  {
   "cell_type": "code",
   "execution_count": 125,
   "id": "3c49f3da-aadb-494a-923f-4e701e8e4cb9",
   "metadata": {},
   "outputs": [
    {
     "data": {
      "text/plain": [
       "17"
      ]
     },
     "execution_count": 125,
     "metadata": {},
     "output_type": "execute_result"
    }
   ],
   "source": [
    "# // is the floor division returns the floor value after division\n",
    "35 // 2"
   ]
  },
  {
   "cell_type": "code",
   "execution_count": 126,
   "id": "90f12de8-ae73-45fd-8243-7e2618218646",
   "metadata": {},
   "outputs": [
    {
     "data": {
      "text/plain": [
       "8"
      ]
     },
     "execution_count": 126,
     "metadata": {},
     "output_type": "execute_result"
    }
   ],
   "source": [
    "# ** is the power operator \n",
    "2 **3"
   ]
  },
  {
   "cell_type": "markdown",
   "id": "cb22e54f-8876-4eb7-8a42-d94dcad9f86f",
   "metadata": {},
   "source": [
    "Q4. Create a list of length 10 of your choice containing multiple types of data. Using for loop print the\n",
    "element and its data type."
   ]
  },
  {
   "cell_type": "code",
   "execution_count": 127,
   "id": "1c36d7a4-34e1-4245-af4c-28a690d3fd0a",
   "metadata": {},
   "outputs": [],
   "source": [
    "l = [12,47,\"apple\",\"banana\",638,92,12,\"gems\",63,\"maggi\"]"
   ]
  },
  {
   "cell_type": "code",
   "execution_count": 128,
   "id": "8bbdd34f-30fe-4107-ad21-477defbe11d0",
   "metadata": {},
   "outputs": [
    {
     "data": {
      "text/plain": [
       "10"
      ]
     },
     "execution_count": 128,
     "metadata": {},
     "output_type": "execute_result"
    }
   ],
   "source": [
    "len(l)"
   ]
  },
  {
   "cell_type": "code",
   "execution_count": 129,
   "id": "c4b8a4ff-f315-445e-831f-192ae5b067a9",
   "metadata": {},
   "outputs": [
    {
     "name": "stdout",
     "output_type": "stream",
     "text": [
      "Element :  12 \n",
      "Data Type : <class 'int'>\n",
      "Element :  47 \n",
      "Data Type : <class 'int'>\n",
      "Element :  apple \n",
      "Data Type : <class 'str'>\n",
      "Element :  banana \n",
      "Data Type : <class 'str'>\n",
      "Element :  638 \n",
      "Data Type : <class 'int'>\n",
      "Element :  92 \n",
      "Data Type : <class 'int'>\n",
      "Element :  12 \n",
      "Data Type : <class 'int'>\n",
      "Element :  gems \n",
      "Data Type : <class 'str'>\n",
      "Element :  63 \n",
      "Data Type : <class 'int'>\n",
      "Element :  maggi \n",
      "Data Type : <class 'str'>\n",
      "Sucessfuly iterated across all the elements\n"
     ]
    }
   ],
   "source": [
    "for i in l:\n",
    "    print(\"Element : \",i,\"\\nData Type :\",type(i))\n",
    "    \n",
    "else:\n",
    "    print(\"Sucessfuly iterated across all the elements\")"
   ]
  },
  {
   "cell_type": "markdown",
   "id": "32631424-8891-4fb9-b7f0-5244ea9f7716",
   "metadata": {},
   "source": [
    "Q5. Using a while loop, verify if the number A is purely divisible by number B and if so then how many\n",
    "times it can be divisible."
   ]
  },
  {
   "cell_type": "code",
   "execution_count": 130,
   "id": "f1c058c4-3270-4f5a-9859-a36eabb2b33b",
   "metadata": {},
   "outputs": [
    {
     "name": "stdout",
     "output_type": "stream",
     "text": [
      "10  is purely divisible by  2  and is divisible  5  times\n"
     ]
    }
   ],
   "source": [
    "a=10\n",
    "b=2\n",
    "\n",
    "\n",
    "while a%b==0 :\n",
    "    print(a,\" is purely divisible by \" , b ,\" and is divisible \" ,int((a/b)), \" times\")\n",
    "    break\n",
    "    \n",
    "else:\n",
    "    print(a ,\"is not purely divisible by \" ,b)"
   ]
  },
  {
   "cell_type": "markdown",
   "id": "a0e04a19-e6f6-4350-8acb-2af6058c00b3",
   "metadata": {},
   "source": [
    "Q6. Create a list containing 25 int type data. Using for loop and if-else condition print if the element is\n",
    "divisible by 3 or not."
   ]
  },
  {
   "cell_type": "code",
   "execution_count": 131,
   "id": "3722d507-4874-4052-b518-66ead897f018",
   "metadata": {},
   "outputs": [
    {
     "name": "stdout",
     "output_type": "stream",
     "text": [
      "1 is not divisible by 3\n",
      "2 is not divisible by 3\n",
      "3 is divisible by 3\n",
      "4 is not divisible by 3\n",
      "5 is not divisible by 3\n",
      "6 is divisible by 3\n",
      "7 is not divisible by 3\n",
      "8 is not divisible by 3\n",
      "9 is divisible by 3\n",
      "10 is not divisible by 3\n",
      "11 is not divisible by 3\n",
      "12 is divisible by 3\n",
      "13 is not divisible by 3\n",
      "14 is not divisible by 3\n",
      "15 is divisible by 3\n",
      "16 is not divisible by 3\n",
      "17 is not divisible by 3\n",
      "18 is divisible by 3\n",
      "19 is not divisible by 3\n",
      "20 is not divisible by 3\n",
      "21 is divisible by 3\n",
      "22 is not divisible by 3\n",
      "23 is not divisible by 3\n",
      "24 is divisible by 3\n",
      "25 is not divisible by 3\n"
     ]
    }
   ],
   "source": [
    "for i in range(1,26) :\n",
    "    if (i%3 == 0):\n",
    "        print(f\"{i} is divisible by 3\")\n",
    "    else : \n",
    "        print(f\"{i} is not divisible by 3\")"
   ]
  },
  {
   "cell_type": "markdown",
   "id": "5342714e-69ab-40d5-b92c-68c390753460",
   "metadata": {},
   "source": [
    "Q7. What do you understand about mutable and immutable data types? Give examples for both showing\n",
    "this property."
   ]
  },
  {
   "cell_type": "markdown",
   "id": "02b4a990-07e6-4db1-b173-673a5cf3d7a7",
   "metadata": {},
   "source": [
    "Mutable objects can be modified after its created whereas immutable objects cannot be modified once created."
   ]
  },
  {
   "cell_type": "code",
   "execution_count": 132,
   "id": "dfd0de9d-c619-4586-8683-6860c0d64b1b",
   "metadata": {},
   "outputs": [],
   "source": [
    "name = \"Rachit\""
   ]
  },
  {
   "cell_type": "code",
   "execution_count": 133,
   "id": "fa549de8-9ecb-4b69-b072-143bdcbf5e0c",
   "metadata": {},
   "outputs": [],
   "source": [
    "list = [12,\"apple\",\"kiwi\",\"mango\",10]"
   ]
  },
  {
   "cell_type": "code",
   "execution_count": 134,
   "id": "3f14e23e-d95c-4f3a-8c36-938e4caf2598",
   "metadata": {},
   "outputs": [
    {
     "data": {
      "text/plain": [
       "'c'"
      ]
     },
     "execution_count": 134,
     "metadata": {},
     "output_type": "execute_result"
    }
   ],
   "source": [
    "name[2]"
   ]
  },
  {
   "cell_type": "code",
   "execution_count": 135,
   "id": "27faff9d-4321-46e8-b07b-a59595439278",
   "metadata": {},
   "outputs": [
    {
     "data": {
      "text/plain": [
       "12"
      ]
     },
     "execution_count": 135,
     "metadata": {},
     "output_type": "execute_result"
    }
   ],
   "source": [
    "list[0]"
   ]
  },
  {
   "cell_type": "code",
   "execution_count": 136,
   "id": "548e5dc7-71b4-411e-b529-c9f3096e0589",
   "metadata": {},
   "outputs": [],
   "source": [
    "list[0] =\"pear\" #lists are mutubale objects"
   ]
  },
  {
   "cell_type": "code",
   "execution_count": 137,
   "id": "76dab2a9-c83f-4057-9f99-9a25c62f9031",
   "metadata": {},
   "outputs": [
    {
     "data": {
      "text/plain": [
       "['pear', 'apple', 'kiwi', 'mango', 10]"
      ]
     },
     "execution_count": 137,
     "metadata": {},
     "output_type": "execute_result"
    }
   ],
   "source": [
    "list"
   ]
  },
  {
   "cell_type": "code",
   "execution_count": 139,
   "id": "50aa2326-b6ab-4fae-b363-09c3087defc1",
   "metadata": {},
   "outputs": [
    {
     "ename": "TypeError",
     "evalue": "'str' object does not support item assignment",
     "output_type": "error",
     "traceback": [
      "\u001b[0;31m---------------------------------------------------------------------------\u001b[0m",
      "\u001b[0;31mTypeError\u001b[0m                                 Traceback (most recent call last)",
      "Cell \u001b[0;32mIn[139], line 1\u001b[0m\n\u001b[0;32m----> 1\u001b[0m \u001b[43mname\u001b[49m\u001b[43m[\u001b[49m\u001b[38;5;241;43m2\u001b[39;49m\u001b[43m]\u001b[49m\u001b[38;5;241m=\u001b[39m\u001b[38;5;124m'\u001b[39m\u001b[38;5;124mn\u001b[39m\u001b[38;5;124m'\u001b[39m \u001b[38;5;66;03m#strings are immutable objects thats why there is error when we try to chnage the index value however we can modify value by using string functions\u001b[39;00m\n",
      "\u001b[0;31mTypeError\u001b[0m: 'str' object does not support item assignment"
     ]
    }
   ],
   "source": [
    "name[2]='n' #strings are immutable objects thats why there is error when we try to chnage the index value however we can modify value by using string functions"
   ]
  }
 ],
 "metadata": {
  "kernelspec": {
   "display_name": "Python 3 (ipykernel)",
   "language": "python",
   "name": "python3"
  },
  "language_info": {
   "codemirror_mode": {
    "name": "ipython",
    "version": 3
   },
   "file_extension": ".py",
   "mimetype": "text/x-python",
   "name": "python",
   "nbconvert_exporter": "python",
   "pygments_lexer": "ipython3",
   "version": "3.10.8"
  }
 },
 "nbformat": 4,
 "nbformat_minor": 5
}
