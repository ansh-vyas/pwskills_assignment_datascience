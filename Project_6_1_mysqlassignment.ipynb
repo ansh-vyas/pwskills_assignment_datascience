{
 "cells": [
  {
   "cell_type": "markdown",
   "id": "c6bf8014-697a-4bb9-827c-60c70e16d301",
   "metadata": {},
   "source": [
    "## Q1. What is a database? Differentiate between SQL and NoSQL databases."
   ]
  },
  {
   "cell_type": "markdown",
   "id": "d96870f3-c27e-45d4-8569-fa367d0ed48f",
   "metadata": {},
   "source": [
    "A database is a structured collection of data organized and stored in a way that allows for efficient retrieval, manipulation, and management of the data. It serves as a central repository for storing and managing large amounts of information in a structured format.\n",
    "\n",
    "SQL (Structured Query Language) and NoSQL (Not only SQL) are two different types of database management systems that differ in their data models, query languages, and underlying design principles.\n",
    "\n",
    "SQL Databases:\n",
    "1. Data Model: SQL databases follow a relational data model, where data is organized into tables with predefined schemas. Tables consist of rows (records) and columns (fields), and relationships between tables are established using keys.\n",
    "2. Query Language: SQL databases use SQL as the standardized query language for performing operations such as data insertion, retrieval, modification, and deletion. SQL provides a declarative approach to querying data, allowing users to specify what data they want to retrieve without specifying how to retrieve it.\n",
    "3. Schema: SQL databases have a rigid, predefined schema that defines the structure of the data. Changes to the schema often require careful planning and potentially impact the existing data.\n",
    "4. Scalability: SQL databases typically scale vertically by increasing hardware resources like CPU, RAM, or storage capacity. They are well-suited for complex queries and transactions with ACID (Atomicity, Consistency, Isolation, Durability) properties, making them suitable for applications with complex relationships and structured data.\n",
    "\n",
    "NoSQL Databases:\n",
    "1. Data Model: NoSQL databases employ various data models, such as key-value, document, columnar, and graph. These models provide flexibility in storing unstructured and semi-structured data.\n",
    "2. Query Language: NoSQL databases use different query languages, which can be specific to each database or based on JSON-like syntax. Some NoSQL databases offer SQL-like query interfaces as well.\n",
    "3. Schema: NoSQL databases are schema-less or have flexible schemas, allowing for dynamic changes to the structure of the data without impacting existing records. This flexibility enables agile development and easier handling of evolving data requirements.\n",
    "4. Scalability: NoSQL databases are designed to scale horizontally by adding more servers to the database cluster. They excel at handling large-scale data with high read/write throughput and are often used in distributed environments.\n",
    "\n",
    "The choice between SQL and NoSQL databases depends on the specific requirements of an application. SQL databases are generally suitable for applications with structured data and complex relationships, while NoSQL databases are more appropriate for handling unstructured or semi-structured data, massive scalability, and high-performance requirements."
   ]
  },
  {
   "cell_type": "markdown",
   "id": "b5ea115f-1714-44e4-8f7d-f74e137c38ac",
   "metadata": {},
   "source": [
    "## Q2. What is DDL? Explain why CREATE, DROP, ALTER, and TRUNCATE are used with an example."
   ]
  },
  {
   "cell_type": "markdown",
   "id": "9b176577-a940-422c-a6c5-25f88ad740e7",
   "metadata": {},
   "source": [
    "DDL stands for Data Definition Language. It is a subset of SQL (Structured Query Language) used to define and manage the structure of a database. DDL statements are responsible for creating, modifying, and deleting database objects such as tables, indexes, views, and constraints.\n",
    "\n",
    "CREATE: The CREATE statement is used to create new database objects.\n",
    "<br>For Example:\n",
    "\n",
    "CREATE TABLE Employees\n",
    "    (\n",
    "    EmployeeID INT,\n",
    "    Name VARCHAR(50),\n",
    "    Department VARCHAR(50)\n",
    "    );\n",
    "\n",
    "DROP: The DROP statement is used to remove existing database objects. It permanently deletes the specified object and all its associated data.\n",
    "<br>For Example:<br>\n",
    "DROP TABLE Employees;\n",
    "\n",
    "\n",
    "ALTER: The ALTER statement is used to modify the structure of existing database objects. It allows you to add, modify, or delete columns, constraints, and other attributes. \n",
    "<br>For Example:<br>\n",
    "ALTER TABLE Employees\n",
    "ADD Salary DECIMAL(10,2);\n",
    "\n",
    "\n",
    "TRUNCATE: The TRUNCATE statement is used to remove all data from a table while keeping its structure intact. Unlike the DROP statement, TRUNCATE allows you to retain the table itself. It is commonly used when you want to delete all rows in a table efficiently. \n",
    "<br>For Example:<br>\n",
    "TRUNCATE TABLE Employees;\n",
    "\n",
    "<br>These DDL statements provide essential functionality for managing the structure of a database, allowing you to create, modify, and delete tables and other database objects as needed.\n",
    "\n"
   ]
  },
  {
   "cell_type": "markdown",
   "id": "6dffcd5c-e648-4027-bba8-861e16f397cd",
   "metadata": {},
   "source": [
    "## Q3. What is DML? Explain INSERT, UPDATE, and DELETE with an example."
   ]
  },
  {
   "cell_type": "markdown",
   "id": "b7943211-1000-4746-ac3f-b1ca1c073e46",
   "metadata": {},
   "source": [
    "DML stands for Data Manipulation Language. It is a subset of SQL (Structured Query Language) used to manipulate and manage data within a database. DML statements are responsible for performing actions such as inserting, updating, and deleting data in database tables.\n",
    "\n",
    "INSERT: The INSERT statement is used to add new data into a table. It allows you to specify the columns and values to be inserted.<br>For Example:<br>\n",
    "INSERT INTO Employees (EmployeeID, Name, Department)\n",
    "VALUES (1, 'Rachit', 'Student');\n",
    "\n",
    "\n",
    "UPDATE: The UPDATE statement is used to modify existing data in a table. It allows you to change the values of specific columns based on certain conditions. \n",
    "<br>For Example:<br>\n",
    "UPDATE Employees\n",
    "SET Department = 'Coding'\n",
    "WHERE EmployeeID = 1;\n",
    "\n",
    "\n",
    "DELETE: The DELETE statement is used to remove one or more rows from a table. It allows you to specify conditions to identify the rows to be deleted.\n",
    "<br>For Example:<br>\n",
    "DELETE FROM Employees\n",
    "WHERE Department = 'Finance';\n"
   ]
  },
  {
   "cell_type": "markdown",
   "id": "0fd86a5b-1ea2-4e68-a7bb-0727f522ad45",
   "metadata": {},
   "source": [
    "## Q4. What is DQL? Explain SELECT with an example."
   ]
  },
  {
   "cell_type": "markdown",
   "id": "8b6c470f-999f-482e-b05a-7d830a1999a2",
   "metadata": {},
   "source": [
    "DQL stands for Data Query Language. It is a subset of SQL (Structured Query Language) used to retrieve and query data from a database. DQL statements primarily consist of the SELECT statement, which is used to specify the data to be retrieved and the conditions for filtering the data.\n",
    "\n",
    "SELECT: The SELECT statement is used to retrieve data from one or more tables in a database. It allows you to specify the columns to be retrieved, the tables from which to retrieve the data, and optional conditions for filtering the data.\n",
    "\n",
    "Example:\n",
    "<br>\n",
    "SELECT Name,Department FROM Employees WHERE Department = 'Student' AND EmployeeID > 5;\n",
    "\n",
    "The SELECT clause specifies the column \"Name\" and \"Department\" to be retrieved from the table.\n",
    "The FROM clause specifies the table \"Employees\" from which to retrieve the data.\n",
    "The WHERE clause specifies the conditions for filtering the data. Only rows where the department is 'Student' and the EmployeeId is greater than 5 will be selected.\n"
   ]
  },
  {
   "cell_type": "markdown",
   "id": "614bdb4a-4b1c-423a-9a77-d1d6e94beed6",
   "metadata": {},
   "source": [
    "## Q5. Explain Primary Key and Foreign Key."
   ]
  },
  {
   "cell_type": "markdown",
   "id": "aa219164-5c14-4bed-8317-449513a38bd4",
   "metadata": {},
   "source": [
    "Primary Key:\n",
    "A primary key is a column or a set of columns in a database table that uniquely identifies each record (row) in the table. It serves as a unique identifier for a specific record and ensures the integrity and uniqueness of the data within the table. Here are some key characteristics of a primary key:\n",
    "\n",
    "1. Uniqueness: Each value in the primary key column(s) must be unique. No two records in the table can have the same primary key value.\n",
    "2. Non-nullability: A primary key column cannot have a null (empty) value. It must always contain a valid value.\n",
    "3. Irreducibility: The primary key should be minimal and irreducible, meaning it should consist of the fewest possible columns required to uniquely identify a record.\n",
    "\n",
    "A primary key can be composed of a single column or a combination of multiple columns (composite primary key) if a single column is not sufficient to ensure uniqueness. Primary keys are commonly used in database design to establish relationships with other tables using foreign keys.\n",
    "\n",
    "Foreign Key:\n",
    "A foreign key is a column or a set of columns in a database table that refers to the primary key of another table. It establishes a relationship between two tables, known as the parent table (referenced table) and the child table (referring table). Here are some key characteristics of a foreign key:\n",
    "\n",
    "1. Referential Integrity: A foreign key ensures referential integrity, which means that the values in the foreign key column(s) of the child table must match the values in the primary key column(s) of the parent table. It enforces the integrity and consistency of data across related tables.\n",
    "2. Relationship Establishment: The foreign key represents a relationship between tables by creating a link from the child table to the parent table.\n",
    "3. Optional or Mandatory: A foreign key can be optional (nullable) or mandatory (non-nullable) depending on whether it allows null values or not. An optional foreign key can have a null value, indicating that there is no corresponding record in the parent table.\n",
    "\n",
    "By using foreign keys, you can establish relationships and enforce referential integrity between tables. These relationships facilitate data retrieval, data consistency, and data integrity in the database."
   ]
  },
  {
   "cell_type": "markdown",
   "id": "329c7c28-e6ac-4872-87c4-be8c2dbec0ff",
   "metadata": {},
   "source": [
    "## Q6. Write a python code to connect MySQL to python. Explain the cursor() and execute() method."
   ]
  },
  {
   "cell_type": "markdown",
   "id": "e38b2d91-6923-4969-9280-12c8a49dca8e",
   "metadata": {},
   "source": [
    "### Code for connection:\n",
    "\n",
    "import mysql.connector\n",
    "<br>mydb = mysql.connector.connect\n",
    "<br>(\n",
    "<br>host=\"localhost\",\n",
    "<br>user=\"abc\",\n",
    "<br>password=\"password\"\n",
    "<br>)\n",
    "<br>mycursor = mydb.cursor()\n",
    "<br>mycursor.execute(\"CREATE DATABASE if not exists test1\")\n",
    "<br>mydb.close()"
   ]
  },
  {
   "cell_type": "markdown",
   "id": "c952565c-55cd-4fbe-9e3f-aa3b1db54894",
   "metadata": {},
   "source": [
    "#### cursor(): This is used to create a cursor object within the database connection. A cursor represents the control structure that allows you to access and manipulate the database records.It provides methods for executing SQL statements, fetching query results, and managing transactions.\n",
    "\n",
    "#### execute(): This is used to execute an SQL statement or query using the cursor object. It takes an SQL query string as a parameter and sends the query to the database for execution. The method returns a result containing the data retrieved from the database.\n",
    "\n"
   ]
  },
  {
   "cell_type": "markdown",
   "id": "38f3184b-eb01-4e1b-ad79-d39c1d30adca",
   "metadata": {},
   "source": [
    "## Q7. Give the order of execution of SQL clauses in an SQL query."
   ]
  },
  {
   "cell_type": "markdown",
   "id": "9bfb8073-0d14-4167-b4af-bd25202e9bc9",
   "metadata": {},
   "source": [
    "\n",
    "The order of execution of SQL clauses in a typical SQL query is as follows:\n",
    "\n",
    "1. FROM clause: The FROM clause specifies the tables from which the data will be retrieved. It is the first clause that is processed in a query.\n",
    "2. WHERE clause: The WHERE clause is used to filter the data based on specific conditions. It is evaluated after the FROM clause, and only the rows that meet the specified conditions are included in the result set.\n",
    "3. GROUP BY clause: The GROUP BY clause is used to group the rows in the result set based on one or more columns. It is processed after the WHERE clause, and the data is grouped accordingly.\n",
    "4. HAVING clause: The HAVING clause is used to filter the grouped data based on specific conditions. It is similar to the WHERE clause but operates on the grouped data. It is evaluated after the GROUP BY clause, and only the groups that meet the specified conditions are included in the result set.\n",
    "5. SELECT clause: The SELECT clause is used to specify the columns that will be included in the result set. It is processed after the previous clauses, and the data is selected accordingly.\n",
    "6. ORDER BY clause: The ORDER BY clause is used to sort the result set based on one or more columns. It is processed after the SELECT clause, and the data is ordered accordingly.\n",
    "7. LIMIT/OFFSET clause: The LIMIT/OFFSET clause is used to restrict the number of rows returned by the query or to skip a certain number of rows. It is processed after the ORDER BY clause, and the result set is limited or offset accordingly."
   ]
  }
 ],
 "metadata": {
  "kernelspec": {
   "display_name": "Python 3 (ipykernel)",
   "language": "python",
   "name": "python3"
  },
  "language_info": {
   "codemirror_mode": {
    "name": "ipython",
    "version": 3
   },
   "file_extension": ".py",
   "mimetype": "text/x-python",
   "name": "python",
   "nbconvert_exporter": "python",
   "pygments_lexer": "ipython3",
   "version": "3.10.8"
  }
 },
 "nbformat": 4,
 "nbformat_minor": 5
}
